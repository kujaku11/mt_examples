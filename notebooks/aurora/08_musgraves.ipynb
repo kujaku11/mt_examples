{
 "cells": [
  {
   "cell_type": "markdown",
   "id": "91a468e6-b90c-4fbb-9d43-35808e1665fa",
   "metadata": {},
   "source": [
    " "
   ]
  },
  {
   "cell_type": "markdown",
   "id": "31ef1715-2476-47a4-b70f-c971b2118eed",
   "metadata": {},
   "source": [
    "### Gadi path set-up¶"
   ]
  },
  {
   "cell_type": "code",
   "execution_count": 1,
   "id": "a8e362c2-6e8a-4f81-9612-dbc684f042f3",
   "metadata": {},
   "outputs": [],
   "source": [
    "import os\n",
    "import pathlib\n",
    "\n",
    "nci_user_name = \"abc123\"   ### change this to your NCI user name\n",
    "work_path = pathlib.Path(\"/g/data/nm05/workspace/\").joinpath(nci_user_name)\n",
    "musgraves_edis_path = pathlib.Path(\"/g/data/nm05/workshop_data/Musgraves_edis\")\n",
    "\n",
    "### Comment these three lines below, which are here for pre-workshop testing\n",
    "work_path = pathlib.Path().home().joinpath(\"aurora_test_folder\")\n",
    "work_path.mkdir(parents=True, exist_ok=True)\n",
    "musgraves_edis_path = pathlib.Path().home().joinpath(\"software\", \"irismt\", \"mt_examples\", \"data\", \"Musgraves_edis\")\n",
    "\n",
    "os.chdir(work_path)\n",
    "target_folder = work_path"
   ]
  },
  {
   "cell_type": "markdown",
   "id": "a24d8611-195a-478d-9470-2a3ba2e33a7a",
   "metadata": {},
   "source": [
    "# Processing Example: Musgraves Dataset\n",
    "\n",
    "Steps:\n",
    "\n",
    "0. [X] Import packages, set paths, check versions, configure variables\n",
    "1. [X] Review directory structure and interact with the dataset\n",
    "2. [X] Select a test station and remote reference\n",
    "3. [X] Process with aurora (SS)\n",
    "4. [X] Process with aurora RR\n",
    "5. [X] Compare Transfer Functions\n",
    "6. [ ] Run on HPC "
   ]
  },
  {
   "cell_type": "markdown",
   "id": "f569038e-a4f8-47b9-9994-b236fc27c52e",
   "metadata": {},
   "source": [
    "## 0. Import packages"
   ]
  },
  {
   "cell_type": "code",
   "execution_count": 2,
   "id": "aacf50ad-f134-407d-8ae3-7c225fcdde36",
   "metadata": {},
   "outputs": [],
   "source": [
    "import pandas as pd\n",
    "import pathlib\n",
    "import socket\n",
    "import warnings\n",
    "\n",
    "from aurora.config.config_creator import ConfigCreator\n",
    "from aurora.config import BANDS_TEST_FAST_FILE\n",
    "from aurora.general_helper_functions import BAND_SETUP_PATH\n",
    "from aurora.pipelines.process_mth5 import process_mth5\n",
    "from aurora.pipelines.run_summary import RunSummary\n",
    "from aurora.transfer_function.kernel_dataset import KernelDataset\n",
    "from mth5.mth5 import MTH5\n",
    "from mtpy import MT\n",
    "from mtpy import MTData\n",
    "from mt_metadata.transfer_functions.processing.aurora.channel_nomenclature import CHANNEL_MAPS\n",
    "\n",
    "warnings.filterwarnings('ignore')"
   ]
  },
  {
   "cell_type": "markdown",
   "id": "2789a351-c6b4-4cca-8110-420c9fc35adf",
   "metadata": {},
   "source": [
    "### Check versions"
   ]
  },
  {
   "cell_type": "code",
   "execution_count": 3,
   "id": "424b11c8-395b-4d90-b9cd-0cd3649e35b9",
   "metadata": {},
   "outputs": [
    {
     "name": "stdout",
     "output_type": "stream",
     "text": [
      "aurora.__version__ 0.3.11\n",
      "mt_metadata.__version__ 0.3.3\n",
      "mth5.__version__ 0.4.1\n"
     ]
    }
   ],
   "source": [
    "import aurora\n",
    "import mt_metadata\n",
    "import mth5\n",
    "\n",
    "print(f\"aurora.__version__ {aurora.__version__}\")\n",
    "print(f\"mt_metadata.__version__ {mt_metadata.__version__}\")\n",
    "print(f\"mth5.__version__ {mth5.__version__}\")"
   ]
  },
  {
   "cell_type": "markdown",
   "id": "bc5cdfa5-866b-47ea-9d3f-30c0d1643841",
   "metadata": {},
   "source": [
    "### Set some Paths\n",
    "- this is a little overdone"
   ]
  },
  {
   "cell_type": "code",
   "execution_count": 4,
   "id": "51935426-74b3-4ff1-b73b-4d400845cd22",
   "metadata": {},
   "outputs": [
    {
     "name": "stdout",
     "output_type": "stream",
     "text": [
      "hostname: namazu\n"
     ]
    }
   ],
   "source": [
    "hostname = socket.gethostname()\n",
    "print(f\"hostname: {hostname}\")\n",
    "if \"gadi\" in hostname:\n",
    "    my80_path = pathlib.Path(\"/g/data/my80\")\n",
    "elif hostname == \"namazu\":\n",
    "    my80_path = pathlib.Path(\"/home/kkappler/data/gadi/g/data/my80\")\n",
    "    \n",
    "au_scope_mt_collection_path = my80_path.joinpath(\"AuScope_MT_collection\")\n",
    "auslamp_path = au_scope_mt_collection_path.joinpath(\"AuScope_AusLAMP\")\n",
    "musgraves_path = auslamp_path.joinpath(\"Musgraves_APY\")\n",
    "data_dir = musgraves_path\n",
    "assert data_dir.exists()"
   ]
  },
  {
   "cell_type": "markdown",
   "id": "5383ce4f-4acb-4136-87b2-92bc72336d97",
   "metadata": {
    "jp-MarkdownHeadingCollapsed": true
   },
   "source": [
    "## 1. Review Directory Structure:\n",
    "\n",
    "The Musgraves dataset is organized by Territory (NT, SA, WA), and within each territory there are levels 0, 1, and 2. "
   ]
  },
  {
   "cell_type": "raw",
   "id": "7aae7176-0f0c-444f-b61c-7b809adbb3cc",
   "metadata": {},
   "source": [
    "[kk9397@gadi-login-07 Musgraves_APY]$ pwd\n",
    "/g/data/my80/AuScope_MT_collection/AuScope_AusLAMP/Musgraves_APY\n",
    "[kk9397@gadi-login-07 Musgraves_APY]$ tree -L 2\n",
    ".\n",
    "├── license_CCBY4.txt\n",
    "├── NT\n",
    "│   ├── level_0\n",
    "│   ├── level_1\n",
    "│   ├── level_2\n",
    "│   ├── Musgraves_NT_lat_lon.txt\n",
    "│   └── Packed_Raw_Time_Series_Archive\n",
    "├── readme_musgraves.txt\n",
    "├── SA\n",
    "│   ├── level_0\n",
    "│   ├── level_1\n",
    "│   ├── level_2\n",
    "│   ├── Musgraves_SA_lat_lon.txt\n",
    "│   └── Packed_Raw_Time_Series_Archive\n",
    "└── WA\n",
    "    ├── level_0\n",
    "    ├── level_1\n",
    "    ├── level_2\n",
    "    ├── Musgraves_WA_lat_lon.txt\n",
    "    └── Packed_Raw_Time_Series_Archive\n",
    "\n",
    "15 directories, 5 files\n"
   ]
  },
  {
   "cell_type": "markdown",
   "id": "9e275af0-9d69-4899-b455-bbf6d2e84c7f",
   "metadata": {},
   "source": [
    "Use NT as an example to look at the level structure:"
   ]
  },
  {
   "cell_type": "raw",
   "id": "3ad7b9dd-9de6-4cf1-ad18-7e8fc355bfe5",
   "metadata": {},
   "source": [
    "[kk9397@gadi-login-07 NT]$ pwd\n",
    "/g/data/my80/AuScope_MT_collection/AuScope_AusLAMP/Musgraves_APY/NT\n",
    "[kk9397@gadi-login-07 NT]$ tree -L 2\n",
    ".\n",
    "├── level_0\n",
    "│   ├── Concatenated_Time_Series_ASCII_per_day\n",
    "│   ├── Concatenated_Time_Series_ASCII_per_run\n",
    "│   ├── Concatenated_Time_Series_MTH5_per_run\n",
    "│   └── Concatenated_Time_Series_NetCDF_per_day\n",
    "├── level_1\n",
    "│   ├── Concatenated_Resampled_Rotated_Time_Series_MTH5\n",
    "│   └── Concatenated_Resampled_Rotated_Time_Series_NetCDF\n",
    "├── level_2\n",
    "│   └── EDI\n",
    "├── Musgraves_NT_lat_lon.txt\n",
    "└── Packed_Raw_Time_Series_Archive\n",
    "    ├── SA349\n",
    "    └── WANT38\n",
    "\n",
    "13 directories, 1 file\n"
   ]
  },
  {
   "cell_type": "markdown",
   "id": "c9c7c29d-bb6b-4329-abb2-cb118910d78b",
   "metadata": {},
   "source": [
    "There are two folders of interest for this exercise, the MTH5 ones:\n",
    "- level_0/Concatenated_Time_Series_MTH5_per_run\n",
    "- level_1/Concatenated_Resampled_Rotated_Time_Series_MTH5\n",
    "\n",
    "We will abbreviate these as level 0 and 1 for indexing the hdf5s."
   ]
  },
  {
   "cell_type": "code",
   "execution_count": 5,
   "id": "69227886-55e7-4697-a485-36ffbfe5ac77",
   "metadata": {},
   "outputs": [],
   "source": [
    "def get_musgraves_availability_df(data_dir):\n",
    "    \"\"\"\n",
    "    recusively search for h5 files in data_dir, tabulate and return a dataframe\n",
    "    \"\"\"\n",
    "    all_mth5_files = list(data_dir.rglob(\"*h5\"))\n",
    "    num_mth5 = len(all_mth5_files)\n",
    "    print(f\"Found {num_mth5} h5 files\")\n",
    "    levels = num_mth5 * [\"\"]\n",
    "    station_ids = num_mth5 * [\"\"]\n",
    "    territories = num_mth5 * [\"\"]\n",
    "    paths = num_mth5 * [\"\"]\n",
    "\n",
    "    for i_filepath, filepath in enumerate(all_mth5_files):\n",
    "        levels[i_filepath] = str(filepath).split(\"level_\")[1][0]\n",
    "        station_ids[i_filepath] = filepath.stem\n",
    "        territories[i_filepath] = str(filepath).split(\"Musgraves_APY/\")[1][0:2]\n",
    "        paths[i_filepath] = filepath\n",
    "    df_dict = {\"level\": levels, \"territory\": territories, \"station_id\": station_ids, \"path\": paths}\n",
    "    df = pd.DataFrame(data=df_dict)\n",
    "\n",
    "    return df"
   ]
  },
  {
   "cell_type": "code",
   "execution_count": 6,
   "id": "afef0713-3d30-4db0-a0e9-8bfbcafe9923",
   "metadata": {},
   "outputs": [
    {
     "name": "stdout",
     "output_type": "stream",
     "text": [
      "Found 6 h5 files\n"
     ]
    },
    {
     "data": {
      "text/html": [
       "<div>\n",
       "<style scoped>\n",
       "    .dataframe tbody tr th:only-of-type {\n",
       "        vertical-align: middle;\n",
       "    }\n",
       "\n",
       "    .dataframe tbody tr th {\n",
       "        vertical-align: top;\n",
       "    }\n",
       "\n",
       "    .dataframe thead th {\n",
       "        text-align: right;\n",
       "    }\n",
       "</style>\n",
       "<table border=\"1\" class=\"dataframe\">\n",
       "  <thead>\n",
       "    <tr style=\"text-align: right;\">\n",
       "      <th></th>\n",
       "      <th>level</th>\n",
       "      <th>territory</th>\n",
       "      <th>station_id</th>\n",
       "      <th>path</th>\n",
       "    </tr>\n",
       "  </thead>\n",
       "  <tbody>\n",
       "    <tr>\n",
       "      <th>0</th>\n",
       "      <td>1</td>\n",
       "      <td>NT</td>\n",
       "      <td>WANT38</td>\n",
       "      <td>/home/kkappler/data/gadi/g/data/my80/AuScope_M...</td>\n",
       "    </tr>\n",
       "    <tr>\n",
       "      <th>1</th>\n",
       "      <td>1</td>\n",
       "      <td>NT</td>\n",
       "      <td>SA349</td>\n",
       "      <td>/home/kkappler/data/gadi/g/data/my80/AuScope_M...</td>\n",
       "    </tr>\n",
       "    <tr>\n",
       "      <th>2</th>\n",
       "      <td>1</td>\n",
       "      <td>SA</td>\n",
       "      <td>SA225-2</td>\n",
       "      <td>/home/kkappler/data/gadi/g/data/my80/AuScope_M...</td>\n",
       "    </tr>\n",
       "    <tr>\n",
       "      <th>3</th>\n",
       "      <td>1</td>\n",
       "      <td>SA</td>\n",
       "      <td>SA275</td>\n",
       "      <td>/home/kkappler/data/gadi/g/data/my80/AuScope_M...</td>\n",
       "    </tr>\n",
       "    <tr>\n",
       "      <th>4</th>\n",
       "      <td>1</td>\n",
       "      <td>SA</td>\n",
       "      <td>SA300</td>\n",
       "      <td>/home/kkappler/data/gadi/g/data/my80/AuScope_M...</td>\n",
       "    </tr>\n",
       "    <tr>\n",
       "      <th>5</th>\n",
       "      <td>1</td>\n",
       "      <td>SA</td>\n",
       "      <td>SA227</td>\n",
       "      <td>/home/kkappler/data/gadi/g/data/my80/AuScope_M...</td>\n",
       "    </tr>\n",
       "  </tbody>\n",
       "</table>\n",
       "</div>"
      ],
      "text/plain": [
       "  level territory station_id  \\\n",
       "0     1        NT     WANT38   \n",
       "1     1        NT      SA349   \n",
       "2     1        SA    SA225-2   \n",
       "3     1        SA      SA275   \n",
       "4     1        SA      SA300   \n",
       "5     1        SA      SA227   \n",
       "\n",
       "                                                path  \n",
       "0  /home/kkappler/data/gadi/g/data/my80/AuScope_M...  \n",
       "1  /home/kkappler/data/gadi/g/data/my80/AuScope_M...  \n",
       "2  /home/kkappler/data/gadi/g/data/my80/AuScope_M...  \n",
       "3  /home/kkappler/data/gadi/g/data/my80/AuScope_M...  \n",
       "4  /home/kkappler/data/gadi/g/data/my80/AuScope_M...  \n",
       "5  /home/kkappler/data/gadi/g/data/my80/AuScope_M...  "
      ]
     },
     "execution_count": 6,
     "metadata": {},
     "output_type": "execute_result"
    }
   ],
   "source": [
    "availability_df = get_musgraves_availability_df(data_dir)\n",
    "availability_df"
   ]
  },
  {
   "cell_type": "markdown",
   "id": "a07f9528-bfce-47c5-8f7d-ebacd0b38854",
   "metadata": {
    "jp-MarkdownHeadingCollapsed": true
   },
   "source": [
    "### Or ... Use pathlinb to index the hd5 files\n"
   ]
  },
  {
   "cell_type": "code",
   "execution_count": 7,
   "id": "e4d6cc68-2c39-481f-95ef-cc0d167242cc",
   "metadata": {},
   "outputs": [],
   "source": [
    "all_mth5_files = data_dir.rglob(\"*h5\")\n",
    "all_mth5_files_list = list(all_mth5_files)"
   ]
  },
  {
   "cell_type": "code",
   "execution_count": 8,
   "id": "3c54dc4a-1d8b-40b5-a15b-b62da8b2159a",
   "metadata": {},
   "outputs": [
    {
     "name": "stdout",
     "output_type": "stream",
     "text": [
      "Found 6 h5 files\n"
     ]
    }
   ],
   "source": [
    "num_mth5 = len(all_mth5_files_list)\n",
    "print(f\"Found {num_mth5} h5 files\")\n",
    "# print(list(all_mth5_files))"
   ]
  },
  {
   "cell_type": "markdown",
   "id": "d8494c6c-f25b-4a60-8e09-5de3808d9421",
   "metadata": {
    "jp-MarkdownHeadingCollapsed": true
   },
   "source": [
    "### Make a table of these files, extracting reference properties: \"level\", \"territory\", \"station_id\""
   ]
  },
  {
   "cell_type": "code",
   "execution_count": 9,
   "id": "f874c3d9-b022-448d-9c63-995d13a770f2",
   "metadata": {},
   "outputs": [],
   "source": [
    "levels = num_mth5 * [\"\"]\n",
    "station_ids = num_mth5 * [\"\"]\n",
    "territories = num_mth5 * [\"\"]\n",
    "paths = num_mth5 * [\"\"]\n",
    "\n",
    "for i_filepath, filepath in enumerate(all_mth5_files_list):\n",
    "    levels[i_filepath] = str(filepath).split(\"level_\")[1][0]\n",
    "    station_ids[i_filepath] = filepath.stem\n",
    "    territories[i_filepath] = str(filepath).split(\"Musgraves_APY/\")[1][0:2]\n",
    "    paths[i_filepath] = filepath"
   ]
  },
  {
   "cell_type": "code",
   "execution_count": 10,
   "id": "bcd1432a-b274-4228-8709-fb3447842e70",
   "metadata": {},
   "outputs": [
    {
     "data": {
      "text/html": [
       "<div>\n",
       "<style scoped>\n",
       "    .dataframe tbody tr th:only-of-type {\n",
       "        vertical-align: middle;\n",
       "    }\n",
       "\n",
       "    .dataframe tbody tr th {\n",
       "        vertical-align: top;\n",
       "    }\n",
       "\n",
       "    .dataframe thead th {\n",
       "        text-align: right;\n",
       "    }\n",
       "</style>\n",
       "<table border=\"1\" class=\"dataframe\">\n",
       "  <thead>\n",
       "    <tr style=\"text-align: right;\">\n",
       "      <th></th>\n",
       "      <th>level</th>\n",
       "      <th>territory</th>\n",
       "      <th>station_id</th>\n",
       "      <th>path</th>\n",
       "    </tr>\n",
       "  </thead>\n",
       "  <tbody>\n",
       "    <tr>\n",
       "      <th>0</th>\n",
       "      <td>1</td>\n",
       "      <td>NT</td>\n",
       "      <td>WANT38</td>\n",
       "      <td>/home/kkappler/data/gadi/g/data/my80/AuScope_M...</td>\n",
       "    </tr>\n",
       "    <tr>\n",
       "      <th>1</th>\n",
       "      <td>1</td>\n",
       "      <td>NT</td>\n",
       "      <td>SA349</td>\n",
       "      <td>/home/kkappler/data/gadi/g/data/my80/AuScope_M...</td>\n",
       "    </tr>\n",
       "    <tr>\n",
       "      <th>2</th>\n",
       "      <td>1</td>\n",
       "      <td>SA</td>\n",
       "      <td>SA225-2</td>\n",
       "      <td>/home/kkappler/data/gadi/g/data/my80/AuScope_M...</td>\n",
       "    </tr>\n",
       "    <tr>\n",
       "      <th>3</th>\n",
       "      <td>1</td>\n",
       "      <td>SA</td>\n",
       "      <td>SA275</td>\n",
       "      <td>/home/kkappler/data/gadi/g/data/my80/AuScope_M...</td>\n",
       "    </tr>\n",
       "    <tr>\n",
       "      <th>4</th>\n",
       "      <td>1</td>\n",
       "      <td>SA</td>\n",
       "      <td>SA300</td>\n",
       "      <td>/home/kkappler/data/gadi/g/data/my80/AuScope_M...</td>\n",
       "    </tr>\n",
       "    <tr>\n",
       "      <th>5</th>\n",
       "      <td>1</td>\n",
       "      <td>SA</td>\n",
       "      <td>SA227</td>\n",
       "      <td>/home/kkappler/data/gadi/g/data/my80/AuScope_M...</td>\n",
       "    </tr>\n",
       "  </tbody>\n",
       "</table>\n",
       "</div>"
      ],
      "text/plain": [
       "  level territory station_id  \\\n",
       "0     1        NT     WANT38   \n",
       "1     1        NT      SA349   \n",
       "2     1        SA    SA225-2   \n",
       "3     1        SA      SA275   \n",
       "4     1        SA      SA300   \n",
       "5     1        SA      SA227   \n",
       "\n",
       "                                                path  \n",
       "0  /home/kkappler/data/gadi/g/data/my80/AuScope_M...  \n",
       "1  /home/kkappler/data/gadi/g/data/my80/AuScope_M...  \n",
       "2  /home/kkappler/data/gadi/g/data/my80/AuScope_M...  \n",
       "3  /home/kkappler/data/gadi/g/data/my80/AuScope_M...  \n",
       "4  /home/kkappler/data/gadi/g/data/my80/AuScope_M...  \n",
       "5  /home/kkappler/data/gadi/g/data/my80/AuScope_M...  "
      ]
     },
     "execution_count": 10,
     "metadata": {},
     "output_type": "execute_result"
    }
   ],
   "source": [
    "df_dict = {\"level\":levels, \"territory\":territories, \"station_id\": station_ids, \"path\":paths}\n",
    "df = pd.DataFrame(data=df_dict)\n",
    "df"
   ]
  },
  {
   "cell_type": "markdown",
   "id": "3dd2ae2a-77a6-43b3-a48a-69e575790191",
   "metadata": {},
   "source": [
    "### Take a look at the distribution of the data"
   ]
  },
  {
   "cell_type": "code",
   "execution_count": 11,
   "id": "3703e70a-3b0c-43d4-8798-e62971c26a04",
   "metadata": {},
   "outputs": [
    {
     "data": {
      "text/plain": [
       "level  territory\n",
       "1      SA           4\n",
       "       NT           2\n",
       "Name: count, dtype: int64"
      ]
     },
     "execution_count": 11,
     "metadata": {},
     "output_type": "execute_result"
    }
   ],
   "source": [
    "df[[\"level\", \"territory\",]].value_counts()"
   ]
  },
  {
   "cell_type": "markdown",
   "id": "190d9d27-63e4-4878-9412-9b0819397672",
   "metadata": {},
   "source": [
    "### Northern Territory (NT) has only two stations so we can use it for some testing"
   ]
  },
  {
   "cell_type": "code",
   "execution_count": 12,
   "id": "9b9ba4d4-6161-460e-8e21-980f61299162",
   "metadata": {},
   "outputs": [
    {
     "data": {
      "text/html": [
       "<div>\n",
       "<style scoped>\n",
       "    .dataframe tbody tr th:only-of-type {\n",
       "        vertical-align: middle;\n",
       "    }\n",
       "\n",
       "    .dataframe tbody tr th {\n",
       "        vertical-align: top;\n",
       "    }\n",
       "\n",
       "    .dataframe thead th {\n",
       "        text-align: right;\n",
       "    }\n",
       "</style>\n",
       "<table border=\"1\" class=\"dataframe\">\n",
       "  <thead>\n",
       "    <tr style=\"text-align: right;\">\n",
       "      <th></th>\n",
       "      <th>level</th>\n",
       "      <th>territory</th>\n",
       "      <th>station_id</th>\n",
       "      <th>path</th>\n",
       "    </tr>\n",
       "  </thead>\n",
       "  <tbody>\n",
       "    <tr>\n",
       "      <th>0</th>\n",
       "      <td>1</td>\n",
       "      <td>NT</td>\n",
       "      <td>WANT38</td>\n",
       "      <td>/home/kkappler/data/gadi/g/data/my80/AuScope_M...</td>\n",
       "    </tr>\n",
       "    <tr>\n",
       "      <th>1</th>\n",
       "      <td>1</td>\n",
       "      <td>NT</td>\n",
       "      <td>SA349</td>\n",
       "      <td>/home/kkappler/data/gadi/g/data/my80/AuScope_M...</td>\n",
       "    </tr>\n",
       "  </tbody>\n",
       "</table>\n",
       "</div>"
      ],
      "text/plain": [
       "  level territory station_id  \\\n",
       "0     1        NT     WANT38   \n",
       "1     1        NT      SA349   \n",
       "\n",
       "                                                path  \n",
       "0  /home/kkappler/data/gadi/g/data/my80/AuScope_M...  \n",
       "1  /home/kkappler/data/gadi/g/data/my80/AuScope_M...  "
      ]
     },
     "execution_count": 12,
     "metadata": {},
     "output_type": "execute_result"
    }
   ],
   "source": [
    "nt_df = df[(df.territory==\"NT\") & (df.level==\"1\")]\n",
    "nt_df"
   ]
  },
  {
   "cell_type": "markdown",
   "id": "ce56a1e6-94e8-4e60-a223-75034e325eac",
   "metadata": {},
   "source": [
    "### Open the mth5 files using a dict for tracking who's who"
   ]
  },
  {
   "cell_type": "code",
   "execution_count": 13,
   "id": "2767de5f-594a-4037-98ff-61daa3343df9",
   "metadata": {},
   "outputs": [],
   "source": [
    "mth5_objs = {x:MTH5() for x in nt_df.station_id}\n"
   ]
  },
  {
   "cell_type": "code",
   "execution_count": 14,
   "id": "029a1d18-2f53-40c6-aa47-302c8b9302db",
   "metadata": {},
   "outputs": [],
   "source": [
    "for i, row in nt_df.iterrows():\n",
    "    mth5_objs[row.station_id].open_mth5(row.path, \"r\")"
   ]
  },
  {
   "cell_type": "markdown",
   "id": "525464bf-55e1-46f2-b30c-e5cb43b76b5a",
   "metadata": {},
   "source": [
    "### Take a gander at the structure"
   ]
  },
  {
   "cell_type": "code",
   "execution_count": 15,
   "id": "28ed27bd-58ee-4e26-900d-a3e2d87a9ad1",
   "metadata": {
    "tags": []
   },
   "outputs": [
    {
     "data": {
      "text/plain": [
       "/:\n",
       "====================\n",
       "    |- Group: Experiment\n",
       "    --------------------\n",
       "        |- Group: Reports\n",
       "        -----------------\n",
       "        |- Group: Standards\n",
       "        -------------------\n",
       "            --> Dataset: summary\n",
       "            ......................\n",
       "        |- Group: Surveys\n",
       "        -----------------\n",
       "            |- Group: AusLAMP_Musgraves\n",
       "            ---------------------------\n",
       "                |- Group: Filters\n",
       "                -----------------\n",
       "                    |- Group: coefficient\n",
       "                    ---------------------\n",
       "                        |- Group: bz_adjustment\n",
       "                        -----------------------\n",
       "                        |- Group: gain_b\n",
       "                        ----------------\n",
       "                        |- Group: gain_e\n",
       "                        ----------------\n",
       "                        |- Group: gain_eonly\n",
       "                        --------------------\n",
       "                    |- Group: fap\n",
       "                    -------------\n",
       "                    |- Group: fir\n",
       "                    -------------\n",
       "                    |- Group: time_delay\n",
       "                    --------------------\n",
       "                    |- Group: zpk\n",
       "                    -------------\n",
       "                |- Group: Reports\n",
       "                -----------------\n",
       "                |- Group: Standards\n",
       "                -------------------\n",
       "                    --> Dataset: summary\n",
       "                    ......................\n",
       "                |- Group: Stations\n",
       "                ------------------\n",
       "                    |- Group: SA349\n",
       "                    ---------------\n",
       "                        |- Group: 001\n",
       "                        -------------\n",
       "                            --> Dataset: bx\n",
       "                            .................\n",
       "                            --> Dataset: by\n",
       "                            .................\n",
       "                            --> Dataset: bz\n",
       "                            .................\n",
       "                            --> Dataset: ex\n",
       "                            .................\n",
       "                            --> Dataset: ey\n",
       "                            .................\n",
       "                        |- Group: Transfer_Functions\n",
       "                        ----------------------------\n",
       "        --> Dataset: channel_summary\n",
       "        ..............................\n",
       "        --> Dataset: tf_summary\n",
       "        ........................."
      ]
     },
     "execution_count": 15,
     "metadata": {},
     "output_type": "execute_result"
    }
   ],
   "source": [
    "mth5_objs[\"SA349\"]"
   ]
  },
  {
   "cell_type": "markdown",
   "id": "61247bdb-3a33-45be-b9fa-adf89e1a89ea",
   "metadata": {},
   "source": [
    "### Looks like just one run here"
   ]
  },
  {
   "cell_type": "code",
   "execution_count": 16,
   "id": "530aaad9-e04e-4e04-b64b-e2385c90b3f2",
   "metadata": {
    "tags": []
   },
   "outputs": [
    {
     "data": {
      "text/plain": [
       "/:\n",
       "====================\n",
       "    |- Group: Experiment\n",
       "    --------------------\n",
       "        |- Group: Reports\n",
       "        -----------------\n",
       "        |- Group: Standards\n",
       "        -------------------\n",
       "            --> Dataset: summary\n",
       "            ......................\n",
       "        |- Group: Surveys\n",
       "        -----------------\n",
       "            |- Group: AusLAMP_Musgraves\n",
       "            ---------------------------\n",
       "                |- Group: Filters\n",
       "                -----------------\n",
       "                    |- Group: coefficient\n",
       "                    ---------------------\n",
       "                        |- Group: bz_adjustment\n",
       "                        -----------------------\n",
       "                        |- Group: gain_b\n",
       "                        ----------------\n",
       "                        |- Group: gain_e\n",
       "                        ----------------\n",
       "                        |- Group: gain_eonly\n",
       "                        --------------------\n",
       "                    |- Group: fap\n",
       "                    -------------\n",
       "                    |- Group: fir\n",
       "                    -------------\n",
       "                    |- Group: time_delay\n",
       "                    --------------------\n",
       "                    |- Group: zpk\n",
       "                    -------------\n",
       "                |- Group: Reports\n",
       "                -----------------\n",
       "                |- Group: Standards\n",
       "                -------------------\n",
       "                    --> Dataset: summary\n",
       "                    ......................\n",
       "                |- Group: Stations\n",
       "                ------------------\n",
       "                    |- Group: WANT38\n",
       "                    ----------------\n",
       "                        |- Group: 001\n",
       "                        -------------\n",
       "                            --> Dataset: bx\n",
       "                            .................\n",
       "                            --> Dataset: by\n",
       "                            .................\n",
       "                            --> Dataset: bz\n",
       "                            .................\n",
       "                            --> Dataset: ex\n",
       "                            .................\n",
       "                            --> Dataset: ey\n",
       "                            .................\n",
       "                        |- Group: Transfer_Functions\n",
       "                        ----------------------------\n",
       "        --> Dataset: channel_summary\n",
       "        ..............................\n",
       "        --> Dataset: tf_summary\n",
       "        ........................."
      ]
     },
     "execution_count": 16,
     "metadata": {},
     "output_type": "execute_result"
    }
   ],
   "source": [
    "mth5_objs[\"WANT38\"]"
   ]
  },
  {
   "cell_type": "code",
   "execution_count": 17,
   "id": "01549dff-fccb-4c58-830e-9c805e3b75ea",
   "metadata": {},
   "outputs": [],
   "source": [
    "channel_summaries = {}\n",
    "for station_id, mth5_obj in mth5_objs.items():\n",
    "    channel_summary_df = mth5_obj.channel_summary.to_dataframe()\n",
    "    channel_summaries[station_id] = channel_summary_df"
   ]
  },
  {
   "cell_type": "code",
   "execution_count": 18,
   "id": "a41f6244-278b-4841-86ee-8148266d3648",
   "metadata": {},
   "outputs": [
    {
     "data": {
      "text/html": [
       "<div>\n",
       "<style scoped>\n",
       "    .dataframe tbody tr th:only-of-type {\n",
       "        vertical-align: middle;\n",
       "    }\n",
       "\n",
       "    .dataframe tbody tr th {\n",
       "        vertical-align: top;\n",
       "    }\n",
       "\n",
       "    .dataframe thead th {\n",
       "        text-align: right;\n",
       "    }\n",
       "</style>\n",
       "<table border=\"1\" class=\"dataframe\">\n",
       "  <thead>\n",
       "    <tr style=\"text-align: right;\">\n",
       "      <th></th>\n",
       "      <th>survey</th>\n",
       "      <th>station</th>\n",
       "      <th>run</th>\n",
       "      <th>latitude</th>\n",
       "      <th>longitude</th>\n",
       "      <th>elevation</th>\n",
       "      <th>component</th>\n",
       "      <th>start</th>\n",
       "      <th>end</th>\n",
       "      <th>n_samples</th>\n",
       "      <th>sample_rate</th>\n",
       "      <th>measurement_type</th>\n",
       "      <th>azimuth</th>\n",
       "      <th>tilt</th>\n",
       "      <th>units</th>\n",
       "      <th>hdf5_reference</th>\n",
       "      <th>run_hdf5_reference</th>\n",
       "      <th>station_hdf5_reference</th>\n",
       "    </tr>\n",
       "  </thead>\n",
       "  <tbody>\n",
       "    <tr>\n",
       "      <th>0</th>\n",
       "      <td>none</td>\n",
       "      <td>SA349</td>\n",
       "      <td>1</td>\n",
       "      <td>-25.99472</td>\n",
       "      <td>130.49991</td>\n",
       "      <td>646.0</td>\n",
       "      <td>bx</td>\n",
       "      <td>2017-08-20 00:00:00+00:00</td>\n",
       "      <td>2017-10-18 23:59:59.999999+00:00</td>\n",
       "      <td>5184000</td>\n",
       "      <td>1.0</td>\n",
       "      <td>magnetic</td>\n",
       "      <td>0.0</td>\n",
       "      <td>0.0</td>\n",
       "      <td>nT</td>\n",
       "      <td>&lt;HDF5 object reference&gt;</td>\n",
       "      <td>&lt;HDF5 object reference&gt;</td>\n",
       "      <td>&lt;HDF5 object reference&gt;</td>\n",
       "    </tr>\n",
       "    <tr>\n",
       "      <th>1</th>\n",
       "      <td>none</td>\n",
       "      <td>SA349</td>\n",
       "      <td>1</td>\n",
       "      <td>-25.99472</td>\n",
       "      <td>130.49991</td>\n",
       "      <td>646.0</td>\n",
       "      <td>by</td>\n",
       "      <td>2017-08-20 00:00:00+00:00</td>\n",
       "      <td>2017-10-18 23:59:59.999999+00:00</td>\n",
       "      <td>5184000</td>\n",
       "      <td>1.0</td>\n",
       "      <td>magnetic</td>\n",
       "      <td>90.0</td>\n",
       "      <td>0.0</td>\n",
       "      <td>nT</td>\n",
       "      <td>&lt;HDF5 object reference&gt;</td>\n",
       "      <td>&lt;HDF5 object reference&gt;</td>\n",
       "      <td>&lt;HDF5 object reference&gt;</td>\n",
       "    </tr>\n",
       "    <tr>\n",
       "      <th>2</th>\n",
       "      <td>none</td>\n",
       "      <td>SA349</td>\n",
       "      <td>1</td>\n",
       "      <td>-25.99472</td>\n",
       "      <td>130.49991</td>\n",
       "      <td>646.0</td>\n",
       "      <td>bz</td>\n",
       "      <td>2017-08-20 00:00:00+00:00</td>\n",
       "      <td>2017-10-18 23:59:59.999999+00:00</td>\n",
       "      <td>5184000</td>\n",
       "      <td>1.0</td>\n",
       "      <td>magnetic</td>\n",
       "      <td>0.0</td>\n",
       "      <td>0.0</td>\n",
       "      <td>nT</td>\n",
       "      <td>&lt;HDF5 object reference&gt;</td>\n",
       "      <td>&lt;HDF5 object reference&gt;</td>\n",
       "      <td>&lt;HDF5 object reference&gt;</td>\n",
       "    </tr>\n",
       "    <tr>\n",
       "      <th>3</th>\n",
       "      <td>none</td>\n",
       "      <td>SA349</td>\n",
       "      <td>1</td>\n",
       "      <td>-25.99472</td>\n",
       "      <td>130.49991</td>\n",
       "      <td>646.0</td>\n",
       "      <td>ex</td>\n",
       "      <td>2017-08-20 00:00:00+00:00</td>\n",
       "      <td>2017-10-18 23:59:59.999999+00:00</td>\n",
       "      <td>5184000</td>\n",
       "      <td>1.0</td>\n",
       "      <td>electric</td>\n",
       "      <td>0.0</td>\n",
       "      <td>0.0</td>\n",
       "      <td>mV/m</td>\n",
       "      <td>&lt;HDF5 object reference&gt;</td>\n",
       "      <td>&lt;HDF5 object reference&gt;</td>\n",
       "      <td>&lt;HDF5 object reference&gt;</td>\n",
       "    </tr>\n",
       "    <tr>\n",
       "      <th>4</th>\n",
       "      <td>none</td>\n",
       "      <td>SA349</td>\n",
       "      <td>1</td>\n",
       "      <td>-25.99472</td>\n",
       "      <td>130.49991</td>\n",
       "      <td>646.0</td>\n",
       "      <td>ey</td>\n",
       "      <td>2017-08-20 00:00:00+00:00</td>\n",
       "      <td>2017-10-18 23:59:59.999999+00:00</td>\n",
       "      <td>5184000</td>\n",
       "      <td>1.0</td>\n",
       "      <td>electric</td>\n",
       "      <td>90.0</td>\n",
       "      <td>0.0</td>\n",
       "      <td>mV/m</td>\n",
       "      <td>&lt;HDF5 object reference&gt;</td>\n",
       "      <td>&lt;HDF5 object reference&gt;</td>\n",
       "      <td>&lt;HDF5 object reference&gt;</td>\n",
       "    </tr>\n",
       "  </tbody>\n",
       "</table>\n",
       "</div>"
      ],
      "text/plain": [
       "  survey station run  latitude  longitude  elevation component  \\\n",
       "0   none   SA349   1 -25.99472  130.49991      646.0        bx   \n",
       "1   none   SA349   1 -25.99472  130.49991      646.0        by   \n",
       "2   none   SA349   1 -25.99472  130.49991      646.0        bz   \n",
       "3   none   SA349   1 -25.99472  130.49991      646.0        ex   \n",
       "4   none   SA349   1 -25.99472  130.49991      646.0        ey   \n",
       "\n",
       "                      start                              end  n_samples  \\\n",
       "0 2017-08-20 00:00:00+00:00 2017-10-18 23:59:59.999999+00:00    5184000   \n",
       "1 2017-08-20 00:00:00+00:00 2017-10-18 23:59:59.999999+00:00    5184000   \n",
       "2 2017-08-20 00:00:00+00:00 2017-10-18 23:59:59.999999+00:00    5184000   \n",
       "3 2017-08-20 00:00:00+00:00 2017-10-18 23:59:59.999999+00:00    5184000   \n",
       "4 2017-08-20 00:00:00+00:00 2017-10-18 23:59:59.999999+00:00    5184000   \n",
       "\n",
       "   sample_rate measurement_type  azimuth  tilt units           hdf5_reference  \\\n",
       "0          1.0         magnetic      0.0   0.0    nT  <HDF5 object reference>   \n",
       "1          1.0         magnetic     90.0   0.0    nT  <HDF5 object reference>   \n",
       "2          1.0         magnetic      0.0   0.0    nT  <HDF5 object reference>   \n",
       "3          1.0         electric      0.0   0.0  mV/m  <HDF5 object reference>   \n",
       "4          1.0         electric     90.0   0.0  mV/m  <HDF5 object reference>   \n",
       "\n",
       "        run_hdf5_reference   station_hdf5_reference  \n",
       "0  <HDF5 object reference>  <HDF5 object reference>  \n",
       "1  <HDF5 object reference>  <HDF5 object reference>  \n",
       "2  <HDF5 object reference>  <HDF5 object reference>  \n",
       "3  <HDF5 object reference>  <HDF5 object reference>  \n",
       "4  <HDF5 object reference>  <HDF5 object reference>  "
      ]
     },
     "execution_count": 18,
     "metadata": {},
     "output_type": "execute_result"
    }
   ],
   "source": [
    "channel_summaries[\"SA349\"]"
   ]
  },
  {
   "cell_type": "code",
   "execution_count": 19,
   "id": "e35e17a3-7963-40cd-ac8b-ce2fc212fd76",
   "metadata": {},
   "outputs": [
    {
     "data": {
      "text/html": [
       "<div>\n",
       "<style scoped>\n",
       "    .dataframe tbody tr th:only-of-type {\n",
       "        vertical-align: middle;\n",
       "    }\n",
       "\n",
       "    .dataframe tbody tr th {\n",
       "        vertical-align: top;\n",
       "    }\n",
       "\n",
       "    .dataframe thead th {\n",
       "        text-align: right;\n",
       "    }\n",
       "</style>\n",
       "<table border=\"1\" class=\"dataframe\">\n",
       "  <thead>\n",
       "    <tr style=\"text-align: right;\">\n",
       "      <th></th>\n",
       "      <th>survey</th>\n",
       "      <th>station</th>\n",
       "      <th>run</th>\n",
       "      <th>latitude</th>\n",
       "      <th>longitude</th>\n",
       "      <th>elevation</th>\n",
       "      <th>component</th>\n",
       "      <th>start</th>\n",
       "      <th>end</th>\n",
       "      <th>n_samples</th>\n",
       "      <th>sample_rate</th>\n",
       "      <th>measurement_type</th>\n",
       "      <th>azimuth</th>\n",
       "      <th>tilt</th>\n",
       "      <th>units</th>\n",
       "      <th>hdf5_reference</th>\n",
       "      <th>run_hdf5_reference</th>\n",
       "      <th>station_hdf5_reference</th>\n",
       "    </tr>\n",
       "  </thead>\n",
       "  <tbody>\n",
       "    <tr>\n",
       "      <th>0</th>\n",
       "      <td>none</td>\n",
       "      <td>WANT38</td>\n",
       "      <td>1</td>\n",
       "      <td>-25.00617</td>\n",
       "      <td>129.00358</td>\n",
       "      <td>731.0</td>\n",
       "      <td>bx</td>\n",
       "      <td>2016-10-25 00:00:00+00:00</td>\n",
       "      <td>2016-11-14 23:59:59.999999+00:00</td>\n",
       "      <td>1814400</td>\n",
       "      <td>1.0</td>\n",
       "      <td>magnetic</td>\n",
       "      <td>0.0</td>\n",
       "      <td>0.0</td>\n",
       "      <td>nT</td>\n",
       "      <td>&lt;HDF5 object reference&gt;</td>\n",
       "      <td>&lt;HDF5 object reference&gt;</td>\n",
       "      <td>&lt;HDF5 object reference&gt;</td>\n",
       "    </tr>\n",
       "    <tr>\n",
       "      <th>1</th>\n",
       "      <td>none</td>\n",
       "      <td>WANT38</td>\n",
       "      <td>1</td>\n",
       "      <td>-25.00617</td>\n",
       "      <td>129.00358</td>\n",
       "      <td>731.0</td>\n",
       "      <td>by</td>\n",
       "      <td>2016-10-25 00:00:00+00:00</td>\n",
       "      <td>2016-11-14 23:59:59.999999+00:00</td>\n",
       "      <td>1814400</td>\n",
       "      <td>1.0</td>\n",
       "      <td>magnetic</td>\n",
       "      <td>90.0</td>\n",
       "      <td>0.0</td>\n",
       "      <td>nT</td>\n",
       "      <td>&lt;HDF5 object reference&gt;</td>\n",
       "      <td>&lt;HDF5 object reference&gt;</td>\n",
       "      <td>&lt;HDF5 object reference&gt;</td>\n",
       "    </tr>\n",
       "    <tr>\n",
       "      <th>2</th>\n",
       "      <td>none</td>\n",
       "      <td>WANT38</td>\n",
       "      <td>1</td>\n",
       "      <td>-25.00617</td>\n",
       "      <td>129.00358</td>\n",
       "      <td>731.0</td>\n",
       "      <td>bz</td>\n",
       "      <td>2016-10-25 00:00:00+00:00</td>\n",
       "      <td>2016-11-14 23:59:59.999999+00:00</td>\n",
       "      <td>1814400</td>\n",
       "      <td>1.0</td>\n",
       "      <td>magnetic</td>\n",
       "      <td>0.0</td>\n",
       "      <td>0.0</td>\n",
       "      <td>nT</td>\n",
       "      <td>&lt;HDF5 object reference&gt;</td>\n",
       "      <td>&lt;HDF5 object reference&gt;</td>\n",
       "      <td>&lt;HDF5 object reference&gt;</td>\n",
       "    </tr>\n",
       "    <tr>\n",
       "      <th>3</th>\n",
       "      <td>none</td>\n",
       "      <td>WANT38</td>\n",
       "      <td>1</td>\n",
       "      <td>-25.00617</td>\n",
       "      <td>129.00358</td>\n",
       "      <td>731.0</td>\n",
       "      <td>ex</td>\n",
       "      <td>2016-10-25 00:00:00+00:00</td>\n",
       "      <td>2016-11-14 23:59:59.999999+00:00</td>\n",
       "      <td>1814400</td>\n",
       "      <td>1.0</td>\n",
       "      <td>electric</td>\n",
       "      <td>0.0</td>\n",
       "      <td>0.0</td>\n",
       "      <td>mV/m</td>\n",
       "      <td>&lt;HDF5 object reference&gt;</td>\n",
       "      <td>&lt;HDF5 object reference&gt;</td>\n",
       "      <td>&lt;HDF5 object reference&gt;</td>\n",
       "    </tr>\n",
       "    <tr>\n",
       "      <th>4</th>\n",
       "      <td>none</td>\n",
       "      <td>WANT38</td>\n",
       "      <td>1</td>\n",
       "      <td>-25.00617</td>\n",
       "      <td>129.00358</td>\n",
       "      <td>731.0</td>\n",
       "      <td>ey</td>\n",
       "      <td>2016-10-25 00:00:00+00:00</td>\n",
       "      <td>2016-11-14 23:59:59.999999+00:00</td>\n",
       "      <td>1814400</td>\n",
       "      <td>1.0</td>\n",
       "      <td>electric</td>\n",
       "      <td>90.0</td>\n",
       "      <td>0.0</td>\n",
       "      <td>mV/m</td>\n",
       "      <td>&lt;HDF5 object reference&gt;</td>\n",
       "      <td>&lt;HDF5 object reference&gt;</td>\n",
       "      <td>&lt;HDF5 object reference&gt;</td>\n",
       "    </tr>\n",
       "  </tbody>\n",
       "</table>\n",
       "</div>"
      ],
      "text/plain": [
       "  survey station run  latitude  longitude  elevation component  \\\n",
       "0   none  WANT38   1 -25.00617  129.00358      731.0        bx   \n",
       "1   none  WANT38   1 -25.00617  129.00358      731.0        by   \n",
       "2   none  WANT38   1 -25.00617  129.00358      731.0        bz   \n",
       "3   none  WANT38   1 -25.00617  129.00358      731.0        ex   \n",
       "4   none  WANT38   1 -25.00617  129.00358      731.0        ey   \n",
       "\n",
       "                      start                              end  n_samples  \\\n",
       "0 2016-10-25 00:00:00+00:00 2016-11-14 23:59:59.999999+00:00    1814400   \n",
       "1 2016-10-25 00:00:00+00:00 2016-11-14 23:59:59.999999+00:00    1814400   \n",
       "2 2016-10-25 00:00:00+00:00 2016-11-14 23:59:59.999999+00:00    1814400   \n",
       "3 2016-10-25 00:00:00+00:00 2016-11-14 23:59:59.999999+00:00    1814400   \n",
       "4 2016-10-25 00:00:00+00:00 2016-11-14 23:59:59.999999+00:00    1814400   \n",
       "\n",
       "   sample_rate measurement_type  azimuth  tilt units           hdf5_reference  \\\n",
       "0          1.0         magnetic      0.0   0.0    nT  <HDF5 object reference>   \n",
       "1          1.0         magnetic     90.0   0.0    nT  <HDF5 object reference>   \n",
       "2          1.0         magnetic      0.0   0.0    nT  <HDF5 object reference>   \n",
       "3          1.0         electric      0.0   0.0  mV/m  <HDF5 object reference>   \n",
       "4          1.0         electric     90.0   0.0  mV/m  <HDF5 object reference>   \n",
       "\n",
       "        run_hdf5_reference   station_hdf5_reference  \n",
       "0  <HDF5 object reference>  <HDF5 object reference>  \n",
       "1  <HDF5 object reference>  <HDF5 object reference>  \n",
       "2  <HDF5 object reference>  <HDF5 object reference>  \n",
       "3  <HDF5 object reference>  <HDF5 object reference>  \n",
       "4  <HDF5 object reference>  <HDF5 object reference>  "
      ]
     },
     "execution_count": 19,
     "metadata": {},
     "output_type": "execute_result"
    }
   ],
   "source": [
    "channel_summaries[\"WANT38\"]"
   ]
  },
  {
   "cell_type": "markdown",
   "id": "ccf313b6-d956-4dfc-9fba-ff77c32e84c2",
   "metadata": {},
   "source": [
    "We can see that SA349 is from 2017, and WANT38 is from 2016, so we cannot do RR processing here."
   ]
  },
  {
   "cell_type": "code",
   "execution_count": 20,
   "id": "6030f4e6-46a4-49e2-a5d7-afa64d88c4b0",
   "metadata": {},
   "outputs": [
    {
     "data": {
      "text/plain": [
       "dict_keys(['WANT38', 'SA349'])"
      ]
     },
     "execution_count": 20,
     "metadata": {},
     "output_type": "execute_result"
    }
   ],
   "source": [
    "mth5_objs.keys()"
   ]
  },
  {
   "cell_type": "code",
   "execution_count": 21,
   "id": "b1ec9463-0bc5-45b6-8195-979bc9c97dd8",
   "metadata": {},
   "outputs": [
    {
     "name": "stdout",
     "output_type": "stream",
     "text": [
      "0 /Experiment/Surveys/AusLAMP_Musgraves/Stations/WANT38:\n",
      "====================\n",
      "    |- Group: 001\n",
      "    -------------\n",
      "        --> Dataset: bx\n",
      "        .................\n",
      "        --> Dataset: by\n",
      "        .................\n",
      "        --> Dataset: bz\n",
      "        .................\n",
      "        --> Dataset: ex\n",
      "        .................\n",
      "        --> Dataset: ey\n",
      "        .................\n",
      "    |- Group: Transfer_Functions\n",
      "    ----------------------------\n",
      "1 /Experiment/Surveys/AusLAMP_Musgraves/Stations/SA349:\n",
      "====================\n",
      "    |- Group: 001\n",
      "    -------------\n",
      "        --> Dataset: bx\n",
      "        .................\n",
      "        --> Dataset: by\n",
      "        .................\n",
      "        --> Dataset: bz\n",
      "        .................\n",
      "        --> Dataset: ex\n",
      "        .................\n",
      "        --> Dataset: ey\n",
      "        .................\n",
      "    |- Group: Transfer_Functions\n",
      "    ----------------------------\n"
     ]
    }
   ],
   "source": [
    "for i,row in nt_df.iterrows():\n",
    "    station_obj = mth5_objs[row.station_id].get_station(row.station_id, survey=\"AusLAMP_Musgraves\")\n",
    "    print(i,station_obj)\n",
    "    \n",
    "    "
   ]
  },
  {
   "cell_type": "code",
   "execution_count": 22,
   "id": "f4aab8d3-9d76-4671-b8de-4155aebb79ab",
   "metadata": {},
   "outputs": [],
   "source": [
    "# for i,row in nt_df.iterrows():\n",
    "#     station_id = row.station_id\n",
    "#     run_from_reference = mth5_objs[station_id].from_reference(channel_summaries[station_id].iloc[0].run_hdf5_reference).to_runts(start=channel_summaries[station_id].iloc[0].start.isoformat(), n_samples=360)\n",
    "#     print(run_from_reference)\n",
    "#     run_from_reference.plot()"
   ]
  },
  {
   "cell_type": "markdown",
   "id": "b09fec69-6d35-48a6-98e3-84548b1453ba",
   "metadata": {},
   "source": [
    "### Close the mth5s"
   ]
  },
  {
   "cell_type": "code",
   "execution_count": 23,
   "id": "bcb22560-4224-433c-9436-12566a808e56",
   "metadata": {},
   "outputs": [
    {
     "name": "stdout",
     "output_type": "stream",
     "text": [
      "MTH5 file version is 0.2.0\n",
      "\u001b[1m23:11:15T18:47:54 | INFO | line:760 |mth5.mth5 | close_mth5 | Flushing and closing /home/kkappler/data/gadi/g/data/my80/AuScope_MT_collection/AuScope_AusLAMP/Musgraves_APY/NT/level_1/Concatenated_Resampled_Rotated_Time_Series_MTH5/WANT38.h5\u001b[0m\n",
      "MTH5 file version is 0.2.0\n",
      "\u001b[1m23:11:15T18:47:54 | INFO | line:760 |mth5.mth5 | close_mth5 | Flushing and closing /home/kkappler/data/gadi/g/data/my80/AuScope_MT_collection/AuScope_AusLAMP/Musgraves_APY/NT/level_1/Concatenated_Resampled_Rotated_Time_Series_MTH5/SA349.h5\u001b[0m\n"
     ]
    }
   ],
   "source": [
    "for station_id, mth5_obj in mth5_objs.items():\n",
    "    print(f\"MTH5 file version is {mth5_obj._MTH5__file_version}\") \n",
    "    mth5_obj.close_mth5()"
   ]
  },
  {
   "cell_type": "markdown",
   "id": "dc64142e-02d7-4c02-a658-dea63a8fc5cb",
   "metadata": {
    "jp-MarkdownHeadingCollapsed": true
   },
   "source": [
    "## 2. Select a test station\n",
    "\n",
    "Station SA300 is referenced in the mtpy example notebook so let's use it.  Based on a list of station combinations provided by Nigel, we will use SA275 as the reference station."
   ]
  },
  {
   "cell_type": "code",
   "execution_count": 24,
   "id": "41825ea4-97b3-4dac-bacc-9b5d01c2b9ec",
   "metadata": {
    "jupyter": {
     "source_hidden": true
    }
   },
   "outputs": [],
   "source": [
    "station_combinations = [('SA225-2','SA294','001','001'),\n",
    "                        ('SA227','SA243','001','001'),\n",
    "                        #('SA242','SA242','001','001'),  ### SA242 uses WAS352 as RR - we don't have this station\n",
    "                        ('SA243','SA294','001','001'),\n",
    "                        ('SA245','SA245','001','001'),\n",
    "                        ('SA246','SA294','001','001'),  ### SA246 has multiple runs\n",
    "                        ('SA247','SA294','001','001'),\n",
    "                        ('SA248','SA275','001','001'),\n",
    "                        ('SA249','SA275','001','001'),\n",
    "                        ('SA250','SA275','001','001'),\n",
    "                        ('SA251','SA275','001','001'),\n",
    "                        ('SA252','SA275','001','001'),\n",
    "                        ('SA26W-2','SA275','001','001'),\n",
    "                        ('SA270','SA294','001','001'),\n",
    "                        ('SA271','SA294','001','001'),  ### original script uses SA294 for local and remote?\n",
    "                        ('SA272','SA294','001','001'),\n",
    "                        ('SA273','SA275','001','001'),  ### original uses SA273 ex,ey,bz SA251 bx,by SA275 RR\n",
    "                        ('SA274-2','SA294','001','001'), ### SA274 not used\n",
    "                        ('SA275','SA252','001','001'),\n",
    "                        ('SA276','SA275','001','001'),\n",
    "                        ('SA277','SA275','001','001'),\n",
    "                        ('SA293-2','SA294','001','001'),\n",
    "                        ('SA294','SA295','001','001'),\n",
    "                        ('SA295','SA294','001','001'),\n",
    "                        ('SA296','SA294','001','001'),\n",
    "                        ('SA297','SA294','001','001'),\n",
    "                        ('SA298','SA294','001','001'),\n",
    "                        # ('SA299','SA275','004','001'),  ### SA299 has multiple runs\n",
    "                        ('SA300','SA275','001','001'),\n",
    "                        ('SA301','SA275','001','001'),  ### SA271 doesn't overlap - tried SA275 and it worked\n",
    "                        ('SA319','SA294','001','001'),\n",
    "                        #('SA320-2','SA320-2','001','001'), ### SA320-2 and SA294 don't have enough overlap\n",
    "                        ('SA321','SA294','001','001'),\n",
    "                        ('SA322','SA275','001','001'),\n",
    "                        ('SA323','SA275','001','001'),\n",
    "                        ('SA324-2','SA294','001','001'), ### SA324-2 has multiple runs\n",
    "                        ('SA325-2','SA294','001','001'),\n",
    "                        ('SA326N','SA275','001','001'),\n",
    "                        ('SA326S','SA275','001','001'),\n",
    "                        #('SA344-2','SA344-2','001','001'), ### length of time series section not long enough\n",
    "                        ('SA345','SA295','001','001'),\n",
    "                        ('SA346','SA294','001','001'),\n",
    "                        ('SA347','SA275','001','001'),\n",
    "                        ('SA348','SA275','001','001'),\n",
    "                        # ('SA349','SA275','001','001'), # SA349 is grouped under NT\n",
    "                        ('SA350','SA275','001','001'),\n",
    "                        ('SA351','SA275','001','001'),\n",
    "                        ('WA10','WA30','001','001'),\n",
    "                        ('WA13','WA30','001','001'),\n",
    "                        ('WA14','WA30','001','001'),\n",
    "                        ('WA15','WA30','001','001'),\n",
    "                        ('WA26','WA30','001','001'),\n",
    "                        ('WA27','WA30','001','001'),\n",
    "                        ('WA29','WA30','001','001'),\n",
    "                        ('WA30','WA45','001','001'),\n",
    "                        ('WA31','WA30','001','001'),\n",
    "                        ('WA42','WA30','001','001'),\n",
    "                        #('WA43','WA43','001','001'),  ### original uses SA075 as both local and remote??\n",
    "                        ('WA44','WA30','001','001'),\n",
    "                        ('WA45','WA46','001','001'),\n",
    "                        ('WA46','WA45','001','001'),\n",
    "                        ('WA47','WA30','001','001'),\n",
    "                        ('WA54','WA61','001','001'),\n",
    "                        ('WA55','WA61','001','001'),\n",
    "                        ('WA56','WA61','001','001'),  ### original uses WA56 and WA30 which don't overlap\n",
    "                        ('WA57','WA58','001','001'),\n",
    "                        ('WA58','WA57','001','001'),\n",
    "                        ('WA60','WA61','001','001'),\n",
    "                        ('WA61','WA71','001','001'),\n",
    "                        ('WA62','WA57','001','001'),\n",
    "                        ('WA63','WA57','001','001'),\n",
    "                        ('WA64','WA57','001','001'),\n",
    "                        ('WA65','WA57','001','001'),\n",
    "                        ('WA66','WA61','001','001'),\n",
    "                        ('WA67','WA61','001','001'),\n",
    "                        ('WA68','WA57','001','001'),\n",
    "                        ('WA69','WA61','001','001'),\n",
    "                        ('WA70','WA61','001','001'),  ### original uses WA70 ex,ey,bz, WA69 bx,by, WA61 bx,by\n",
    "                        ('WA71','WA61','001','001'),\n",
    "                        ('WA72','WA61','001','001'),\n",
    "                        ('WA73','WA57','001','001'),\n",
    "                        ('WA74','WA57','001','001'),\n",
    "                        ('WA75','WA57','001','001'),\n",
    "                        ('WANT19','WA30','001','001'),\n",
    "                        ('WANT38','WANT38','001','001'),\n",
    "                        ('WANT45','WA30','001','001'),\n",
    "                        ('WASA302','WA30','001','001'),\n",
    "                        ('WASA327','WA30','001','001')]"
   ]
  },
  {
   "cell_type": "markdown",
   "id": "8f3fbc16-e098-479e-9b76-87ac7453d827",
   "metadata": {},
   "source": [
    "#### Define the station, and remote reference if used"
   ]
  },
  {
   "cell_type": "code",
   "execution_count": 25,
   "id": "0b0e5326-d065-4579-a570-1d1d0aa9848f",
   "metadata": {},
   "outputs": [
    {
     "name": "stdout",
     "output_type": "stream",
     "text": [
      "station_row: \n",
      " level                                                         1\n",
      "territory                                                    SA\n",
      "station_id                                                SA300\n",
      "path          /home/kkappler/data/gadi/g/data/my80/AuScope_M...\n",
      "Name: 4, dtype: object\n",
      "reference_row: \n",
      " level                                                         1\n",
      "territory                                                    SA\n",
      "station_id                                                SA275\n",
      "path          /home/kkappler/data/gadi/g/data/my80/AuScope_M...\n",
      "Name: 3, dtype: object\n"
     ]
    }
   ],
   "source": [
    "station_id = \"SA300\"\n",
    "station_row = df[df.station_id==station_id].iloc[0]\n",
    "print(f\"station_row: \\n {station_row}\")\n",
    "\n",
    "reference_station_id = \"SA275\"\n",
    "reference_row = df[df.station_id==reference_station_id].iloc[0]\n",
    "print(f\"reference_row: \\n {reference_row}\")\n"
   ]
  },
  {
   "cell_type": "markdown",
   "id": "8f7b4fbe-b986-4899-bb22-8576d0cc56ef",
   "metadata": {},
   "source": [
    "#### Take a look at the Time Series\n",
    "\n",
    "MTH5 has some built-in tools for time series visualization.  Alternatively you can use your own plotting tools on the underlying xarrays or numpy arrays.  Here we plot data at the run level and at the channel level\n",
    "\n"
   ]
  },
  {
   "cell_type": "markdown",
   "id": "76415d95-e246-4478-a030-713781b3f064",
   "metadata": {},
   "source": [
    "#### Take a look at the \"Run\" level"
   ]
  },
  {
   "cell_type": "code",
   "execution_count": 26,
   "id": "cc4099b9-7e60-474d-aebf-0826e2addc0e",
   "metadata": {},
   "outputs": [
    {
     "name": "stdout",
     "output_type": "stream",
     "text": [
      "\u001b[33m\u001b[1m23:11:15T18:47:54 | WARNING | line:645 |mth5.timeseries.run_ts | validate_metadata | start time of dataset 2017-08-19T01:00:00+00:00 does not match metadata start 2017-08-19T00:00:00+00:00 updating metatdata value to 2017-08-19T01:00:00+00:00\u001b[0m\n",
      "\u001b[33m\u001b[1m23:11:15T18:47:54 | WARNING | line:658 |mth5.timeseries.run_ts | validate_metadata | end time of dataset 2017-08-19T01:05:59+00:00 does not match metadata end 2017-08-23T23:59:59.999999+00:00 updating metatdata value to 2017-08-19T01:05:59+00:00\u001b[0m\n",
      "RunTS Summary:\n",
      "\tSurvey:      0\n",
      "\tStation:     SA300\n",
      "\tRun:         1\n",
      "\tStart:       2017-08-19T01:00:00+00:00\n",
      "\tEnd:         2017-08-19T01:05:59+00:00\n",
      "\tSample Rate: 1.0\n",
      "\tComponents:  ['bx', 'by', 'bz', 'ex', 'ey']\n",
      "\u001b[1m23:11:15T18:47:55 | INFO | line:760 |mth5.mth5 | close_mth5 | Flushing and closing /home/kkappler/data/gadi/g/data/my80/AuScope_MT_collection/AuScope_AusLAMP/Musgraves_APY/SA/level_1/Concatenated_Resampled_Rotated_Time_Series_MTH5/SA300.h5\u001b[0m\n"
     ]
    },
    {
     "data": {
      "text/html": [
       "<div>\n",
       "<style scoped>\n",
       "    .dataframe tbody tr th:only-of-type {\n",
       "        vertical-align: middle;\n",
       "    }\n",
       "\n",
       "    .dataframe tbody tr th {\n",
       "        vertical-align: top;\n",
       "    }\n",
       "\n",
       "    .dataframe thead th {\n",
       "        text-align: right;\n",
       "    }\n",
       "</style>\n",
       "<table border=\"1\" class=\"dataframe\">\n",
       "  <thead>\n",
       "    <tr style=\"text-align: right;\">\n",
       "      <th></th>\n",
       "      <th>survey</th>\n",
       "      <th>station</th>\n",
       "      <th>run</th>\n",
       "      <th>latitude</th>\n",
       "      <th>longitude</th>\n",
       "      <th>elevation</th>\n",
       "      <th>component</th>\n",
       "      <th>start</th>\n",
       "      <th>end</th>\n",
       "      <th>n_samples</th>\n",
       "      <th>sample_rate</th>\n",
       "      <th>measurement_type</th>\n",
       "      <th>azimuth</th>\n",
       "      <th>tilt</th>\n",
       "      <th>units</th>\n",
       "      <th>hdf5_reference</th>\n",
       "      <th>run_hdf5_reference</th>\n",
       "      <th>station_hdf5_reference</th>\n",
       "    </tr>\n",
       "  </thead>\n",
       "  <tbody>\n",
       "    <tr>\n",
       "      <th>0</th>\n",
       "      <td>none</td>\n",
       "      <td>SA300</td>\n",
       "      <td>1</td>\n",
       "      <td>-26.95164</td>\n",
       "      <td>129.92562</td>\n",
       "      <td>563.0</td>\n",
       "      <td>bx</td>\n",
       "      <td>2017-08-19 00:00:00+00:00</td>\n",
       "      <td>2017-08-23 23:59:59.999999+00:00</td>\n",
       "      <td>432000</td>\n",
       "      <td>1.0</td>\n",
       "      <td>magnetic</td>\n",
       "      <td>0.0</td>\n",
       "      <td>0.0</td>\n",
       "      <td>nT</td>\n",
       "      <td>&lt;HDF5 object reference&gt;</td>\n",
       "      <td>&lt;HDF5 object reference&gt;</td>\n",
       "      <td>&lt;HDF5 object reference&gt;</td>\n",
       "    </tr>\n",
       "    <tr>\n",
       "      <th>1</th>\n",
       "      <td>none</td>\n",
       "      <td>SA300</td>\n",
       "      <td>1</td>\n",
       "      <td>-26.95164</td>\n",
       "      <td>129.92562</td>\n",
       "      <td>563.0</td>\n",
       "      <td>by</td>\n",
       "      <td>2017-08-19 00:00:00+00:00</td>\n",
       "      <td>2017-08-23 23:59:59.999999+00:00</td>\n",
       "      <td>432000</td>\n",
       "      <td>1.0</td>\n",
       "      <td>magnetic</td>\n",
       "      <td>90.0</td>\n",
       "      <td>0.0</td>\n",
       "      <td>nT</td>\n",
       "      <td>&lt;HDF5 object reference&gt;</td>\n",
       "      <td>&lt;HDF5 object reference&gt;</td>\n",
       "      <td>&lt;HDF5 object reference&gt;</td>\n",
       "    </tr>\n",
       "    <tr>\n",
       "      <th>2</th>\n",
       "      <td>none</td>\n",
       "      <td>SA300</td>\n",
       "      <td>1</td>\n",
       "      <td>-26.95164</td>\n",
       "      <td>129.92562</td>\n",
       "      <td>563.0</td>\n",
       "      <td>bz</td>\n",
       "      <td>2017-08-19 00:00:00+00:00</td>\n",
       "      <td>2017-08-23 23:59:59.999999+00:00</td>\n",
       "      <td>432000</td>\n",
       "      <td>1.0</td>\n",
       "      <td>magnetic</td>\n",
       "      <td>0.0</td>\n",
       "      <td>0.0</td>\n",
       "      <td>nT</td>\n",
       "      <td>&lt;HDF5 object reference&gt;</td>\n",
       "      <td>&lt;HDF5 object reference&gt;</td>\n",
       "      <td>&lt;HDF5 object reference&gt;</td>\n",
       "    </tr>\n",
       "    <tr>\n",
       "      <th>3</th>\n",
       "      <td>none</td>\n",
       "      <td>SA300</td>\n",
       "      <td>1</td>\n",
       "      <td>-26.95164</td>\n",
       "      <td>129.92562</td>\n",
       "      <td>563.0</td>\n",
       "      <td>ex</td>\n",
       "      <td>2017-08-19 00:00:00+00:00</td>\n",
       "      <td>2017-08-23 23:59:59.999999+00:00</td>\n",
       "      <td>432000</td>\n",
       "      <td>1.0</td>\n",
       "      <td>electric</td>\n",
       "      <td>180.0</td>\n",
       "      <td>0.0</td>\n",
       "      <td>mV/m</td>\n",
       "      <td>&lt;HDF5 object reference&gt;</td>\n",
       "      <td>&lt;HDF5 object reference&gt;</td>\n",
       "      <td>&lt;HDF5 object reference&gt;</td>\n",
       "    </tr>\n",
       "    <tr>\n",
       "      <th>4</th>\n",
       "      <td>none</td>\n",
       "      <td>SA300</td>\n",
       "      <td>1</td>\n",
       "      <td>-26.95164</td>\n",
       "      <td>129.92562</td>\n",
       "      <td>563.0</td>\n",
       "      <td>ey</td>\n",
       "      <td>2017-08-19 00:00:00+00:00</td>\n",
       "      <td>2017-08-23 23:59:59.999999+00:00</td>\n",
       "      <td>432000</td>\n",
       "      <td>1.0</td>\n",
       "      <td>electric</td>\n",
       "      <td>90.0</td>\n",
       "      <td>0.0</td>\n",
       "      <td>mV/m</td>\n",
       "      <td>&lt;HDF5 object reference&gt;</td>\n",
       "      <td>&lt;HDF5 object reference&gt;</td>\n",
       "      <td>&lt;HDF5 object reference&gt;</td>\n",
       "    </tr>\n",
       "  </tbody>\n",
       "</table>\n",
       "</div>"
      ],
      "text/plain": [
       "  survey station run  latitude  longitude  elevation component  \\\n",
       "0   none   SA300   1 -26.95164  129.92562      563.0        bx   \n",
       "1   none   SA300   1 -26.95164  129.92562      563.0        by   \n",
       "2   none   SA300   1 -26.95164  129.92562      563.0        bz   \n",
       "3   none   SA300   1 -26.95164  129.92562      563.0        ex   \n",
       "4   none   SA300   1 -26.95164  129.92562      563.0        ey   \n",
       "\n",
       "                      start                              end  n_samples  \\\n",
       "0 2017-08-19 00:00:00+00:00 2017-08-23 23:59:59.999999+00:00     432000   \n",
       "1 2017-08-19 00:00:00+00:00 2017-08-23 23:59:59.999999+00:00     432000   \n",
       "2 2017-08-19 00:00:00+00:00 2017-08-23 23:59:59.999999+00:00     432000   \n",
       "3 2017-08-19 00:00:00+00:00 2017-08-23 23:59:59.999999+00:00     432000   \n",
       "4 2017-08-19 00:00:00+00:00 2017-08-23 23:59:59.999999+00:00     432000   \n",
       "\n",
       "   sample_rate measurement_type  azimuth  tilt units           hdf5_reference  \\\n",
       "0          1.0         magnetic      0.0   0.0    nT  <HDF5 object reference>   \n",
       "1          1.0         magnetic     90.0   0.0    nT  <HDF5 object reference>   \n",
       "2          1.0         magnetic      0.0   0.0    nT  <HDF5 object reference>   \n",
       "3          1.0         electric    180.0   0.0  mV/m  <HDF5 object reference>   \n",
       "4          1.0         electric     90.0   0.0  mV/m  <HDF5 object reference>   \n",
       "\n",
       "        run_hdf5_reference   station_hdf5_reference  \n",
       "0  <HDF5 object reference>  <HDF5 object reference>  \n",
       "1  <HDF5 object reference>  <HDF5 object reference>  \n",
       "2  <HDF5 object reference>  <HDF5 object reference>  \n",
       "3  <HDF5 object reference>  <HDF5 object reference>  \n",
       "4  <HDF5 object reference>  <HDF5 object reference>  "
      ]
     },
     "execution_count": 26,
     "metadata": {},
     "output_type": "execute_result"
    },
    {
     "data": {
      "image/png": "[encoded data removed]",
      "text/plain": [
       "<Figure size 640x480 with 5 Axes>"
      ]
     },
     "metadata": {},
     "output_type": "display_data"
    }
   ],
   "source": [
    "m = mth5.mth5.MTH5()\n",
    "m.open_mth5(station_row.path)\n",
    "ch_df = m.channel_summary.to_dataframe()\n",
    "start = ch_df.iloc[0].start.isoformat()\n",
    "start = (ch_df.iloc[0].start + pd.Timedelta(hours=1)).isoformat()\n",
    "n_samples = 360\n",
    "run_from_reference = m.from_reference(ch_df.iloc[0].run_hdf5_reference).to_runts(start=start, n_samples=n_samples)\n",
    "print(run_from_reference)\n",
    "run_from_reference.plot()\n",
    "m.close_mth5()\n",
    "ch_df"
   ]
  },
  {
   "cell_type": "code",
   "execution_count": null,
   "id": "cc4a4e60-654c-45e6-a002-60b8bc8fee3c",
   "metadata": {},
   "outputs": [
    {
     "name": "stdout",
     "output_type": "stream",
     "text": [
      "\u001b[33m\u001b[1m23:11:15T18:47:56 | WARNING | line:645 |mth5.timeseries.run_ts | validate_metadata | start time of dataset 2017-08-19T01:00:00+00:00 does not match metadata start 2017-08-19T00:00:00+00:00 updating metatdata value to 2017-08-19T01:00:00+00:00\u001b[0m\n",
      "\u001b[33m\u001b[1m23:11:15T18:47:56 | WARNING | line:658 |mth5.timeseries.run_ts | validate_metadata | end time of dataset 2017-08-19T01:05:59+00:00 does not match metadata end 2017-10-20T23:59:59.999999+00:00 updating metatdata value to 2017-08-19T01:05:59+00:00\u001b[0m\n",
      "RunTS Summary:\n",
      "\tSurvey:      0\n",
      "\tStation:     SA275\n",
      "\tRun:         1\n",
      "\tStart:       2017-08-19T01:00:00+00:00\n",
      "\tEnd:         2017-08-19T01:05:59+00:00\n",
      "\tSample Rate: 1.0\n",
      "\tComponents:  ['bx', 'by', 'bz', 'ex', 'ey']\n",
      "\u001b[1m23:11:15T18:47:56 | INFO | line:760 |mth5.mth5 | close_mth5 | Flushing and closing /home/kkappler/data/gadi/g/data/my80/AuScope_MT_collection/AuScope_AusLAMP/Musgraves_APY/SA/level_1/Concatenated_Resampled_Rotated_Time_Series_MTH5/SA275.h5\u001b[0m\n"
     ]
    },
    {
     "data": {
      "text/html": [
       "<div>\n",
       "<style scoped>\n",
       "    .dataframe tbody tr th:only-of-type {\n",
       "        vertical-align: middle;\n",
       "    }\n",
       "\n",
       "    .dataframe tbody tr th {\n",
       "        vertical-align: top;\n",
       "    }\n",
       "\n",
       "    .dataframe thead th {\n",
       "        text-align: right;\n",
       "    }\n",
       "</style>\n",
       "<table border=\"1\" class=\"dataframe\">\n",
       "  <thead>\n",
       "    <tr style=\"text-align: right;\">\n",
       "      <th></th>\n",
       "      <th>survey</th>\n",
       "      <th>station</th>\n",
       "      <th>run</th>\n",
       "      <th>latitude</th>\n",
       "      <th>longitude</th>\n",
       "      <th>elevation</th>\n",
       "      <th>component</th>\n",
       "      <th>start</th>\n",
       "      <th>end</th>\n",
       "      <th>n_samples</th>\n",
       "      <th>sample_rate</th>\n",
       "      <th>measurement_type</th>\n",
       "      <th>azimuth</th>\n",
       "      <th>tilt</th>\n",
       "      <th>units</th>\n",
       "      <th>hdf5_reference</th>\n",
       "      <th>run_hdf5_reference</th>\n",
       "      <th>station_hdf5_reference</th>\n",
       "    </tr>\n",
       "  </thead>\n",
       "  <tbody>\n",
       "    <tr>\n",
       "      <th>0</th>\n",
       "      <td>none</td>\n",
       "      <td>SA275</td>\n",
       "      <td>1</td>\n",
       "      <td>-27.50302</td>\n",
       "      <td>129.99935</td>\n",
       "      <td>423.0</td>\n",
       "      <td>bx</td>\n",
       "      <td>2017-08-19 00:00:00+00:00</td>\n",
       "      <td>2017-10-20 23:59:59.999999+00:00</td>\n",
       "      <td>5443200</td>\n",
       "      <td>1.0</td>\n",
       "      <td>magnetic</td>\n",
       "      <td>0.0</td>\n",
       "      <td>0.0</td>\n",
       "      <td>nT</td>\n",
       "      <td>&lt;HDF5 object reference&gt;</td>\n",
       "      <td>&lt;HDF5 object reference&gt;</td>\n",
       "      <td>&lt;HDF5 object reference&gt;</td>\n",
       "    </tr>\n",
       "    <tr>\n",
       "      <th>1</th>\n",
       "      <td>none</td>\n",
       "      <td>SA275</td>\n",
       "      <td>1</td>\n",
       "      <td>-27.50302</td>\n",
       "      <td>129.99935</td>\n",
       "      <td>423.0</td>\n",
       "      <td>by</td>\n",
       "      <td>2017-08-19 00:00:00+00:00</td>\n",
       "      <td>2017-10-20 23:59:59.999999+00:00</td>\n",
       "      <td>5443200</td>\n",
       "      <td>1.0</td>\n",
       "      <td>magnetic</td>\n",
       "      <td>90.0</td>\n",
       "      <td>0.0</td>\n",
       "      <td>nT</td>\n",
       "      <td>&lt;HDF5 object reference&gt;</td>\n",
       "      <td>&lt;HDF5 object reference&gt;</td>\n",
       "      <td>&lt;HDF5 object reference&gt;</td>\n",
       "    </tr>\n",
       "    <tr>\n",
       "      <th>2</th>\n",
       "      <td>none</td>\n",
       "      <td>SA275</td>\n",
       "      <td>1</td>\n",
       "      <td>-27.50302</td>\n",
       "      <td>129.99935</td>\n",
       "      <td>423.0</td>\n",
       "      <td>bz</td>\n",
       "      <td>2017-08-19 00:00:00+00:00</td>\n",
       "      <td>2017-10-20 23:59:59.999999+00:00</td>\n",
       "      <td>5443200</td>\n",
       "      <td>1.0</td>\n",
       "      <td>magnetic</td>\n",
       "      <td>0.0</td>\n",
       "      <td>0.0</td>\n",
       "      <td>nT</td>\n",
       "      <td>&lt;HDF5 object reference&gt;</td>\n",
       "      <td>&lt;HDF5 object reference&gt;</td>\n",
       "      <td>&lt;HDF5 object reference&gt;</td>\n",
       "    </tr>\n",
       "    <tr>\n",
       "      <th>3</th>\n",
       "      <td>none</td>\n",
       "      <td>SA275</td>\n",
       "      <td>1</td>\n",
       "      <td>-27.50302</td>\n",
       "      <td>129.99935</td>\n",
       "      <td>423.0</td>\n",
       "      <td>ex</td>\n",
       "      <td>2017-08-19 00:00:00+00:00</td>\n",
       "      <td>2017-10-20 23:59:59.999999+00:00</td>\n",
       "      <td>5443200</td>\n",
       "      <td>1.0</td>\n",
       "      <td>electric</td>\n",
       "      <td>0.0</td>\n",
       "      <td>0.0</td>\n",
       "      <td>mV/m</td>\n",
       "      <td>&lt;HDF5 object reference&gt;</td>\n",
       "      <td>&lt;HDF5 object reference&gt;</td>\n",
       "      <td>&lt;HDF5 object reference&gt;</td>\n",
       "    </tr>\n",
       "    <tr>\n",
       "      <th>4</th>\n",
       "      <td>none</td>\n",
       "      <td>SA275</td>\n",
       "      <td>1</td>\n",
       "      <td>-27.50302</td>\n",
       "      <td>129.99935</td>\n",
       "      <td>423.0</td>\n",
       "      <td>ey</td>\n",
       "      <td>2017-08-19 00:00:00+00:00</td>\n",
       "      <td>2017-10-20 23:59:59.999999+00:00</td>\n",
       "      <td>5443200</td>\n",
       "      <td>1.0</td>\n",
       "      <td>electric</td>\n",
       "      <td>90.0</td>\n",
       "      <td>0.0</td>\n",
       "      <td>mV/m</td>\n",
       "      <td>&lt;HDF5 object reference&gt;</td>\n",
       "      <td>&lt;HDF5 object reference&gt;</td>\n",
       "      <td>&lt;HDF5 object reference&gt;</td>\n",
       "    </tr>\n",
       "  </tbody>\n",
       "</table>\n",
       "</div>"
      ],
      "text/plain": [
       "  survey station run  latitude  longitude  elevation component  \\\n",
       "0   none   SA275   1 -27.50302  129.99935      423.0        bx   \n",
       "1   none   SA275   1 -27.50302  129.99935      423.0        by   \n",
       "2   none   SA275   1 -27.50302  129.99935      423.0        bz   \n",
       "3   none   SA275   1 -27.50302  129.99935      423.0        ex   \n",
       "4   none   SA275   1 -27.50302  129.99935      423.0        ey   \n",
       "\n",
       "                      start                              end  n_samples  \\\n",
       "0 2017-08-19 00:00:00+00:00 2017-10-20 23:59:59.999999+00:00    5443200   \n",
       "1 2017-08-19 00:00:00+00:00 2017-10-20 23:59:59.999999+00:00    5443200   \n",
       "2 2017-08-19 00:00:00+00:00 2017-10-20 23:59:59.999999+00:00    5443200   \n",
       "3 2017-08-19 00:00:00+00:00 2017-10-20 23:59:59.999999+00:00    5443200   \n",
       "4 2017-08-19 00:00:00+00:00 2017-10-20 23:59:59.999999+00:00    5443200   \n",
       "\n",
       "   sample_rate measurement_type  azimuth  tilt units           hdf5_reference  \\\n",
       "0          1.0         magnetic      0.0   0.0    nT  <HDF5 object reference>   \n",
       "1          1.0         magnetic     90.0   0.0    nT  <HDF5 object reference>   \n",
       "2          1.0         magnetic      0.0   0.0    nT  <HDF5 object reference>   \n",
       "3          1.0         electric      0.0   0.0  mV/m  <HDF5 object reference>   \n",
       "4          1.0         electric     90.0   0.0  mV/m  <HDF5 object reference>   \n",
       "\n",
       "        run_hdf5_reference   station_hdf5_reference  \n",
       "0  <HDF5 object reference>  <HDF5 object reference>  \n",
       "1  <HDF5 object reference>  <HDF5 object reference>  \n",
       "2  <HDF5 object reference>  <HDF5 object reference>  \n",
       "3  <HDF5 object reference>  <HDF5 object reference>  \n",
       "4  <HDF5 object reference>  <HDF5 object reference>  "
      ]
     },
     "execution_count": 27,
     "metadata": {},
     "output_type": "execute_result"
    }
   ],
   "source": [
    "m = mth5.mth5.MTH5()\n",
    "m.open_mth5(reference_row.path)\n",
    "ch_df = m.channel_summary.to_dataframe()\n",
    "start = ch_df.iloc[0].start.isoformat()\n",
    "start = (ch_df.iloc[0].start + pd.Timedelta(hours=1)).isoformat()\n",
    "n_samples = 360\n",
    "run_from_reference = m.from_reference(ch_df.iloc[0].run_hdf5_reference).to_runts(start=start, n_samples=n_samples)\n",
    "print(run_from_reference)\n",
    "run_from_reference.plot()\n",
    "m.close_mth5()\n",
    "ch_df"
   ]
  },
  {
   "cell_type": "markdown",
   "id": "96f508f7-2ab3-450e-ad25-f277943e1b5c",
   "metadata": {},
   "source": [
    "#### Take a look at the \"Channel\" level"
   ]
  },
  {
   "cell_type": "code",
   "execution_count": null,
   "id": "0b26d948-3204-4ff2-9eaa-96fe776afaf5",
   "metadata": {},
   "outputs": [],
   "source": [
    "m = mth5.mth5.MTH5()\n",
    "m.open_mth5(station_row.path)\n",
    "ch_df = m.channel_summary.to_dataframe()\n",
    "start = ch_df.iloc[0].start.isoformat()\n",
    "#start = (ch_df.iloc[0].start + pd.Timedelta(hours=1)).isoformat()\n",
    "ch_from_reference = m.from_reference(ch_df.iloc[0].hdf5_reference)\n",
    "chts = ch_from_reference.to_channel_ts()\n",
    "print(chts)\n",
    "chts.plot()\n",
    "m.close_mth5()"
   ]
  },
  {
   "cell_type": "markdown",
   "id": "99ba6b7c-b521-49e5-aa7d-8e8954ab8d44",
   "metadata": {},
   "source": [
    "Station SA300 has around 5 days of time series (above)"
   ]
  },
  {
   "cell_type": "code",
   "execution_count": null,
   "id": "62f2eb6e-4c3e-4d7e-81ac-e32611caa767",
   "metadata": {},
   "outputs": [],
   "source": [
    "m = mth5.mth5.MTH5()\n",
    "m.open_mth5(row.path)\n",
    "ch_df = m.channel_summary.to_dataframe()\n",
    "start = ch_df.iloc[0].start.isoformat()\n",
    "#start = (ch_df.iloc[0].start + pd.Timedelta(hours=1)).isoformat()\n",
    "ch_from_reference = m.from_reference(ch_df.iloc[0].hdf5_reference)\n",
    "chts = ch_from_reference.to_channel_ts()\n",
    "print(chts)\n",
    "chts.plot()\n",
    "m.close_mth5()"
   ]
  },
  {
   "cell_type": "markdown",
   "id": "4adb10d3-1b0b-46cf-9c2b-63b14ee50ba6",
   "metadata": {},
   "source": [
    "Station SA275 has around 2 months of time series (above)"
   ]
  },
  {
   "cell_type": "markdown",
   "id": "f38c630e-2d93-4080-a526-8a6b92935fcd",
   "metadata": {
    "jp-MarkdownHeadingCollapsed": true
   },
   "source": [
    "## 3. Single Station Processing "
   ]
  },
  {
   "cell_type": "markdown",
   "id": "91ca7bb8-e65d-481c-a1b5-fa98502e1dc3",
   "metadata": {},
   "source": [
    "#### 3a: Define the source data and stations"
   ]
  },
  {
   "cell_type": "code",
   "execution_count": null,
   "id": "6d405b39-1b88-40e2-8935-fee874923f79",
   "metadata": {},
   "outputs": [],
   "source": [
    "# Define files to process\n",
    "mth5_files = [station_row.path, ]\n",
    "reference_station_id = None"
   ]
  },
  {
   "cell_type": "markdown",
   "id": "caee6b99-2c08-47c7-a515-1fc3fc4f44fc",
   "metadata": {},
   "source": [
    "#### 3b: Define the Transfer Function Kernel Dataset"
   ]
  },
  {
   "cell_type": "code",
   "execution_count": null,
   "id": "8fec318f-df4e-4eb0-a80f-b5c099577b45",
   "metadata": {},
   "outputs": [],
   "source": [
    "# Define a RunSummary\n",
    "mth5_run_summary = RunSummary()\n",
    "mth5_run_summary.from_mth5s(mth5_files)\n",
    "run_summary = mth5_run_summary.clone()\n",
    "#run_summary.check_runs_are_valid(drop=True)\n",
    "\n",
    "# Define KernelDataset\n",
    "kernel_dataset = KernelDataset()\n",
    "kernel_dataset.from_run_summary(run_summary, station_row.station_id, reference_station_id)\n",
    "\n",
    "# Add survey and run ID -- this is a workaround for antique mth5 files\n",
    "kernel_dataset.df[\"survey\"] = \"AusLAMP_Musgraves\"\n",
    "kernel_dataset.df[\"run_id\"] = \"001\"\n",
    "\n",
    "# Tune up the kernel dataset (not needed in this example)\n",
    "kernel_dataset.drop_runs_shorter_than(5000)\n",
    "if len(kernel_dataset.df) == 0:\n",
    "    print(\"No RR Coverage, casting to single station processing\")\n",
    "    kernel_dataset.from_run_summary(run_summary, station_row.station_id)\n",
    "\n",
    "print(\"Kernel Dataset Dataframe\")\n",
    "kernel_dataset.df"
   ]
  },
  {
   "cell_type": "markdown",
   "id": "9d013961-6854-47e1-8ad9-d4db65ccb97f",
   "metadata": {},
   "source": [
    "#### 3c: Define the Processing Configuration"
   ]
  },
  {
   "cell_type": "code",
   "execution_count": null,
   "id": "82adc926-dd23-4be7-be8a-245603d4cbda",
   "metadata": {},
   "outputs": [],
   "source": [
    "cc = ConfigCreator()\n",
    "config = cc.create_from_kernel_dataset(kernel_dataset,\n",
    "                                       emtf_band_file=BAND_SETUP_PATH.joinpath(\"bs_six_level.cfg\"))\n",
    "config.channel_nomenclature.keyword = \"musgraves\"\n",
    "config.set_default_input_output_channels()\n",
    "config.set_default_reference_channels()"
   ]
  },
  {
   "cell_type": "markdown",
   "id": "b6dd6d7c-d3d4-4db9-a5f1-337ee487d2f9",
   "metadata": {},
   "source": [
    "#### 3d: Process the data"
   ]
  },
  {
   "cell_type": "code",
   "execution_count": null,
   "id": "357b189d-14c2-4128-ad7f-8c7b96b95c61",
   "metadata": {},
   "outputs": [],
   "source": [
    "show_plot = False\n",
    "tf_cls = process_mth5(config,\n",
    "                      kernel_dataset,\n",
    "                      units=\"MT\",\n",
    "                      show_plot=show_plot,\n",
    "                      )"
   ]
  },
  {
   "cell_type": "markdown",
   "id": "f4e12750-526c-412a-bb7e-0f81e8633fb9",
   "metadata": {},
   "source": [
    "#### 3e: Save the results"
   ]
  },
  {
   "cell_type": "code",
   "execution_count": null,
   "id": "63628d3f-9e55-4cb4-98d4-351aee8331a0",
   "metadata": {},
   "outputs": [],
   "source": [
    "xml_file_path_ss = work_path.joinpath(f\"{station_row.station_id}_ss.xml\")\n",
    "z_file_ss = str(xml_file_path_ss).replace(\"xml\", \"zss\")\n",
    "edi_file_ss = str(xml_file_path_ss).replace(\"xml\", \"edi\")\n",
    "tf_cls.write(fn=xml_file_path_ss, file_type=\"emtfxml\")\n",
    "tf_cls.write(fn=z_file_ss, file_type=\"zss\")\n",
    "tf_cls.write(fn=edi_file_ss, file_type=\"edi\")"
   ]
  },
  {
   "cell_type": "markdown",
   "id": "9715e5d8-4325-44f7-8282-cf87b07a9b35",
   "metadata": {},
   "source": [
    "## 4. Remote Reference Processing "
   ]
  },
  {
   "cell_type": "markdown",
   "id": "8553743e-f624-4f51-8a7a-6c81cb26adce",
   "metadata": {},
   "source": [
    "#### 4a: Define the source data and stations\n",
    "\n",
    "**Note** This is the only stage in 4a,b,c,d,e that is not a direct cut and paste from above"
   ]
  },
  {
   "cell_type": "code",
   "execution_count": null,
   "id": "bbab3a02-faf7-491d-91be-3579dde7159e",
   "metadata": {},
   "outputs": [],
   "source": [
    "# Define files to process\n",
    "mth5_files = [station_row.path, reference_row.path]\n",
    "reference_station_id = reference_row.station_id\n"
   ]
  },
  {
   "cell_type": "markdown",
   "id": "66255717-99d3-4d73-b3a6-d2225faecc74",
   "metadata": {},
   "source": [
    "#### 4b: Define the Transfer Function Kernel Dataset"
   ]
  },
  {
   "cell_type": "code",
   "execution_count": null,
   "id": "b5ec5c07-9140-44f1-bdc2-8023e136bd47",
   "metadata": {},
   "outputs": [],
   "source": [
    "# Define a RunSummary\n",
    "mth5_run_summary = RunSummary()\n",
    "mth5_run_summary.from_mth5s(mth5_files)\n",
    "run_summary = mth5_run_summary.clone()\n",
    "#run_summary.check_runs_are_valid(drop=True)\n",
    "\n",
    "# Define KernelDataset\n",
    "kernel_dataset = KernelDataset()\n",
    "kernel_dataset.from_run_summary(run_summary, station_row.station_id, reference_station_id)\n",
    "\n",
    "# Add survey and run ID -- this is a workaround for antique mth5 files\n",
    "kernel_dataset.df[\"survey\"] = \"AusLAMP_Musgraves\"\n",
    "kernel_dataset.df[\"run_id\"] = \"001\"\n",
    "\n",
    "# Tune up the kernel dataset (not needed in this example)\n",
    "kernel_dataset.drop_runs_shorter_than(5000)\n",
    "if len(kernel_dataset.df) == 0:\n",
    "    print(\"No RR Coverage, casting to single station processing\")\n",
    "    kernel_dataset.from_run_summary(run_summary, station_row.station_id)\n",
    "\n",
    "print(\"Kernel Dataset Dataframe\")\n",
    "kernel_dataset.df"
   ]
  },
  {
   "cell_type": "markdown",
   "id": "5306103a-3a8c-427d-a4fe-ad4a215b6626",
   "metadata": {},
   "source": [
    "**Note:** The kernel dataset identified that there was only a single overlapping time interval of ~5 days between the stations and automatically selected that interval for RR processing"
   ]
  },
  {
   "cell_type": "markdown",
   "id": "765e3872-0264-44d7-ab2e-a6d26400bf96",
   "metadata": {},
   "source": [
    "#### 4c: Define the Processing Configuration"
   ]
  },
  {
   "cell_type": "code",
   "execution_count": null,
   "id": "681cd127-1306-42d7-a22e-1edf305b52c4",
   "metadata": {},
   "outputs": [],
   "source": [
    "cc = ConfigCreator()\n",
    "config = cc.create_from_kernel_dataset(kernel_dataset,\n",
    "                                       emtf_band_file=BAND_SETUP_PATH.joinpath(\"bs_six_level.cfg\"))\n",
    "config.channel_nomenclature.keyword = \"musgraves\"\n",
    "config.set_default_input_output_channels()\n",
    "config.set_default_reference_channels()"
   ]
  },
  {
   "cell_type": "markdown",
   "id": "4e2be363-2c8d-4d8c-8791-0851da58aa77",
   "metadata": {},
   "source": [
    "#### 4d: Process the data"
   ]
  },
  {
   "cell_type": "code",
   "execution_count": null,
   "id": "3e05abd1-8bef-43c8-9f7a-0c2ef15cc9bd",
   "metadata": {},
   "outputs": [],
   "source": [
    "show_plot = False\n",
    "tf_cls = process_mth5(config,\n",
    "                      kernel_dataset,\n",
    "                      units=\"MT\",\n",
    "                      show_plot=show_plot,\n",
    "                      )"
   ]
  },
  {
   "cell_type": "markdown",
   "id": "40e0d1f9-333f-455f-8b01-ff06ab66cab7",
   "metadata": {},
   "source": [
    "#### 4e: Save the results"
   ]
  },
  {
   "cell_type": "code",
   "execution_count": null,
   "id": "414a69a6-9d1d-45d3-a999-253def7957e7",
   "metadata": {},
   "outputs": [],
   "source": [
    "xml_file_path_rr = work_path.joinpath(f\"{station_row.station_id}_rr.xml\")\n",
    "z_file_rr = str(xml_file_path_rr).replace(\"xml\", \"zrr\")\n",
    "edi_file_rr = str(xml_file_path_rr).replace(\"xml\", \"edi\")\n",
    "tf_cls.write(fn=xml_file_path_rr, file_type=\"emtfxml\")\n",
    "tf_cls.write(fn=z_file_rr, file_type=\"zrr\")\n",
    "tf_cls.write(fn=edi_file_rr, file_type=\"edi\")"
   ]
  },
  {
   "cell_type": "markdown",
   "id": "0cba4949-2593-456d-892d-679243190827",
   "metadata": {},
   "source": [
    "Note that the TF info can be accessed directly from the tf_cls object returned from processing"
   ]
  },
  {
   "cell_type": "code",
   "execution_count": null,
   "id": "c11bc787-9c81-4773-a2a5-60c9e2b6264e",
   "metadata": {},
   "outputs": [],
   "source": [
    "tf_cls.transfer_function"
   ]
  },
  {
   "cell_type": "markdown",
   "id": "222c5386-89d5-42ba-88f8-25832d854856",
   "metadata": {},
   "source": [
    "## 5. Compare Transfer Functions"
   ]
  },
  {
   "cell_type": "markdown",
   "id": "508df692-3d38-41bb-ac21-a48d90458cd1",
   "metadata": {},
   "source": [
    "#### Compare Single Station vs. Remote Reference"
   ]
  },
  {
   "cell_type": "code",
   "execution_count": null,
   "id": "39f4de80-4da8-45fe-b034-fa8554bfeb75",
   "metadata": {},
   "outputs": [],
   "source": [
    "edi_aurora_ss = edi_file_ss\n",
    "edi_aurora_rr = edi_file_rr\n",
    "mt_obj_ss = MT(edi_aurora_ss)\n",
    "mt_obj_ss.read()\n",
    "mt_obj_rr = MT(edi_aurora_rr)\n",
    "mt_obj_rr.read()\n",
    "md = MTData()\n",
    "md.add_station(mt_obj_ss, survey=\"SingleStation\")\n",
    "md.add_station(mt_obj_rr, survey=\"RemoteReference\")\n",
    "md.plot_mt_response([\"SingleStation.SA300\", \"RemoteReference.SA300\"], plot_style=\"compare\")\n",
    "md"
   ]
  },
  {
   "cell_type": "markdown",
   "id": "db6cbb02-1e10-4a34-9b51-f32ff702f98e",
   "metadata": {},
   "source": [
    "**Note:** the only major differences in the case of this clean data are in the dead band."
   ]
  },
  {
   "cell_type": "markdown",
   "id": "d77b6191-f0b2-498a-ad75-60cec6c9eac8",
   "metadata": {},
   "source": [
    "#### Compare Aurora vs BIRRP"
   ]
  },
  {
   "cell_type": "code",
   "execution_count": null,
   "id": "0991389e-98ac-4381-9668-4cf256afd350",
   "metadata": {},
   "outputs": [],
   "source": [
    "edi_aurora_rr = edi_file_rr\n",
    "edi_birrp = musgraves_edis_path.joinpath(\"SA300.edi\")\n",
    "mt_obj_aurora = MT(edi_aurora_rr)\n",
    "mt_obj_aurora.read()\n",
    "mt_obj_aurora.flip_phase(zyx=True, inplace=True)\n",
    "mt_obj_birrp = MT(edi_birrp)\n",
    "mt_obj_birrp.read()\n",
    "md = MTData()\n",
    "md.add_station(mt_obj_aurora, survey=\"aurora\")\n",
    "md.add_station(mt_obj_birrp, survey=\"birrp\")\n",
    "md.plot_mt_response([\"aurora.SA300\", \"birrp.SAA300\"], plot_style=\"compare\")\n",
    "md"
   ]
  },
  {
   "cell_type": "markdown",
   "id": "54e69300-41fc-4ee6-b2ed-a73fed7eb1d5",
   "metadata": {},
   "source": [
    "## 6. HPC\n",
    "\n",
    "There are many ways to parallelize.  Here is one example that uses a very simple model and leverages the embarassignly parallelizable nature of processing\n",
    "many stations.\n",
    "\n",
    "In this case we will use \"pandarallel\" to loop over the available stations"
   ]
  },
  {
   "cell_type": "code",
   "execution_count": null,
   "id": "63cb169e-6e46-4502-8be5-d668aa15d957",
   "metadata": {},
   "outputs": [],
   "source": [
    "availability_df = get_musgraves_availability_df(data_dir)"
   ]
  },
  {
   "cell_type": "code",
   "execution_count": null,
   "id": "341172ce-c5f6-42d3-b8d6-9a3fa03e1c44",
   "metadata": {},
   "outputs": [],
   "source": [
    "def enrich_row_with_processing(row):\n",
    "    mth5_files = [row.path,]\n",
    "    print(\"path\", row.path, \"type\", type(row.path))\n",
    "    my_h5 = pathlib.Path(row.path)\n",
    "    print(f\"{my_h5.exists()} my_h5.exists()\")\n",
    "    xml_file_path = RESULTS_PATH.joinpath(f\"{row.station_id}.xml\")\n",
    "    print(xml_file_path)\n",
    "    \n",
    "    try:\n",
    "        mth5_run_summary = RunSummary()\n",
    "        mth5_run_summary.from_mth5s(mth5_files)\n",
    "        run_summary = mth5_run_summary.clone()\n",
    "        #run_summary.check_runs_are_valid(drop=True)\n",
    "        kernel_dataset = KernelDataset()\n",
    "        kernel_dataset.from_run_summary(run_summary, row.station_id, None)\n",
    "    \n",
    "        # Antique mth5 workaround\n",
    "        kernel_dataset.df[\"survey\"] = \"AusLAMP_Musgraves\"\n",
    "        kernel_dataset.df[\"run_id\"] = \"001\"\n",
    "        #print(kernel_dataset.df)\n",
    "        \n",
    "        # kernel_dataset.drop_runs_shorter_than(5000)\n",
    "        # if len(kernel_dataset.df) == 0:\n",
    "        #     print(\"No RR Coverage, casting to single station processing\")\n",
    "        #     kernel_dataset.from_run_summary(run_summary, row.station_id)\n",
    "\n",
    "        cc = ConfigCreator()\n",
    "        config = cc.create_from_kernel_dataset(kernel_dataset,)\n",
    "#                                               emtf_band_file=BANDS_TEST_FAST_FILE)\n",
    "        config.channel_nomenclature.keyword = \"musgraves\"\n",
    "        config.set_default_input_output_channels()\n",
    "        show_plot = False\n",
    "              \n",
    "        z_file = str(xml_file_path).replace(\"xml\", \"zss\")\n",
    "        tf_cls = process_mth5(config,\n",
    "                              kernel_dataset,\n",
    "                              units=\"MT\",\n",
    "                              show_plot=show_plot,\n",
    "                              z_file_path=z_file,\n",
    "                              )\n",
    "        tf_cls.write(fn=xml_file_path, file_type=\"emtfxml\")\n",
    "        # consider add xml_file_path.timestamp to columns??\n",
    "    except Exception as e:\n",
    "        row.exception = e.__class__.__name__\n",
    "        row.error_message = e.args[0]\n",
    "    return row"
   ]
  },
  {
   "cell_type": "code",
   "execution_count": null,
   "id": "656bbb47-fa76-495b-9c72-93597bb8fdd6",
   "metadata": {},
   "outputs": [],
   "source": [
    "def process_lots_of_mth5s(df, use_pandarallel=False):\n",
    "    \"\"\"\n",
    "\n",
    "    Parameters\n",
    "    ----------\n",
    "    df : pd.DataFrame\n",
    "        This is a list of the files\n",
    "\n",
    "    Returns\n",
    "    -------\n",
    "    df:  pd.DataFrame\n",
    "        Same as input but with new columns\n",
    "\n",
    "    \"\"\"\n",
    "    df[\"exception\"] = \"\"\n",
    "    df[\"error\"] = \"\"\n",
    "    if use_pandarallel:\n",
    "        from pandarallel import pandarallel\n",
    "        pandarallel.initialize(verbose=3)\n",
    "        enriched_df = df.parallel_apply(enrich_row_with_processing, axis=1)\n",
    "    else:\n",
    "        print(\"NO PANDARALEL\")\n",
    "        #return None\n",
    "        enriched_df = df.apply(enrich_row_with_processing, axis=1)\n",
    "\n",
    "    return enriched_df"
   ]
  },
  {
   "cell_type": "code",
   "execution_count": null,
   "id": "4bba5e36-832a-4367-9312-709c149a7bd9",
   "metadata": {
    "scrolled": true
   },
   "outputs": [],
   "source": [
    "enriched_df = process_lots_of_mth5s(availability_df, use_pandarallel=True)"
   ]
  },
  {
   "cell_type": "code",
   "execution_count": null,
   "id": "2e12278c-993b-4559-977d-c5b6f27c8724",
   "metadata": {},
   "outputs": [],
   "source": [
    "enriched_df"
   ]
  },
  {
   "cell_type": "code",
   "execution_count": null,
   "id": "8540f9ef-29af-4f7b-aa02-386f6143dbb4",
   "metadata": {},
   "outputs": [],
   "source": [
    "enriched_df.exception.unique()"
   ]
  },
  {
   "cell_type": "markdown",
   "id": "163e16e6-c825-444b-a7fc-f095d3e01326",
   "metadata": {},
   "source": [
    "<div class=\"alert alert-block alert-danger\">\n",
    "<b>TODO:</b> Deduce RR Pairings\n",
    "</div>"
   ]
  }
 ],
 "metadata": {
  "kernelspec": {
   "display_name": "pypi",
   "language": "python",
   "name": "pypi"
  },
  "language_info": {
   "codemirror_mode": {
    "name": "ipython",
    "version": 3
   },
   "file_extension": ".py",
   "mimetype": "text/x-python",
   "name": "python",
   "nbconvert_exporter": "python",
   "pygments_lexer": "ipython3",
   "version": "3.9.18"
  }
 },
 "nbformat": 4,
 "nbformat_minor": 5
}
