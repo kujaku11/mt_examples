{
 "cells": [
  {
   "cell_type": "markdown",
   "id": "7ff57756-4e96-4cd1-a39a-79b434123b5a",
   "metadata": {
    "tags": []
   },
   "source": [
    "# MT Metadata Example 01\n",
    "\n",
    "## Basics\n",
    "\n",
    "Metadata is important to describe data, its also a pain to keep track of and standardize.  `mt_metadata` was written to make it easier to standardize metadata, specifically MT metadata, though not exclusively.  There are standard ways of created schema's for metadata for example in XML or JSON.  We decided to be agnostic to those formats and internally use Python's built-in dictionary object.  Provided are tools to read/write XML and JSON formats if desired.  \n",
    "\n",
    "All values input are validated against the standards and makes sure the data type is correct. More on that below.\n",
    "\n",
    "Here basic usages of the `mt_metadata` module are demonstrated.  "
   ]
  },
  {
   "cell_type": "markdown",
   "id": "7ff33a5d-5103-4196-8bf2-09f385d71d9e",
   "metadata": {
    "tags": []
   },
   "source": [
    "## Base Class\n",
    "\n",
    "`mt_metadata.base.Base` is the base for which all metadata objects are built upon.  `Base` provides convenience methods to input and output metadata in different formats XML, JSON, Python dictionary, Pandas Series.  It also provides functions to help the user understand what's inside.\n",
    "\n",
    "The underlying attribute of `Base` that controls how inputs are validated and what key words are included is `_attr_dict`.  This dictionary can be input manually, but are loaded automatically when called.  `Base._attr_dict = {}` to begin with.  To build useful versions of `Base` an `_attr_dict` needs to be input, commonly on initialization.  \n",
    "\n",
    "The metadata objects that inherit `Base` have the `_attr_dict` input on initialization from JSON files that provide the key words and attributes of those key words that describe how to validate them.  For example\n",
    "\n",
    "```\n",
    "{\n",
    "    \"name\": {\n",
    "        \"type\": \"string\",\n",
    "        \"required\": true,\n",
    "        \"style\": \"free form\",\n",
    "        \"units\": null,\n",
    "        \"description\": \"Persons name, should be full first and last name.\",\n",
    "        \"options\": [],\n",
    "        \"alias\": [],\n",
    "        \"example\": \"person name\",\n",
    "        \"default\": null\n",
    "        }\n",
    "}\n",
    "```\n",
    "\n",
    "Here the key word is `name`, it should be a `free_form` `string` that describes the name of a person.  The default value is `null`. Any key word added needs to have this form with the attributes\n",
    "\n",
    "| Attribute | Description | Options |\n",
    "|-----------|-------------|---------|\n",
    "| \"type\" | Data type this key word should be, must be a native Python type | float, str, int, bool, list |\n",
    "| \"required\" | Is this key word required by the metadata standard | True or False |\n",
    "| \"style\" | If the \"type\" is a string, what type of string is it, how should it be formatted | \"name\", \"url\", \"email\", \"number\", \"date\", \"free form\", \"time\", \"date time\", \"name list\", \"number list\", \"controlled vocabulary\", \"alpha numeric\" |\n",
    "| \"units\" | What units the key word should be in | SI units |\n",
    "| \"description\" | Full description of what this key word describes | |,\n",
    "| \"options\" | If the \"style\" is controlled provide a list of options the key word can be | list of options |\n",
    "| \"alias\" | Is this key word known by other names (not currently implemented) | |\n",
    "| \"example\" | An example of what the key word should look like | |\n",
    "| \"default\" | Default value | depends on \"type |\n",
    "\n"
   ]
  },
  {
   "cell_type": "markdown",
   "id": "1cbf476a-19c8-4e50-b505-724833a8855b",
   "metadata": {},
   "source": [
    "## Methods of Base\n",
    "\n",
    "Base has the following methods.  It also overloads built-in methods like `__eq__`, `__ne__`, for comparing 2 similar metadata objects, `__len__`, `__str__`, `__repr__` (see below).\n",
    "\n",
    "| Method | Purpose |\n",
    "|--------|---------|\n",
    "| `add_base_attribute` | add a base attribute with a dictionary as above |\n",
    "| `attribute_information` | print attribute information for a given attribute or all|\n",
    "| `from_dict` | fill keyword values from a dictionary |\n",
    "| `from_json` | fill keyword values from a json string or file|\n",
    "| `from_series` | fill keyword values from a `pandas.Series` |\n",
    "| `from_xml` | fill keyword values from and XML string or file |\n",
    "| `get_attr_from_name` | get an attribute from a complex name separated by a `.` like `location.latitude` |\n",
    "| `get_attribute_list` | get a list of attributes in the object |\n",
    "| `set_attr_from_name` | set an attribute from a complex name separated by a `.` like `location.longitude` |\n",
    "| `to_dict` | export the key words and values as a dictionary |\n",
    "| `to_json` | export the key words and values as a JSON string |\n",
    "| `to_series` | export the key words and values as a `pandas.Series` object |\n",
    "| `to_xml` | export the key words and values as an XML element |\n",
    "| `update` | update the values from a similar metadata object |"
   ]
  },
  {
   "cell_type": "markdown",
   "id": "3a147a6d-24ad-4bb3-92ce-f1fa91492233",
   "metadata": {},
   "source": [
    "## Exmple\n",
    "\n",
    "A simple demonstration of `Base` and how to add attributes and figure out what is in the metadata and standards."
   ]
  },
  {
   "cell_type": "code",
   "execution_count": 1,
   "id": "f5027149-5745-48f1-a54b-425104aaf77f",
   "metadata": {
    "tags": []
   },
   "outputs": [],
   "source": [
    "from mt_metadata.base import Base\n",
    "\n",
    "b = Base()"
   ]
  },
  {
   "cell_type": "markdown",
   "id": "7e6b331b-9cea-48b5-8c1c-c702b406e00b",
   "metadata": {},
   "source": [
    "#### Add attributes\n",
    "\n",
    "You can add attibutes to an existing metadata object.  All you need is to add a standards dictionary that describes the new attribute.\n",
    "\n",
    "Here we will add an extra attribute for temperature.  We will allow it to only have two options 'ambient' or 'air'.  It will be a `string` but is not required.  "
   ]
  },
  {
   "cell_type": "code",
   "execution_count": 2,
   "id": "aa0b10c3-1ba9-42de-af6f-7862bf3f67b2",
   "metadata": {},
   "outputs": [],
   "source": [
    "extra = {\n",
    "    'type': str,\n",
    "    'style': 'controlled vocabulary',\n",
    "    'required': False,\n",
    "    'units': 'celsius',\n",
    "    'description': 'local temperature',\n",
    "    'alias': ['temp'],\n",
    "    'options': [ 'ambient', 'air'],\n",
    "    'example': 'ambient',\n",
    "    'default': None\n",
    "}"
   ]
  },
  {
   "cell_type": "code",
   "execution_count": 3,
   "id": "f8bae79f-d0ae-407a-ae34-0a7a41dd7488",
   "metadata": {},
   "outputs": [],
   "source": [
    "b.add_base_attribute(\"temperature\", \"ambient\", extra)"
   ]
  },
  {
   "cell_type": "markdown",
   "id": "49b1a36a-344c-46e6-a33c-343d81bdc719",
   "metadata": {},
   "source": [
    "#### The `__repr__`\n",
    "\n",
    "The base class `__repr__` is represented by the JSON representation of the object. "
   ]
  },
  {
   "cell_type": "code",
   "execution_count": 4,
   "id": "5edef78a-82ec-4dd9-bc70-c0322ef2fd07",
   "metadata": {},
   "outputs": [
    {
     "data": {
      "text/plain": [
       "{\n",
       "    \"base\": {\n",
       "        \"temperature\": \"ambient\"\n",
       "    }\n",
       "}"
      ]
     },
     "execution_count": 4,
     "metadata": {},
     "output_type": "execute_result"
    }
   ],
   "source": [
    "b"
   ]
  },
  {
   "cell_type": "markdown",
   "id": "7d8fd8b2-deff-4c85-b416-627de42022ce",
   "metadata": {},
   "source": [
    "#### The `__str__`\n",
    "\n",
    "The `__str__` of the class is a printed list"
   ]
  },
  {
   "cell_type": "code",
   "execution_count": 5,
   "id": "806e04b6-8989-4722-a17f-88c8e8fcb712",
   "metadata": {},
   "outputs": [
    {
     "name": "stdout",
     "output_type": "stream",
     "text": [
      "base:\n",
      "\ttemperature = ambient\n"
     ]
    }
   ],
   "source": [
    "print(b)"
   ]
  },
  {
   "cell_type": "markdown",
   "id": "7e316ebb-5f04-4629-a447-ed96b4bab26e",
   "metadata": {},
   "source": [
    "#### Attribute Information and List\n",
    "\n",
    "There is also a convenience method to get attribute information."
   ]
  },
  {
   "cell_type": "code",
   "execution_count": 6,
   "id": "5aaaef26-1c70-4217-8e06-87150ef70406",
   "metadata": {},
   "outputs": [
    {
     "data": {
      "text/plain": [
       "['temperature']"
      ]
     },
     "execution_count": 6,
     "metadata": {},
     "output_type": "execute_result"
    }
   ],
   "source": [
    "b.get_attribute_list()"
   ]
  },
  {
   "cell_type": "code",
   "execution_count": 7,
   "id": "8d105f02-282d-41a8-9009-24b8fca5611f",
   "metadata": {},
   "outputs": [
    {
     "name": "stdout",
     "output_type": "stream",
     "text": [
      "temperature:\n",
      "\talias: ['temp']\n",
      "\tdefault: None\n",
      "\tdescription: local temperature\n",
      "\texample: ambient\n",
      "\toptions: ['ambient', 'air']\n",
      "\trequired: False\n",
      "\tstyle: controlled vocabulary\n",
      "\ttype: <class 'str'>\n",
      "\tunits: celsius\n",
      "==================================================\n"
     ]
    }
   ],
   "source": [
    "b.attribute_information()"
   ]
  },
  {
   "cell_type": "code",
   "execution_count": 8,
   "id": "2aefffc6-dd19-4871-8000-7f4f4258ef6c",
   "metadata": {},
   "outputs": [
    {
     "name": "stdout",
     "output_type": "stream",
     "text": [
      "temperature:\n",
      "\talias: ['temp']\n",
      "\tdefault: None\n",
      "\tdescription: local temperature\n",
      "\texample: ambient\n",
      "\toptions: ['ambient', 'air']\n",
      "\trequired: False\n",
      "\tstyle: controlled vocabulary\n",
      "\ttype: <class 'str'>\n",
      "\tunits: celsius\n"
     ]
    }
   ],
   "source": [
    "b.attribute_information(\"temperature\")"
   ]
  },
  {
   "cell_type": "markdown",
   "id": "f5ba78d3-c253-4cd5-8259-686e77da3444",
   "metadata": {},
   "source": [
    "## Validation\n",
    "\n",
    "Validation of the attribute is the most important part of having a separate module for the metadata.  The validation processes\n",
    "\n",
    "1. First assures the `type` is the correct type prescribed by the metadata.  For example in the above example the prescribed data type for `temperature` is a `string`.  Therefore when the value is set, the validators make sure the value is a string.  If it is not it is converted to a string if possible.  If not a `ValueError` is thrown. \n",
    "2. If the `style` is `controlled vocabulary` then the value is checked against `options`.  If `other` is in options that allows other options to be input that are not in the list, kind of a accept anything key.  \n",
    "3. If a value of None is given the proper None type is set.  If the `style` is a date then the None value for is set to 1980-01-01T00:00:00, or if `list` in `style` the value is set to [].  \n",
    "\n",
    "When the standards are first read in if `required` is True the value is set to the given default value.  If `required` is False the value is set to the appropriate None value."
   ]
  },
  {
   "cell_type": "code",
   "execution_count": 9,
   "id": "41bff4f1-fefb-412e-9b75-122863422200",
   "metadata": {},
   "outputs": [],
   "source": [
    "extra = {\n",
    "    'type': float,\n",
    "    'style': 'number',\n",
    "    'required': True,\n",
    "    'units': None,\n",
    "    'description': 'height',\n",
    "    'alias': [],\n",
    "    'options': [],\n",
    "    'example': 10.0,\n",
    "    'default': 0.0\n",
    "}\n",
    "b.add_base_attribute(\"height\", 0, extra)"
   ]
  },
  {
   "cell_type": "code",
   "execution_count": 10,
   "id": "405063cf-6c0d-4a88-bf26-a41abec70c32",
   "metadata": {},
   "outputs": [
    {
     "name": "stdout",
     "output_type": "stream",
     "text": [
      "base:\n",
      "\theight = 11.7\n",
      "\ttemperature = ambient\n"
     ]
    }
   ],
   "source": [
    "b.height = \"11.7\"\n",
    "print(b)"
   ]
  },
  {
   "cell_type": "code",
   "execution_count": 11,
   "id": "1cb86788-eb81-4d7b-b062-45f01b2c788f",
   "metadata": {},
   "outputs": [
    {
     "name": "stderr",
     "output_type": "stream",
     "text": [
      "2022-09-27 17:01:01,947 [line 359] mt_metadata.base.metadata.base.__setattr__ - ERROR: fail not found in options list ['ambient', 'air']\n"
     ]
    },
    {
     "ename": "MTSchemaError",
     "evalue": "fail not found in options list ['ambient', 'air']",
     "output_type": "error",
     "traceback": [
      "\u001b[1;31m---------------------------------------------------------------------------\u001b[0m",
      "\u001b[1;31mMTSchemaError\u001b[0m                             Traceback (most recent call last)",
      "\u001b[1;32m~\\AppData\\Local\\Temp\\1\\ipykernel_13288\\1125618368.py\u001b[0m in \u001b[0;36m<cell line: 1>\u001b[1;34m()\u001b[0m\n\u001b[1;32m----> 1\u001b[1;33m \u001b[0mb\u001b[0m\u001b[1;33m.\u001b[0m\u001b[0mtemperature\u001b[0m \u001b[1;33m=\u001b[0m \u001b[1;34m\"fail\"\u001b[0m\u001b[1;33m\u001b[0m\u001b[1;33m\u001b[0m\u001b[0m\n\u001b[0m",
      "\u001b[1;32m~\\OneDrive - DOI\\Documents\\GitHub\\mt_metadata\\mt_metadata\\base\\metadata.py\u001b[0m in \u001b[0;36m__setattr__\u001b[1;34m(self, name, value)\u001b[0m\n\u001b[0;32m    358\u001b[0m                     \u001b[1;32mif\u001b[0m \u001b[1;32mnot\u001b[0m \u001b[0maccept\u001b[0m\u001b[1;33m:\u001b[0m\u001b[1;33m\u001b[0m\u001b[1;33m\u001b[0m\u001b[0m\n\u001b[0;32m    359\u001b[0m                         \u001b[0mself\u001b[0m\u001b[1;33m.\u001b[0m\u001b[0mlogger\u001b[0m\u001b[1;33m.\u001b[0m\u001b[0merror\u001b[0m\u001b[1;33m(\u001b[0m\u001b[0mmsg\u001b[0m\u001b[1;33m.\u001b[0m\u001b[0mformat\u001b[0m\u001b[1;33m(\u001b[0m\u001b[0mvalue\u001b[0m\u001b[1;33m,\u001b[0m \u001b[0moptions\u001b[0m\u001b[1;33m)\u001b[0m\u001b[1;33m)\u001b[0m\u001b[1;33m\u001b[0m\u001b[1;33m\u001b[0m\u001b[0m\n\u001b[1;32m--> 360\u001b[1;33m                         \u001b[1;32mraise\u001b[0m \u001b[0mMTSchemaError\u001b[0m\u001b[1;33m(\u001b[0m\u001b[0mmsg\u001b[0m\u001b[1;33m.\u001b[0m\u001b[0mformat\u001b[0m\u001b[1;33m(\u001b[0m\u001b[0mvalue\u001b[0m\u001b[1;33m,\u001b[0m \u001b[0moptions\u001b[0m\u001b[1;33m)\u001b[0m\u001b[1;33m)\u001b[0m\u001b[1;33m\u001b[0m\u001b[1;33m\u001b[0m\u001b[0m\n\u001b[0m\u001b[0;32m    361\u001b[0m                     \u001b[1;32mif\u001b[0m \u001b[0mother\u001b[0m \u001b[1;32mand\u001b[0m \u001b[1;32mnot\u001b[0m \u001b[0maccept\u001b[0m\u001b[1;33m:\u001b[0m\u001b[1;33m\u001b[0m\u001b[1;33m\u001b[0m\u001b[0m\n\u001b[0;32m    362\u001b[0m                         \u001b[0mself\u001b[0m\u001b[1;33m.\u001b[0m\u001b[0mlogger\u001b[0m\u001b[1;33m.\u001b[0m\u001b[0mwarning\u001b[0m\u001b[1;33m(\u001b[0m\u001b[0mmsg\u001b[0m\u001b[1;33m.\u001b[0m\u001b[0mformat\u001b[0m\u001b[1;33m(\u001b[0m\u001b[0mvalue\u001b[0m\u001b[1;33m,\u001b[0m \u001b[0moptions\u001b[0m\u001b[1;33m,\u001b[0m \u001b[0mname\u001b[0m\u001b[1;33m)\u001b[0m\u001b[1;33m)\u001b[0m\u001b[1;33m\u001b[0m\u001b[1;33m\u001b[0m\u001b[0m\n",
      "\u001b[1;31mMTSchemaError\u001b[0m: fail not found in options list ['ambient', 'air']"
     ]
    }
   ],
   "source": [
    "b.temperature = \"fail\""
   ]
  },
  {
   "cell_type": "markdown",
   "id": "7d5f254f-495d-4476-ac15-29e2f8e02662",
   "metadata": {},
   "source": [
    "## A more complicated example\n",
    "\n",
    "We will look at a more complicated metadata object `mt_metadata.timeseries.Location`"
   ]
  },
  {
   "cell_type": "code",
   "execution_count": 12,
   "id": "fc7b9c93-fb69-4032-b264-51fb05eabb15",
   "metadata": {},
   "outputs": [],
   "source": [
    "from mt_metadata.timeseries import Location"
   ]
  },
  {
   "cell_type": "code",
   "execution_count": 13,
   "id": "0da5973d-8dbf-489b-a80d-29f3c8d4e4cd",
   "metadata": {},
   "outputs": [
    {
     "data": {
      "text/plain": [
       "['datum',\n",
       " 'declination.comments',\n",
       " 'declination.epoch',\n",
       " 'declination.model',\n",
       " 'declination.value',\n",
       " 'elevation',\n",
       " 'latitude',\n",
       " 'longitude',\n",
       " 'x',\n",
       " 'x2',\n",
       " 'y',\n",
       " 'y2',\n",
       " 'z',\n",
       " 'z2']"
      ]
     },
     "execution_count": 13,
     "metadata": {},
     "output_type": "execute_result"
    }
   ],
   "source": [
    "here = Location()\n",
    "here.get_attribute_list()"
   ]
  },
  {
   "cell_type": "code",
   "execution_count": 14,
   "id": "88a606d6-ee7c-4707-a414-7ce59df8a73e",
   "metadata": {},
   "outputs": [
    {
     "name": "stdout",
     "output_type": "stream",
     "text": [
      "latitude:\n",
      "\talias: ['lat']\n",
      "\tdefault: 0.0\n",
      "\tdescription: latitude of location in datum specified at survey level\n",
      "\texample: 23.134\n",
      "\toptions: []\n",
      "\trequired: True\n",
      "\tstyle: number\n",
      "\ttype: float\n",
      "\tunits: degrees\n",
      "==================================================\n",
      "longitude:\n",
      "\talias: ['lon', 'long']\n",
      "\tdefault: 0.0\n",
      "\tdescription: longitude of location in datum specified at survey level\n",
      "\texample: 14.23\n",
      "\toptions: []\n",
      "\trequired: True\n",
      "\tstyle: number\n",
      "\ttype: float\n",
      "\tunits: degrees\n",
      "==================================================\n",
      "elevation:\n",
      "\talias: ['elev']\n",
      "\tdefault: 0.0\n",
      "\tdescription: elevation of location in datum specified at survey level\n",
      "\texample: 123.4\n",
      "\toptions: []\n",
      "\trequired: True\n",
      "\tstyle: number\n",
      "\ttype: float\n",
      "\tunits: meters\n",
      "==================================================\n",
      "datum:\n",
      "\talias: []\n",
      "\tdefault: None\n",
      "\tdescription: Datum of the location values.  Usually a well known datum like WGS84.\n",
      "\texample: WGS84\n",
      "\toptions: ['WGS84', 'NAD83', 'other']\n",
      "\trequired: False\n",
      "\tstyle: controlled vocabulary\n",
      "\ttype: string\n",
      "\tunits: None\n",
      "==================================================\n",
      "x:\n",
      "\talias: ['east', 'easting']\n",
      "\tdefault: None\n",
      "\tdescription: relative distance to the center of the station\n",
      "\texample: 10.0\n",
      "\toptions: []\n",
      "\trequired: False\n",
      "\tstyle: number\n",
      "\ttype: float\n",
      "\tunits: meters\n",
      "==================================================\n",
      "x2:\n",
      "\talias: ['east', 'easting']\n",
      "\tdefault: None\n",
      "\tdescription: relative distance to the center of the station\n",
      "\texample: 10.0\n",
      "\toptions: []\n",
      "\trequired: False\n",
      "\tstyle: number\n",
      "\ttype: float\n",
      "\tunits: meters\n",
      "==================================================\n",
      "y:\n",
      "\talias: ['north', 'northing']\n",
      "\tdefault: None\n",
      "\tdescription: relative distance to the center of the station\n",
      "\texample: 10.0\n",
      "\toptions: []\n",
      "\trequired: False\n",
      "\tstyle: number\n",
      "\ttype: float\n",
      "\tunits: meters\n",
      "==================================================\n",
      "y2:\n",
      "\talias: ['north', 'northing']\n",
      "\tdefault: None\n",
      "\tdescription: relative distance to the center of the station\n",
      "\texample: 10.0\n",
      "\toptions: []\n",
      "\trequired: False\n",
      "\tstyle: number\n",
      "\ttype: float\n",
      "\tunits: meters\n",
      "==================================================\n",
      "z:\n",
      "\talias: []\n",
      "\tdefault: None\n",
      "\tdescription: relative elevation to the center of the station\n",
      "\texample: 10.0\n",
      "\toptions: []\n",
      "\trequired: False\n",
      "\tstyle: number\n",
      "\ttype: float\n",
      "\tunits: meters\n",
      "==================================================\n",
      "z2:\n",
      "\talias: []\n",
      "\tdefault: None\n",
      "\tdescription: relative elevation to the center of the station\n",
      "\texample: 10.0\n",
      "\toptions: []\n",
      "\trequired: False\n",
      "\tstyle: number\n",
      "\ttype: float\n",
      "\tunits: meters\n",
      "==================================================\n",
      "declination.comments:\n",
      "\talias: []\n",
      "\tdefault: None\n",
      "\tdescription: any comments on declination\n",
      "\texample: estimated from WMM 2016\n",
      "\toptions: []\n",
      "\trequired: False\n",
      "\tstyle: free form\n",
      "\ttype: string\n",
      "\tunits: None\n",
      "==================================================\n",
      "declination.model:\n",
      "\talias: []\n",
      "\tdefault: WMM\n",
      "\tdescription: geomagnetic reference model used to calculate declination\n",
      "\texample: WMM\n",
      "\toptions: ['EMAG2', 'EMM', 'HDGM', 'IGRF', 'WMM', 'unknown', 'other']\n",
      "\trequired: True\n",
      "\tstyle: controlled vocabulary\n",
      "\ttype: string\n",
      "\tunits: None\n",
      "==================================================\n",
      "declination.epoch:\n",
      "\talias: []\n",
      "\tdefault: None\n",
      "\tdescription: Epoch for which declination was approximated in.\n",
      "\texample: 2020\n",
      "\toptions: []\n",
      "\trequired: False\n",
      "\tstyle: free form\n",
      "\ttype: string\n",
      "\tunits: None\n",
      "==================================================\n",
      "declination.value:\n",
      "\talias: []\n",
      "\tdefault: 0.0\n",
      "\tdescription: declination angle relative to geographic north positive clockwise\n",
      "\texample: 12.3\n",
      "\toptions: []\n",
      "\trequired: True\n",
      "\tstyle: number\n",
      "\ttype: float\n",
      "\tunits: degrees\n",
      "==================================================\n"
     ]
    }
   ],
   "source": [
    "here.attribute_information()"
   ]
  },
  {
   "cell_type": "markdown",
   "id": "3deb70d9-903e-4db6-acdd-68653f4159c4",
   "metadata": {},
   "source": [
    "#### Getting/Setting an attribute\n",
    "\n",
    "These methods are convenience methods for getting/setting complicated attributes.  For instance getting/setting the declination value from a single call.  This is helpful when filling metadata from a file.  "
   ]
  },
  {
   "cell_type": "code",
   "execution_count": 15,
   "id": "150a6484-a0f5-4874-a717-c1026e338dce",
   "metadata": {},
   "outputs": [
    {
     "name": "stdout",
     "output_type": "stream",
     "text": [
      "location:\n",
      "\tdeclination.model = WMM\n",
      "\tdeclination.value = 10.0\n",
      "\televation = 0.0\n",
      "\tlatitude = 0.0\n",
      "\tlongitude = 0.0\n"
     ]
    }
   ],
   "source": [
    "here.set_attr_from_name(\"declination.value\", 10)\n",
    "print(here)"
   ]
  },
  {
   "cell_type": "code",
   "execution_count": 16,
   "id": "fb20f492-7eac-46cd-bb75-aaf8a5af8152",
   "metadata": {},
   "outputs": [
    {
     "data": {
      "text/plain": [
       "10.0"
      ]
     },
     "execution_count": 16,
     "metadata": {},
     "output_type": "execute_result"
    }
   ],
   "source": [
    "here.get_attr_from_name(\"declination.value\")"
   ]
  },
  {
   "cell_type": "code",
   "execution_count": 17,
   "id": "194168ad-1da2-42eb-b7c7-9e405114e736",
   "metadata": {},
   "outputs": [
    {
     "data": {
      "text/plain": [
       "10.0"
      ]
     },
     "execution_count": 17,
     "metadata": {},
     "output_type": "execute_result"
    }
   ],
   "source": [
    "# This is the same as\n",
    "here.declination.value"
   ]
  },
  {
   "cell_type": "markdown",
   "id": "04abe954-399e-41ac-9b32-293cde995db6",
   "metadata": {},
   "source": [
    "## Dictionary\n",
    "\n",
    "The basic element that the metadata can be in is a Python dictionary with key, value pairs. "
   ]
  },
  {
   "cell_type": "code",
   "execution_count": 18,
   "id": "acb8c570-22cb-441c-b434-4d3e4c373c11",
   "metadata": {},
   "outputs": [
    {
     "data": {
      "text/plain": [
       "{'location': OrderedDict([('declination.model', 'WMM'),\n",
       "              ('declination.value', 10.0),\n",
       "              ('elevation', 0.0),\n",
       "              ('latitude', 0.0),\n",
       "              ('longitude', 0.0)])}"
      ]
     },
     "execution_count": 18,
     "metadata": {},
     "output_type": "execute_result"
    }
   ],
   "source": [
    "here.to_dict()"
   ]
  },
  {
   "cell_type": "code",
   "execution_count": 19,
   "id": "a96a6f7c-783a-4f40-a227-1eeae87499b7",
   "metadata": {},
   "outputs": [
    {
     "name": "stdout",
     "output_type": "stream",
     "text": [
      "location:\n",
      "\tdeclination.model = WMM\n",
      "\tdeclination.value = -11.0\n",
      "\televation = 759.0\n",
      "\tlatitude = -34.0\n",
      "\tlongitude = -104.0\n"
     ]
    }
   ],
   "source": [
    "here.from_dict(\n",
    "    {\n",
    "        \"location\": {\n",
    "            \"declination.value\": -11.0,\n",
    "            \"elevation\": 759.0,\n",
    "            \"latitude\": -34.0,\n",
    "            \"longitude\": -104.0\n",
    "        }\n",
    "    }\n",
    ")\n",
    "print(here)"
   ]
  },
  {
   "cell_type": "markdown",
   "id": "6c3b8908-560f-4716-a968-683215e72ff4",
   "metadata": {},
   "source": [
    "## JSON\n",
    "\n",
    "JSON is a standard format human/machine readable and well supported in Python.  There are methods to to read/write JSON files.    "
   ]
  },
  {
   "cell_type": "code",
   "execution_count": 20,
   "id": "d69166f6-58e1-4ae7-82e9-bda538eb579a",
   "metadata": {},
   "outputs": [
    {
     "name": "stdout",
     "output_type": "stream",
     "text": [
      "{\n",
      "    \"location\": {\n",
      "        \"declination.model\": \"WMM\",\n",
      "        \"declination.value\": -11.0,\n",
      "        \"elevation\": 759.0,\n",
      "        \"latitude\": -34.0,\n",
      "        \"longitude\": -104.0\n",
      "    }\n",
      "}\n"
     ]
    }
   ],
   "source": [
    "# Compact form\n",
    "print(here.to_json())"
   ]
  },
  {
   "cell_type": "code",
   "execution_count": 21,
   "id": "9a09e82a-05a1-4810-9c53-92421c9fff4b",
   "metadata": {},
   "outputs": [
    {
     "name": "stdout",
     "output_type": "stream",
     "text": [
      "location:\n",
      "\tdeclination.model = WMM\n",
      "\tdeclination.value = 10.0\n",
      "\televation = 99.0\n",
      "\tlatitude = 40.0\n",
      "\tlongitude = -120.0\n"
     ]
    }
   ],
   "source": [
    "here.from_json('{\"location\": {\"declination.model\": \"WMM\", \"declination.value\": 10.0, \"elevation\": 99.0, \"latitude\": 40.0, \"longitude\": -120.0}}')\n",
    "print(here)"
   ]
  },
  {
   "cell_type": "code",
   "execution_count": 22,
   "id": "e3b88d26-b753-4fe5-974e-51fbb23e0501",
   "metadata": {},
   "outputs": [
    {
     "name": "stdout",
     "output_type": "stream",
     "text": [
      "{\n",
      "    \"location\": {\n",
      "        \"declination\": {\n",
      "            \"model\": \"WMM\",\n",
      "            \"value\": 10.0\n",
      "        },\n",
      "        \"elevation\": 99.0,\n",
      "        \"latitude\": 40.0,\n",
      "        \"longitude\": -120.0\n",
      "    }\n",
      "}\n"
     ]
    }
   ],
   "source": [
    "# Nested form\n",
    "print(here.to_json(nested=True))"
   ]
  },
  {
   "cell_type": "code",
   "execution_count": 23,
   "id": "1e262543-25f5-4759-a34f-be2780678886",
   "metadata": {},
   "outputs": [
    {
     "name": "stdout",
     "output_type": "stream",
     "text": [
      "location:\n",
      "\tdeclination.model = WMM\n",
      "\tdeclination.value = -12.0\n",
      "\televation = 199.0\n",
      "\tlatitude = 20.0\n",
      "\tlongitude = -110.0\n"
     ]
    }
   ],
   "source": [
    "here.from_json('{\"location\": {\"declination\": {\"model\": \"WMM\", \"value\": -12.0}, \"elevation\": 199.0, \"latitude\": 20.0, \"longitude\": -110.0}}')\n",
    "print(here)"
   ]
  },
  {
   "cell_type": "markdown",
   "id": "1f31aeb5-cc05-4440-ae6f-144c15c1fee5",
   "metadata": {},
   "source": [
    "## XML\n",
    "\n",
    "XML is also a common format for metadata, though not as human readable.  "
   ]
  },
  {
   "cell_type": "code",
   "execution_count": 24,
   "id": "2f3c6d12-7c16-4ca5-839b-838c0c01a203",
   "metadata": {},
   "outputs": [
    {
     "name": "stdout",
     "output_type": "stream",
     "text": [
      "<?xml version=\"1.0\" ?>\n",
      "<location>\n",
      "    <declination>\n",
      "        <model>WMM</model>\n",
      "        <value units=\"degrees\">-12.0</value>\n",
      "    </declination>\n",
      "    <elevation units=\"meters\">199.0</elevation>\n",
      "    <latitude units=\"degrees\">20.0</latitude>\n",
      "    <longitude units=\"degrees\">-110.0</longitude>\n",
      "</location>\n",
      "\n"
     ]
    }
   ],
   "source": [
    "print(here.to_xml(string=True))"
   ]
  },
  {
   "cell_type": "code",
   "execution_count": 25,
   "id": "62120ee5-d5fa-4626-aa96-fa6b074a9ffd",
   "metadata": {},
   "outputs": [
    {
     "name": "stdout",
     "output_type": "stream",
     "text": [
      "location:\n",
      "\tdeclination.model = WMM\n",
      "\tdeclination.value = -12.0\n",
      "\televation = 199.0\n",
      "\tlatitude = -10.0\n",
      "\tlongitude = -110.0\n"
     ]
    }
   ],
   "source": [
    "from xml.etree import cElementTree as et\n",
    "location = et.Element('location')\n",
    "lat = et.SubElement(location, 'latitude')\n",
    "lat.text = \"-10\"\n",
    "here.from_xml(location)\n",
    "print(here)"
   ]
  },
  {
   "cell_type": "markdown",
   "id": "42a76e00-3cc5-4c31-a8f5-61f97edd23b3",
   "metadata": {},
   "source": [
    "## Pandas Series\n",
    "\n",
    "Pandas is a common data base object that is commonly used for columnar data.  A series is basically like a single row in a data base. "
   ]
  },
  {
   "cell_type": "code",
   "execution_count": 26,
   "id": "461cc4c5-ba35-43f5-b92c-818b17edaebd",
   "metadata": {},
   "outputs": [
    {
     "name": "stdout",
     "output_type": "stream",
     "text": [
      "declination.model      WMM\n",
      "declination.value    -12.0\n",
      "elevation            199.0\n",
      "latitude             -10.0\n",
      "longitude           -110.0\n",
      "dtype: object\n"
     ]
    }
   ],
   "source": [
    "pd_series = here.to_series()\n",
    "print(pd_series)"
   ]
  },
  {
   "cell_type": "code",
   "execution_count": 27,
   "id": "87be9165-986e-41c5-9480-46a90d496e90",
   "metadata": {},
   "outputs": [
    {
     "name": "stdout",
     "output_type": "stream",
     "text": [
      "location:\n",
      "\tdeclination.model = WMM\n",
      "\tdeclination.value = -14.0\n",
      "\televation = 399.0\n",
      "\tlatitude = -14.0\n",
      "\tlongitude = -112.0\n"
     ]
    }
   ],
   "source": [
    "from pandas import Series\n",
    "\n",
    "location_series = Series(\n",
    "    {\n",
    "        'declination.model': 'WMM',\n",
    "         'declination.value': -14.0,\n",
    "         'elevation': 399.0,\n",
    "         'latitude': -14.0,\n",
    "         'longitude': -112.0\n",
    "    }\n",
    ")\n",
    "\n",
    "here.from_series(location_series)\n",
    "print(here)"
   ]
  }
 ],
 "metadata": {
  "kernelspec": {
   "display_name": "Python 3 (ipykernel)",
   "language": "python",
   "name": "python3"
  },
  "language_info": {
   "codemirror_mode": {
    "name": "ipython",
    "version": 3
   },
   "file_extension": ".py",
   "mimetype": "text/x-python",
   "name": "python",
   "nbconvert_exporter": "python",
   "pygments_lexer": "ipython3",
   "version": "3.8.13"
  }
 },
 "nbformat": 4,
 "nbformat_minor": 5
}
