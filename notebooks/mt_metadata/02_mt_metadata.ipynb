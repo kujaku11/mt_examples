{
 "cells": [
  {
   "cell_type": "markdown",
   "id": "b90777d9-ffb8-4334-8929-23c46215c273",
   "metadata": {},
   "source": [
    "# MT Metadata Example 02\n",
    "\n",
    "## Introduction to MT Metadata\n",
    "\n",
    "MT metadata was developed by the [Working Group for Magnetotelluric Data Handling and Software](https://www.iris.edu/hq/about_iris/governance/mt_soft) over the coarse of 2 years.  The settled upon standard is hierarchical as show below.  \n",
    "\n",
    "```\n",
    "Experiment --> Survey --> Station --> Run --> Channel\n",
    "```\n",
    "\n",
    "| Level | Description |\n",
    "|-------|-------------|\n",
    "| Experiment | The highest level, ironically currently does not have any metadata directly associated with it. |\n",
    "| Survey | A single MT survey, usually confined by time or location |\n",
    "| Station | A single MT sounding collectin in a single geographic point |\n",
    "| Run | A continuous block of time series data collected at a station |\n",
    "| Channel | A single channel collected in a run |\n",
    "\n",
    "`mt_metadata` provides classes for each of these levels in `mt_metadata.timeseries`, where each class inherits `Base`. Each of these levels, except `Experiment`, has certain metadata associate with it, below those are shown. "
   ]
  },
  {
   "cell_type": "markdown",
   "id": "ec918b1f-18d5-4cae-951b-98accc5c3603",
   "metadata": {},
   "source": [
    "## Experiment\n",
    "\n",
    "Currently `Experiment` is a convenience class for containing a group of `Survey` objects.  In the future `Experiment` will have metadata.  The benefit of `Experiment` is that it can easily be converted to an all inclusive JSON, XML or translated to a StationXML file, where the resulting file contains all the metadata for the experiment.   "
   ]
  },
  {
   "cell_type": "code",
   "execution_count": 1,
   "id": "dbd293e6-8159-4bda-b44e-eddca452d16d",
   "metadata": {},
   "outputs": [],
   "source": [
    "from mt_metadata.timeseries import Experiment"
   ]
  },
  {
   "cell_type": "code",
   "execution_count": 2,
   "id": "4127142a-17e4-48e4-b2c8-5bcd067bf637",
   "metadata": {},
   "outputs": [
    {
     "data": {
      "text/plain": [
       "Experiment Contents\n",
       "--------------------"
      ]
     },
     "execution_count": 2,
     "metadata": {},
     "output_type": "execute_result"
    }
   ],
   "source": [
    "experiment = Experiment()\n",
    "experiment"
   ]
  },
  {
   "cell_type": "markdown",
   "id": "91bf46b8-8fa7-488f-8917-19d898788596",
   "metadata": {},
   "source": [
    "#### Methods\n",
    "\n",
    "Besides the methods provided by `Base` `Experiment` provides some convenient methods\n",
    "\n",
    "| Method | Description |\n",
    "|--------|-------------|\n",
    "| `survey_names` | list of survey names contained in the experiment |\n",
    "| `surveys` | list of `Survey` objects |"
   ]
  },
  {
   "cell_type": "markdown",
   "id": "7ee3ab47-aa6d-49d8-ae4e-7b0b282144a1",
   "metadata": {},
   "source": [
    "## Survey\n",
    "\n",
    "Again, a survey is a group of MT stations collected in a specific geographic region or collected during a specific time period. Below are all the metadata that a `Survey` object can contain.  Note that most of the metadata are built with smaller metadata objects, for example `acquired_by` is a `mt_metadata.timeseries.Person` object and can contain any of the attributes a `Person` can have.    "
   ]
  },
  {
   "cell_type": "code",
   "execution_count": 5,
   "id": "e526e9a9-2bb2-424d-b61e-e353af3fb1fb",
   "metadata": {},
   "outputs": [],
   "source": [
    "from mt_metadata.timeseries import Survey"
   ]
  },
  {
   "cell_type": "code",
   "execution_count": 8,
   "id": "b282b093-b8fb-4464-90ae-9fd495d3f6f9",
   "metadata": {},
   "outputs": [
    {
     "name": "stdout",
     "output_type": "stream",
     "text": [
      "{\n",
      "    \"survey\": {\n",
      "        \"acquired_by.author\": null,\n",
      "        \"acquired_by.comments\": null,\n",
      "        \"citation_dataset.authors\": null,\n",
      "        \"citation_dataset.doi\": null,\n",
      "        \"citation_dataset.journal\": null,\n",
      "        \"citation_dataset.pages\": null,\n",
      "        \"citation_dataset.title\": null,\n",
      "        \"citation_dataset.volume\": null,\n",
      "        \"citation_dataset.year\": \"1980-01-01T00:00:00+00:00\",\n",
      "        \"citation_journal.authors\": null,\n",
      "        \"citation_journal.doi\": null,\n",
      "        \"citation_journal.journal\": null,\n",
      "        \"citation_journal.pages\": null,\n",
      "        \"citation_journal.title\": null,\n",
      "        \"citation_journal.volume\": null,\n",
      "        \"citation_journal.year\": \"1980-01-01T00:00:00+00:00\",\n",
      "        \"comments\": null,\n",
      "        \"country\": null,\n",
      "        \"datum\": \"WGS84\",\n",
      "        \"fdsn.alternate_code\": null,\n",
      "        \"fdsn.alternate_network_code\": null,\n",
      "        \"fdsn.channel_code\": null,\n",
      "        \"fdsn.id\": null,\n",
      "        \"fdsn.network\": null,\n",
      "        \"fdsn.new_epoch\": null,\n",
      "        \"geographic_name\": null,\n",
      "        \"id\": null,\n",
      "        \"name\": null,\n",
      "        \"northwest_corner.latitude\": 0.0,\n",
      "        \"northwest_corner.longitude\": 0.0,\n",
      "        \"project\": null,\n",
      "        \"project_lead.author\": null,\n",
      "        \"project_lead.email\": null,\n",
      "        \"project_lead.organization\": null,\n",
      "        \"release_license\": \"CC-0\",\n",
      "        \"southeast_corner.latitude\": 0.0,\n",
      "        \"southeast_corner.longitude\": 0.0,\n",
      "        \"summary\": null,\n",
      "        \"time_period.end_date\": \"1980-01-01\",\n",
      "        \"time_period.start_date\": \"1980-01-01\"\n",
      "    }\n",
      "}\n"
     ]
    }
   ],
   "source": [
    "survey = Survey()\n",
    "print(survey.to_json(required=False))"
   ]
  },
  {
   "cell_type": "code",
   "execution_count": null,
   "id": "cccceec0-660c-49a8-bb73-7198b5f0c212",
   "metadata": {},
   "outputs": [],
   "source": []
  }
 ],
 "metadata": {
  "kernelspec": {
   "display_name": "Python 3 (ipykernel)",
   "language": "python",
   "name": "python3"
  },
  "language_info": {
   "codemirror_mode": {
    "name": "ipython",
    "version": 3
   },
   "file_extension": ".py",
   "mimetype": "text/x-python",
   "name": "python",
   "nbconvert_exporter": "python",
   "pygments_lexer": "ipython3",
   "version": "3.8.13"
  }
 },
 "nbformat": 4,
 "nbformat_minor": 5
}
