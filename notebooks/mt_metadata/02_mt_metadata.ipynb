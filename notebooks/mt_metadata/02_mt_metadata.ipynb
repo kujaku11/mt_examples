{
 "cells": [
  {
   "cell_type": "markdown",
   "id": "b90777d9-ffb8-4334-8929-23c46215c273",
   "metadata": {},
   "source": [
    "# MT Metadata Example 02\n",
    "\n",
    "## Introduction to MT Metadata\n",
    "\n",
    "MT metadata was developed by the [Working Group for Magnetotelluric Data Handling and Software](https://www.iris.edu/hq/about_iris/governance/mt_soft) over the coarse of 2 years.  The settled upon standard is hierarchical as show below.  \n",
    "\n",
    "```\n",
    "Experiment --> Survey --> Station --> Run --> Channel\n",
    "```\n",
    "\n",
    "| Level | Description |\n",
    "|-------|-------------|\n",
    "| Experiment | The highest level, ironically currently does not have any metadata directly associated with it. |\n",
    "| Survey | A single MT survey, usually confined by time or location |\n",
    "| Station | A single MT sounding collectin in a single geographic point |\n",
    "| Run | A continuous block of time series data collected at a station |\n",
    "| Channel | A single channel collected in a run |\n",
    "\n",
    "`mt_metadata` provides classes for each of these levels in `mt_metadata.timeseries`, where each class inherits `Base`. Each of these levels, except `Experiment`, has certain metadata associate with it, below those are shown. "
   ]
  },
  {
   "cell_type": "markdown",
   "id": "ec918b1f-18d5-4cae-951b-98accc5c3603",
   "metadata": {},
   "source": [
    "## Experiment\n",
    "\n",
    "Currently `Experiment` is a convenience class for containing a group of `Survey` objects.  In the future `Experiment` will have metadata.  The benefit of `Experiment` is that it can easily be converted to an all inclusive JSON, XML or translated to a StationXML file, where the resulting file contains all the metadata for the experiment."
   ]
  },
  {
   "cell_type": "code",
   "execution_count": 1,
   "id": "dbd293e6-8159-4bda-b44e-eddca452d16d",
   "metadata": {},
   "outputs": [],
   "source": [
    "from mt_metadata.timeseries import Experiment"
   ]
  },
  {
   "cell_type": "code",
   "execution_count": 2,
   "id": "4127142a-17e4-48e4-b2c8-5bcd067bf637",
   "metadata": {},
   "outputs": [
    {
     "data": {
      "text/plain": [
       "Experiment Contents\n",
       "--------------------"
      ]
     },
     "execution_count": 2,
     "metadata": {},
     "output_type": "execute_result"
    }
   ],
   "source": [
    "experiment = Experiment()\n",
    "experiment"
   ]
  },
  {
   "cell_type": "markdown",
   "id": "91bf46b8-8fa7-488f-8917-19d898788596",
   "metadata": {},
   "source": [
    "#### Methods\n",
    "\n",
    "Besides the methods provided by `Base` `Experiment` provides some convenient methods\n",
    "\n",
    "| Method | Description |\n",
    "|--------|-------------|\n",
    "| `survey_names` | list of survey names contained in the experiment |\n",
    "| `surveys` | list of `Survey` objects |"
   ]
  },
  {
   "cell_type": "markdown",
   "id": "7ee3ab47-aa6d-49d8-ae4e-7b0b282144a1",
   "metadata": {},
   "source": [
    "## Survey\n",
    "\n",
    "Again, a survey is a group of MT stations collected in a specific geographic region or collected during a specific time period. Below are all the metadata that a `Survey` object can contain.  Note that most of the metadata are built with smaller metadata objects, for example `acquired_by` is a `mt_metadata.timeseries.Person` object and can contain any of the attributes a `Person` can have. \n",
    "\n",
    "One key component of `Survey` is that filters are stored at this level to remove redunant metadata at the channel level.  Filters are covered in the next examples.   "
   ]
  },
  {
   "cell_type": "code",
   "execution_count": 10,
   "id": "e526e9a9-2bb2-424d-b61e-e353af3fb1fb",
   "metadata": {},
   "outputs": [],
   "source": [
    "from mt_metadata.timeseries import Survey"
   ]
  },
  {
   "cell_type": "code",
   "execution_count": 11,
   "id": "b282b093-b8fb-4464-90ae-9fd495d3f6f9",
   "metadata": {},
   "outputs": [
    {
     "name": "stdout",
     "output_type": "stream",
     "text": [
      "{\n",
      "    \"survey\": {\n",
      "        \"acquired_by.author\": null,\n",
      "        \"acquired_by.comments\": null,\n",
      "        \"citation_dataset.authors\": null,\n",
      "        \"citation_dataset.doi\": null,\n",
      "        \"citation_dataset.journal\": null,\n",
      "        \"citation_dataset.pages\": null,\n",
      "        \"citation_dataset.title\": null,\n",
      "        \"citation_dataset.volume\": null,\n",
      "        \"citation_dataset.year\": \"1980-01-01T00:00:00+00:00\",\n",
      "        \"citation_journal.authors\": null,\n",
      "        \"citation_journal.doi\": null,\n",
      "        \"citation_journal.journal\": null,\n",
      "        \"citation_journal.pages\": null,\n",
      "        \"citation_journal.title\": null,\n",
      "        \"citation_journal.volume\": null,\n",
      "        \"citation_journal.year\": \"1980-01-01T00:00:00+00:00\",\n",
      "        \"comments\": null,\n",
      "        \"country\": null,\n",
      "        \"datum\": \"WGS84\",\n",
      "        \"fdsn.alternate_code\": null,\n",
      "        \"fdsn.alternate_network_code\": null,\n",
      "        \"fdsn.channel_code\": null,\n",
      "        \"fdsn.id\": null,\n",
      "        \"fdsn.network\": null,\n",
      "        \"fdsn.new_epoch\": null,\n",
      "        \"geographic_name\": null,\n",
      "        \"id\": null,\n",
      "        \"name\": null,\n",
      "        \"northwest_corner.latitude\": 0.0,\n",
      "        \"northwest_corner.longitude\": 0.0,\n",
      "        \"project\": null,\n",
      "        \"project_lead.author\": null,\n",
      "        \"project_lead.email\": null,\n",
      "        \"project_lead.organization\": null,\n",
      "        \"release_license\": \"CC-0\",\n",
      "        \"southeast_corner.latitude\": 0.0,\n",
      "        \"southeast_corner.longitude\": 0.0,\n",
      "        \"summary\": null,\n",
      "        \"time_period.end_date\": \"1980-01-01\",\n",
      "        \"time_period.start_date\": \"1980-01-01\"\n",
      "    }\n",
      "}\n"
     ]
    }
   ],
   "source": [
    "survey = Survey()\n",
    "print(survey.to_json(required=False))"
   ]
  },
  {
   "cell_type": "code",
   "execution_count": 12,
   "id": "8deefb26-41e9-4014-9b6c-33568a84c19c",
   "metadata": {},
   "outputs": [
    {
     "data": {
      "text/plain": [
       "{}"
      ]
     },
     "execution_count": 12,
     "metadata": {},
     "output_type": "execute_result"
    }
   ],
   "source": [
    "survey.filters"
   ]
  },
  {
   "cell_type": "markdown",
   "id": "10af278d-ad0a-471e-8aa5-0299f59979af",
   "metadata": {},
   "source": [
    "## Station\n",
    "\n",
    "Station is a MT sounding at a single geologic point."
   ]
  },
  {
   "cell_type": "code",
   "execution_count": 1,
   "id": "758bcabd-dd80-4492-979e-0e9b45e302de",
   "metadata": {},
   "outputs": [],
   "source": [
    "from mt_metadata.timeseries import Station"
   ]
  },
  {
   "cell_type": "code",
   "execution_count": 2,
   "id": "3fd802a4-9d33-439c-9642-24d11eaac0d5",
   "metadata": {},
   "outputs": [
    {
     "name": "stdout",
     "output_type": "stream",
     "text": [
      "{\n",
      "    \"station\": {\n",
      "        \"acquired_by.comments\": null,\n",
      "        \"acquired_by.name\": null,\n",
      "        \"channel_layout\": null,\n",
      "        \"channels_recorded\": [],\n",
      "        \"comments\": null,\n",
      "        \"data_type\": \"BBMT\",\n",
      "        \"fdsn.alternate_code\": null,\n",
      "        \"fdsn.alternate_network_code\": null,\n",
      "        \"fdsn.channel_code\": null,\n",
      "        \"fdsn.id\": null,\n",
      "        \"fdsn.network\": null,\n",
      "        \"fdsn.new_epoch\": null,\n",
      "        \"geographic_name\": null,\n",
      "        \"id\": null,\n",
      "        \"location.datum\": null,\n",
      "        \"location.declination.comments\": null,\n",
      "        \"location.declination.epoch\": null,\n",
      "        \"location.declination.model\": \"WMM\",\n",
      "        \"location.declination.value\": 0.0,\n",
      "        \"location.elevation\": 0.0,\n",
      "        \"location.latitude\": 0.0,\n",
      "        \"location.longitude\": 0.0,\n",
      "        \"location.x\": null,\n",
      "        \"location.x2\": null,\n",
      "        \"location.y\": null,\n",
      "        \"location.y2\": null,\n",
      "        \"location.z\": null,\n",
      "        \"location.z2\": null,\n",
      "        \"orientation.angle_to_geographic_north\": null,\n",
      "        \"orientation.method\": null,\n",
      "        \"orientation.reference_frame\": \"geographic\",\n",
      "        \"orientation.value\": null,\n",
      "        \"provenance.comments\": null,\n",
      "        \"provenance.creation_time\": \"1980-01-01T00:00:00+00:00\",\n",
      "        \"provenance.log\": null,\n",
      "        \"provenance.software.author\": \"none\",\n",
      "        \"provenance.software.last_updated\": \"1980-01-01T00:00:00+00:00\",\n",
      "        \"provenance.software.name\": null,\n",
      "        \"provenance.software.version\": null,\n",
      "        \"provenance.submitter.author\": null,\n",
      "        \"provenance.submitter.email\": null,\n",
      "        \"provenance.submitter.organization\": null,\n",
      "        \"run_list\": [],\n",
      "        \"time_period.end\": \"1980-01-01T00:00:00+00:00\",\n",
      "        \"time_period.start\": \"1980-01-01T00:00:00+00:00\"\n",
      "    }\n",
      "}\n"
     ]
    }
   ],
   "source": [
    "station = Station()\n",
    "print(station.to_json(required=False))"
   ]
  },
  {
   "cell_type": "markdown",
   "id": "b844c18f-5527-40f0-a1a2-031ee6999db5",
   "metadata": {},
   "source": [
    "## Run\n",
    "\n",
    "Run is a continuous block of data collected at a station at a single sample rate."
   ]
  },
  {
   "cell_type": "code",
   "execution_count": 3,
   "id": "40b172bc-73c8-4b3e-b388-4d37d1559407",
   "metadata": {},
   "outputs": [],
   "source": [
    "from mt_metadata.timeseries import Run"
   ]
  },
  {
   "cell_type": "code",
   "execution_count": 4,
   "id": "c3daa4fe-c4fd-4c1e-9f09-8e39bf103b81",
   "metadata": {},
   "outputs": [
    {
     "name": "stdout",
     "output_type": "stream",
     "text": [
      "{\n",
      "    \"run\": {\n",
      "        \"acquired_by.author\": null,\n",
      "        \"acquired_by.comments\": null,\n",
      "        \"channels_recorded_auxiliary\": [],\n",
      "        \"channels_recorded_electric\": [],\n",
      "        \"channels_recorded_magnetic\": [],\n",
      "        \"comments\": null,\n",
      "        \"data_logger.firmware.author\": null,\n",
      "        \"data_logger.firmware.last_updated\": \"1980-01-01T00:00:00+00:00\",\n",
      "        \"data_logger.firmware.name\": null,\n",
      "        \"data_logger.firmware.version\": null,\n",
      "        \"data_logger.id\": null,\n",
      "        \"data_logger.manufacturer\": null,\n",
      "        \"data_logger.model\": null,\n",
      "        \"data_logger.name\": null,\n",
      "        \"data_logger.power_source.comments\": null,\n",
      "        \"data_logger.power_source.id\": null,\n",
      "        \"data_logger.power_source.type\": null,\n",
      "        \"data_logger.power_source.voltage.end\": null,\n",
      "        \"data_logger.power_source.voltage.start\": null,\n",
      "        \"data_logger.timing_system.comments\": null,\n",
      "        \"data_logger.timing_system.drift\": 0.0,\n",
      "        \"data_logger.timing_system.type\": \"GPS\",\n",
      "        \"data_logger.timing_system.uncertainty\": 0.0,\n",
      "        \"data_logger.type\": null,\n",
      "        \"data_type\": \"BBMT\",\n",
      "        \"fdsn.alternate_code\": null,\n",
      "        \"fdsn.alternate_network_code\": null,\n",
      "        \"fdsn.channel_code\": null,\n",
      "        \"fdsn.id\": null,\n",
      "        \"fdsn.network\": null,\n",
      "        \"fdsn.new_epoch\": null,\n",
      "        \"id\": null,\n",
      "        \"metadata_by.author\": null,\n",
      "        \"metadata_by.comments\": null,\n",
      "        \"provenance.comments\": null,\n",
      "        \"provenance.log\": null,\n",
      "        \"sample_rate\": 0.0,\n",
      "        \"time_period.end\": \"1980-01-01T00:00:00+00:00\",\n",
      "        \"time_period.start\": \"1980-01-01T00:00:00+00:00\"\n",
      "    }\n",
      "}\n"
     ]
    }
   ],
   "source": [
    "run = Run()\n",
    "print(run.to_json(required=False))"
   ]
  },
  {
   "cell_type": "markdown",
   "id": "b9ed98a3-6be7-4ce5-857c-2e2d7847a214",
   "metadata": {},
   "source": [
    "## Channel\n",
    "\n",
    "Channel is a 1D timeseries collected in a run.  There are 3 types of channels `Electric`, `Magnetic`, and `Auxiliary`"
   ]
  },
  {
   "cell_type": "code",
   "execution_count": 5,
   "id": "5abf343d-75bd-4373-bca0-0076875e94af",
   "metadata": {},
   "outputs": [],
   "source": [
    "from mt_metadata.timeseries import Electric, Magnetic, Auxiliary"
   ]
  },
  {
   "cell_type": "markdown",
   "id": "a9e0bbc0-d688-4770-9801-0562d0e1da09",
   "metadata": {},
   "source": [
    "### Electric Channel\n",
    "\n",
    "Electric channels measure the potential difference between a positive and negative electrode.  "
   ]
  },
  {
   "cell_type": "code",
   "execution_count": 6,
   "id": "9913efa4-ade2-4417-914b-d8b95ce143f8",
   "metadata": {},
   "outputs": [
    {
     "name": "stdout",
     "output_type": "stream",
     "text": [
      "{\n",
      "    \"electric\": {\n",
      "        \"ac.end\": null,\n",
      "        \"ac.start\": null,\n",
      "        \"channel_id\": null,\n",
      "        \"channel_number\": 0,\n",
      "        \"comments\": null,\n",
      "        \"component\": null,\n",
      "        \"contact_resistance.end\": null,\n",
      "        \"contact_resistance.start\": null,\n",
      "        \"data_quality.comments\": null,\n",
      "        \"data_quality.flag\": null,\n",
      "        \"data_quality.good_from_period\": null,\n",
      "        \"data_quality.good_to_period\": null,\n",
      "        \"data_quality.rating.author\": null,\n",
      "        \"data_quality.rating.method\": null,\n",
      "        \"data_quality.rating.value\": 0,\n",
      "        \"data_quality.warnings\": null,\n",
      "        \"dc.end\": null,\n",
      "        \"dc.start\": null,\n",
      "        \"dipole_length\": null,\n",
      "        \"filter.applied\": [\n",
      "            false\n",
      "        ],\n",
      "        \"filter.comments\": null,\n",
      "        \"filter.name\": [],\n",
      "        \"measurement_azimuth\": 0.0,\n",
      "        \"measurement_tilt\": 0.0,\n",
      "        \"negative.datum\": null,\n",
      "        \"negative.elevation\": 0.0,\n",
      "        \"negative.id\": null,\n",
      "        \"negative.latitude\": 0.0,\n",
      "        \"negative.longitude\": 0.0,\n",
      "        \"negative.manufacturer\": null,\n",
      "        \"negative.model\": null,\n",
      "        \"negative.name\": null,\n",
      "        \"negative.type\": null,\n",
      "        \"negative.x\": null,\n",
      "        \"negative.x2\": null,\n",
      "        \"negative.y\": null,\n",
      "        \"negative.y2\": null,\n",
      "        \"negative.z\": null,\n",
      "        \"negative.z2\": null,\n",
      "        \"positive.datum\": null,\n",
      "        \"positive.elevation\": 0.0,\n",
      "        \"positive.id\": null,\n",
      "        \"positive.latitude\": 0.0,\n",
      "        \"positive.longitude\": 0.0,\n",
      "        \"positive.manufacturer\": null,\n",
      "        \"positive.model\": null,\n",
      "        \"positive.name\": null,\n",
      "        \"positive.type\": null,\n",
      "        \"positive.x\": null,\n",
      "        \"positive.x2\": null,\n",
      "        \"positive.y\": null,\n",
      "        \"positive.y2\": null,\n",
      "        \"positive.z\": null,\n",
      "        \"positive.z2\": null,\n",
      "        \"sample_rate\": 0.0,\n",
      "        \"time_period.end\": \"1980-01-01T00:00:00+00:00\",\n",
      "        \"time_period.start\": \"1980-01-01T00:00:00+00:00\",\n",
      "        \"translated_azimuth\": null,\n",
      "        \"translated_tilt\": null,\n",
      "        \"type\": \"electric\",\n",
      "        \"units\": null\n",
      "    }\n",
      "}\n"
     ]
    }
   ],
   "source": [
    "electric_channel = Electric()\n",
    "print(electric_channel.to_json(required=False))"
   ]
  },
  {
   "cell_type": "markdown",
   "id": "d0588e5a-d182-4d11-a3a4-b0d9886b561c",
   "metadata": {},
   "source": [
    "### Magnetic Channel\n",
    "\n",
    "A magnetic channel measures a single component of the magnetic field."
   ]
  },
  {
   "cell_type": "code",
   "execution_count": 7,
   "id": "75b0e40e-eec9-497d-a7dd-0a93aff50b05",
   "metadata": {},
   "outputs": [
    {
     "name": "stdout",
     "output_type": "stream",
     "text": [
      "{\n",
      "    \"magnetic\": {\n",
      "        \"channel_id\": null,\n",
      "        \"channel_number\": 0,\n",
      "        \"comments\": null,\n",
      "        \"component\": null,\n",
      "        \"data_quality.comments\": null,\n",
      "        \"data_quality.flag\": null,\n",
      "        \"data_quality.good_from_period\": null,\n",
      "        \"data_quality.good_to_period\": null,\n",
      "        \"data_quality.rating.author\": null,\n",
      "        \"data_quality.rating.method\": null,\n",
      "        \"data_quality.rating.value\": 0,\n",
      "        \"data_quality.warnings\": null,\n",
      "        \"fdsn.alternate_code\": null,\n",
      "        \"fdsn.alternate_network_code\": null,\n",
      "        \"fdsn.channel_code\": null,\n",
      "        \"fdsn.id\": null,\n",
      "        \"fdsn.network\": null,\n",
      "        \"fdsn.new_epoch\": null,\n",
      "        \"filter.applied\": [\n",
      "            false\n",
      "        ],\n",
      "        \"filter.comments\": null,\n",
      "        \"filter.name\": [],\n",
      "        \"h_field_max.end\": null,\n",
      "        \"h_field_max.start\": null,\n",
      "        \"h_field_min.end\": null,\n",
      "        \"h_field_min.start\": null,\n",
      "        \"location.elevation\": 0.0,\n",
      "        \"location.latitude\": 0.0,\n",
      "        \"location.longitude\": 0.0,\n",
      "        \"location.x\": null,\n",
      "        \"location.y\": null,\n",
      "        \"location.z\": null,\n",
      "        \"measurement_azimuth\": 0.0,\n",
      "        \"measurement_tilt\": 0.0,\n",
      "        \"sample_rate\": 0.0,\n",
      "        \"sensor.id\": null,\n",
      "        \"sensor.manufacturer\": null,\n",
      "        \"sensor.model\": null,\n",
      "        \"sensor.name\": null,\n",
      "        \"sensor.type\": null,\n",
      "        \"time_period.end\": \"1980-01-01T00:00:00+00:00\",\n",
      "        \"time_period.start\": \"1980-01-01T00:00:00+00:00\",\n",
      "        \"translated_azimuth\": null,\n",
      "        \"translated_tilt\": null,\n",
      "        \"type\": \"magnetic\",\n",
      "        \"units\": null\n",
      "    }\n",
      "}\n"
     ]
    }
   ],
   "source": [
    "magnetic_channel = Magnetic()\n",
    "print(magnetic_channel.to_json(required=False))"
   ]
  },
  {
   "cell_type": "markdown",
   "id": "f0dd7b20-89de-4008-a9bc-e42340e69dff",
   "metadata": {},
   "source": [
    "### Auxiliary Channel\n",
    "\n",
    "An auxiliary channel is anything that is not a magnetic or electric channel."
   ]
  },
  {
   "cell_type": "code",
   "execution_count": 8,
   "id": "6c871cd1-80c6-4209-8182-d4f1a0f90f4b",
   "metadata": {},
   "outputs": [
    {
     "name": "stdout",
     "output_type": "stream",
     "text": [
      "{\n",
      "    \"auxiliary\": {\n",
      "        \"channel_id\": null,\n",
      "        \"channel_number\": 0,\n",
      "        \"comments\": null,\n",
      "        \"component\": null,\n",
      "        \"data_quality.comments\": null,\n",
      "        \"data_quality.flag\": null,\n",
      "        \"data_quality.good_from_period\": null,\n",
      "        \"data_quality.good_to_period\": null,\n",
      "        \"data_quality.rating.author\": null,\n",
      "        \"data_quality.rating.method\": null,\n",
      "        \"data_quality.rating.value\": 0,\n",
      "        \"data_quality.warnings\": null,\n",
      "        \"fdsn.alternate_code\": null,\n",
      "        \"fdsn.alternate_network_code\": null,\n",
      "        \"fdsn.channel_code\": null,\n",
      "        \"fdsn.id\": null,\n",
      "        \"fdsn.network\": null,\n",
      "        \"fdsn.new_epoch\": null,\n",
      "        \"filter.applied\": [\n",
      "            false\n",
      "        ],\n",
      "        \"filter.comments\": null,\n",
      "        \"filter.name\": [],\n",
      "        \"location.elevation\": 0.0,\n",
      "        \"location.latitude\": 0.0,\n",
      "        \"location.longitude\": 0.0,\n",
      "        \"measurement_azimuth\": 0.0,\n",
      "        \"measurement_tilt\": 0.0,\n",
      "        \"sample_rate\": 0.0,\n",
      "        \"sensor.id\": null,\n",
      "        \"sensor.manufacturer\": null,\n",
      "        \"sensor.model\": null,\n",
      "        \"sensor.name\": null,\n",
      "        \"sensor.type\": null,\n",
      "        \"time_period.end\": \"1980-01-01T00:00:00+00:00\",\n",
      "        \"time_period.start\": \"1980-01-01T00:00:00+00:00\",\n",
      "        \"translated_azimuth\": null,\n",
      "        \"translated_tilt\": null,\n",
      "        \"type\": null,\n",
      "        \"units\": null\n",
      "    }\n",
      "}\n"
     ]
    }
   ],
   "source": [
    "auxiliary_channel = Auxiliary()\n",
    "print(auxiliary_channel.to_json(required=False))"
   ]
  },
  {
   "cell_type": "code",
   "execution_count": null,
   "id": "25e55f5f-058e-4763-bd9c-000ab1024bb1",
   "metadata": {},
   "outputs": [],
   "source": []
  }
 ],
 "metadata": {
  "kernelspec": {
   "display_name": "Python 3 (ipykernel)",
   "language": "python",
   "name": "python3"
  },
  "language_info": {
   "codemirror_mode": {
    "name": "ipython",
    "version": 3
   },
   "file_extension": ".py",
   "mimetype": "text/x-python",
   "name": "python",
   "nbconvert_exporter": "python",
   "pygments_lexer": "ipython3",
   "version": "3.8.13"
  }
 },
 "nbformat": 4,
 "nbformat_minor": 5
}
