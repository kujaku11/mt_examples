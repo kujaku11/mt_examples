{
 "cells": [
  {
   "cell_type": "markdown",
   "id": "681a97fa-0294-4a5a-8f3f-8d6d709773f9",
   "metadata": {},
   "source": [
    "# MT Metadata Example 5\n",
    "\n",
    "## Experiment\n",
    "\n",
    "We have covered some basics of MT metadata, lets put it together into an `Experiment`."
   ]
  },
  {
   "cell_type": "code",
   "execution_count": null,
   "id": "8a3704d0-c0bb-4227-b755-c65cc1712535",
   "metadata": {},
   "outputs": [],
   "source": [
    "from mt_metadata.timeseries import (\n",
    "    Auxiliary,\n",
    "    Electric,\n",
    "    Experiment,\n",
    "    Magnetic,\n",
    "    Run,\n",
    "    Station,\n",
    "    Survey,\n",
    ")"
   ]
  }
 ],
 "metadata": {
  "kernelspec": {
   "display_name": "Python 3 (ipykernel)",
   "language": "python",
   "name": "python3"
  },
  "language_info": {
   "codemirror_mode": {
    "name": "ipython",
    "version": 3
   },
   "file_extension": ".py",
   "mimetype": "text/x-python",
   "name": "python",
   "nbconvert_exporter": "python",
   "pygments_lexer": "ipython3",
   "version": "3.8.13"
  }
 },
 "nbformat": 4,
 "nbformat_minor": 5
}
