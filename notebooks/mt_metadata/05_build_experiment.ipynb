{
 "cells": [
  {
   "cell_type": "markdown",
   "id": "681a97fa-0294-4a5a-8f3f-8d6d709773f9",
   "metadata": {},
   "source": [
    "# MT Metadata Example 5\n",
    "\n",
    "## Experiment\n",
    "\n",
    "We have covered some basics of MT metadata, lets put it together into an `Experiment`."
   ]
  },
  {
   "cell_type": "code",
   "execution_count": 1,
   "id": "8a3704d0-c0bb-4227-b755-c65cc1712535",
   "metadata": {},
   "outputs": [],
   "source": [
    "from mt_metadata.timeseries import (\n",
    "    Auxiliary,\n",
    "    Electric,\n",
    "    Experiment,\n",
    "    Magnetic,\n",
    "    Run,\n",
    "    Station,\n",
    "    Survey,\n",
    ")\n",
    "from mt_metadata.timeseries.filters import CoefficientFilter"
   ]
  },
  {
   "cell_type": "code",
   "execution_count": 2,
   "id": "7d281688-06b2-434c-a7f4-c7c72c99d94a",
   "metadata": {},
   "outputs": [],
   "source": [
    "experiment = Experiment()\n",
    "\n",
    "# set a common start and end time\n",
    "start = \"2020-01-01T00:00:00+00:00\"\n",
    "end = \"2021-01-01T12:00:00+00:00\"\n",
    "\n",
    "kwargs = {\"time_period.start\": start, \"time_period.end\": end}\n",
    "cf1 = CoefficientFilter(name=\"filter_01\", gain=10)\n",
    "cf2 = CoefficientFilter(name=\"filter_02\", gain=100)\n",
    "\n",
    "ch1_kwargs = {\n",
    "    \"time_period.start\": start,\n",
    "    \"time_period.end\": end,\n",
    "    \"filter.name\": [\"filter_01\"],\n",
    "    \"comments\": \"run_ids: mt01a, mt01b\"\n",
    "}\n",
    "ch2_kwargs = {\n",
    "    \"time_period.start\": start,\n",
    "    \"time_period.end\": end,\n",
    "    \"filter.name\": [\"filter_02\"],\n",
    "    \"comments\": \"run_ids: mt02a, mt02b\"\n",
    "}\n",
    "\n",
    "for survey in [\"One\", \"Two\"]:\n",
    "    survey_obj = Survey(id=survey)\n",
    "    survey_obj.fdsn.network = \"EM\"\n",
    "    survey_obj.acquired_by.author = \"M T\"\n",
    "    survey_obj.project_lead.author = \"T M\"\n",
    "    if survey in [\"One\"]:\n",
    "        survey_obj.filters[cf1.name] = cf1\n",
    "    else: \n",
    "        survey_obj.filters[cf2.name] = cf2\n",
    "    for station in [\"mt01\", \"mt02\"]:\n",
    "        station_obj = Station(id=station, **kwargs)\n",
    "        for run in [\"mt01a\", \"mt01b\"]:\n",
    "            run_obj = Run(id=run, **kwargs)\n",
    "            if survey in [\"One\"]:\n",
    "                for ch in [\"ex\", \"ey\"]:\n",
    "                    ch_obj = Electric(component=ch, **ch1_kwargs)\n",
    "                    ch_obj.dipole_length = 100\n",
    "                    run_obj.channels.append(ch_obj)\n",
    "                for ch in [\"hx\", \"hy\", \"hz\"]:\n",
    "                    ch_obj = Magnetic(component=ch, **ch1_kwargs)\n",
    "                    run_obj.channels.append(ch_obj)\n",
    "                for ch in [\"temperature\"]:\n",
    "                    ch_obj = Auxiliary(component=\"tx\", **ch1_kwargs)\n",
    "                    ch_obj.type = ch\n",
    "                    ch_obj.measured_azimuth = 0\n",
    "                    run_obj.channels.append(ch_obj)\n",
    "            else:\n",
    "                for ch in [\"ex\", \"ey\"]:\n",
    "                    ch_obj = Electric(component=ch, **ch2_kwargs)\n",
    "                    ch_obj.dipole_length = 100\n",
    "                    run_obj.channels.append(ch_obj)\n",
    "                for ch in [\"hx\", \"hy\", \"hz\"]:\n",
    "                    ch_obj = Magnetic(component=ch, **ch2_kwargs)\n",
    "                    run_obj.channels.append(ch_obj)\n",
    "                for ch in [\"temperature\"]:\n",
    "                    ch_obj = Auxiliary(component=\"ty\", **ch2_kwargs)\n",
    "                    ch_obj.type = ch\n",
    "                    ch_obj.measured_azimuth = 90\n",
    "                    run_obj.channels.append(ch_obj)\n",
    "            run_obj.update_time_period()\n",
    "            station_obj.runs.append(run_obj)\n",
    "            station_obj.update_time_period()\n",
    "        survey_obj.stations.append(station_obj)\n",
    "        survey_obj.update_time_period()\n",
    "    experiment.surveys.append(survey_obj)"
   ]
  },
  {
   "cell_type": "code",
   "execution_count": 3,
   "id": "9bfc0e02-6641-424e-a955-5637bfe52345",
   "metadata": {},
   "outputs": [
    {
     "data": {
      "text/plain": [
       "Experiment Contents\n",
       "--------------------\n",
       "Number of Surveys: 2\n",
       "  Survey ID: One\n",
       "  Number of Stations: 2\n",
       "  Number of Filters: 1\n",
       "  --------------------\n",
       "    Filter Name: filter_01\n",
       "    Filter Type: coefficient\n",
       "    --------------------\n",
       "    Station ID: mt01\n",
       "    Number of Runs: 2\n",
       "    --------------------\n",
       "      Run ID: mt01a\n",
       "      Number of Channels: 6\n",
       "      Recorded Channels: ex, ey, hx, hy, hz, tx\n",
       "      Start: 2020-01-01T00:00:00+00:00\n",
       "      End:   2021-01-01T12:00:00+00:00\n",
       "      --------------------\n",
       "      Run ID: mt01b\n",
       "      Number of Channels: 6\n",
       "      Recorded Channels: ex, ey, hx, hy, hz, tx\n",
       "      Start: 2020-01-01T00:00:00+00:00\n",
       "      End:   2021-01-01T12:00:00+00:00\n",
       "      --------------------\n",
       "    Station ID: mt02\n",
       "    Number of Runs: 2\n",
       "    --------------------\n",
       "      Run ID: mt01a\n",
       "      Number of Channels: 6\n",
       "      Recorded Channels: ex, ey, hx, hy, hz, tx\n",
       "      Start: 2020-01-01T00:00:00+00:00\n",
       "      End:   2021-01-01T12:00:00+00:00\n",
       "      --------------------\n",
       "      Run ID: mt01b\n",
       "      Number of Channels: 6\n",
       "      Recorded Channels: ex, ey, hx, hy, hz, tx\n",
       "      Start: 2020-01-01T00:00:00+00:00\n",
       "      End:   2021-01-01T12:00:00+00:00\n",
       "      --------------------\n",
       "  Survey ID: Two\n",
       "  Number of Stations: 2\n",
       "  Number of Filters: 1\n",
       "  --------------------\n",
       "    Filter Name: filter_02\n",
       "    Filter Type: coefficient\n",
       "    --------------------\n",
       "    Station ID: mt01\n",
       "    Number of Runs: 2\n",
       "    --------------------\n",
       "      Run ID: mt01a\n",
       "      Number of Channels: 6\n",
       "      Recorded Channels: ex, ey, hx, hy, hz, ty\n",
       "      Start: 2020-01-01T00:00:00+00:00\n",
       "      End:   2021-01-01T12:00:00+00:00\n",
       "      --------------------\n",
       "      Run ID: mt01b\n",
       "      Number of Channels: 6\n",
       "      Recorded Channels: ex, ey, hx, hy, hz, ty\n",
       "      Start: 2020-01-01T00:00:00+00:00\n",
       "      End:   2021-01-01T12:00:00+00:00\n",
       "      --------------------\n",
       "    Station ID: mt02\n",
       "    Number of Runs: 2\n",
       "    --------------------\n",
       "      Run ID: mt01a\n",
       "      Number of Channels: 6\n",
       "      Recorded Channels: ex, ey, hx, hy, hz, ty\n",
       "      Start: 2020-01-01T00:00:00+00:00\n",
       "      End:   2021-01-01T12:00:00+00:00\n",
       "      --------------------\n",
       "      Run ID: mt01b\n",
       "      Number of Channels: 6\n",
       "      Recorded Channels: ex, ey, hx, hy, hz, ty\n",
       "      Start: 2020-01-01T00:00:00+00:00\n",
       "      End:   2021-01-01T12:00:00+00:00\n",
       "      --------------------"
      ]
     },
     "execution_count": 3,
     "metadata": {},
     "output_type": "execute_result"
    }
   ],
   "source": [
    "experiment"
   ]
  },
  {
   "cell_type": "markdown",
   "id": "aceb9c92-31c1-4f55-ac24-99e9cc1e5aa4",
   "metadata": {},
   "source": [
    "### To JSON\n",
    "\n",
    "We can write this to a JSON file, these can get long, but there are readers out there that make it easy to search."
   ]
  },
  {
   "cell_type": "code",
   "execution_count": 4,
   "id": "28a753b8-2916-416f-8494-e82e62e35d04",
   "metadata": {
    "tags": []
   },
   "outputs": [],
   "source": [
    "experiment.to_json(fn=\"test.json\")"
   ]
  },
  {
   "cell_type": "markdown",
   "id": "199e638a-53c8-4171-acf5-c9ed4e382080",
   "metadata": {},
   "source": [
    "### To XML\n",
    "We can write an XML file if you really want to."
   ]
  },
  {
   "cell_type": "code",
   "execution_count": 5,
   "id": "13cc8d82-c808-4f3e-8e6b-6105686f5186",
   "metadata": {},
   "outputs": [
    {
     "data": {
      "text/plain": [
       "<Element 'Experiment' at 0x000001A3C9465090>"
      ]
     },
     "execution_count": 5,
     "metadata": {},
     "output_type": "execute_result"
    }
   ],
   "source": [
    "experiment.to_xml(fn=\"test.xml\")"
   ]
  },
  {
   "cell_type": "markdown",
   "id": "3db69dc8-c572-41e9-b644-654537d12b8e",
   "metadata": {},
   "source": [
    "### StationXML\n",
    "\n",
    "FDSN uses StationXML to archive which can sometimes be a pain to translate to.  `mt_metadata` provides translation tools to and from StationXML.  The StationXML format that is output has been extensively adjusted to fit both MT and FDSN standards, so if possible these tools should be used to create StationXML metadata files from MT Experiments.\n",
    "\n",
    "For the StationXML side `Obspy` is used to be sure the format is correct.  \n",
    "\n",
    "Before we do the conversion we need to be sure that some important metadata are included in experiment.\n",
    "\n",
    "The translations are in `mt_metadata.timeseries.stationxml`"
   ]
  },
  {
   "cell_type": "code",
   "execution_count": 6,
   "id": "986b7532-cbca-4228-9f4b-777afb0ca4ae",
   "metadata": {},
   "outputs": [],
   "source": [
    "from mt_metadata.timeseries.stationxml import xml_inventory_mt_experiment\n",
    "translator = xml_inventory_mt_experiment.XMLInventoryMTExperiment()"
   ]
  },
  {
   "cell_type": "code",
   "execution_count": 7,
   "id": "fcd6df06-a6a3-48d9-bc7b-31ac90b17ff3",
   "metadata": {},
   "outputs": [],
   "source": [
    "inventory = translator.mt_to_xml(experiment, stationxml_fn=\"test_stationxml.xml\")"
   ]
  },
  {
   "cell_type": "code",
   "execution_count": 8,
   "id": "dd482e9c-efe3-466a-a4dc-1543d8ed3b2a",
   "metadata": {},
   "outputs": [
    {
     "data": {
      "text/plain": [
       "'0'"
      ]
     },
     "execution_count": 8,
     "metadata": {},
     "output_type": "execute_result"
    }
   ],
   "source": [
    "experiment.surveys[0].stations[0].runs[0].channels[-1].measured_azimuth"
   ]
  },
  {
   "cell_type": "code",
   "execution_count": null,
   "id": "704a8027-82a0-4a44-8a7c-6887e8879bbe",
   "metadata": {},
   "outputs": [],
   "source": []
  }
 ],
 "metadata": {
  "kernelspec": {
   "display_name": "Python 3 (ipykernel)",
   "language": "python",
   "name": "python3"
  },
  "language_info": {
   "codemirror_mode": {
    "name": "ipython",
    "version": 3
   },
   "file_extension": ".py",
   "mimetype": "text/x-python",
   "name": "python",
   "nbconvert_exporter": "python",
   "pygments_lexer": "ipython3",
   "version": "3.8.13"
  }
 },
 "nbformat": 4,
 "nbformat_minor": 5
}
