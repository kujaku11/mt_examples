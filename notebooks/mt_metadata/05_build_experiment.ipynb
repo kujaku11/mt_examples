{
 "cells": [
  {
   "cell_type": "markdown",
   "id": "681a97fa-0294-4a5a-8f3f-8d6d709773f9",
   "metadata": {},
   "source": [
    "# MT Metadata Example 5\n",
    "\n",
    "## Experiment\n",
    "\n",
    "We have covered some basics of MT metadata, lets put it together into an `Experiment`."
   ]
  },
  {
   "cell_type": "code",
   "execution_count": 1,
   "id": "8a3704d0-c0bb-4227-b755-c65cc1712535",
   "metadata": {},
   "outputs": [],
   "source": [
    "from mt_metadata.timeseries import (\n",
    "    Auxiliary,\n",
    "    Electric,\n",
    "    Experiment,\n",
    "    Magnetic,\n",
    "    Run,\n",
    "    Station,\n",
    "    Survey,\n",
    ")\n",
    "from mt_metadata.timeseries.filters import CoefficientFilter"
   ]
  },
  {
   "cell_type": "code",
   "execution_count": 2,
   "id": "7d281688-06b2-434c-a7f4-c7c72c99d94a",
   "metadata": {},
   "outputs": [],
   "source": [
    "experiment = Experiment()\n",
    "\n",
    "# set a common start and end time\n",
    "start = \"2020-01-01T00:00:00+00:00\"\n",
    "end = \"2021-01-01T12:00:00+00:00\"\n",
    "\n",
    "kwargs = {\"time_period.start\": start, \"time_period.end\": end}\n",
    "cf1 = CoefficientFilter(name=\"filter_01\", gain=10)\n",
    "cf2 = CoefficientFilter(name=\"filter_02\", gain=100)\n",
    "\n",
    "ch1_kwargs = {\n",
    "    \"time_period.start\": start,\n",
    "    \"time_period.end\": end,\n",
    "    \"filter.name\": [\"filter_01\"],\n",
    "    \"comments\": \"run_ids: mt01a, mt01b\",\n",
    "}\n",
    "ch2_kwargs = {\n",
    "    \"time_period.start\": start,\n",
    "    \"time_period.end\": end,\n",
    "    \"filter.name\": [\"filter_02\"],\n",
    "    \"comments\": \"run_ids: mt02a, mt02b\",\n",
    "}\n",
    "\n",
    "for survey in [\"One\", \"Two\"]:\n",
    "    survey_obj = Survey(id=survey)\n",
    "    survey_obj.fdsn.network = \"EM\"\n",
    "    survey_obj.acquired_by.author = \"M T\"\n",
    "    survey_obj.project_lead.author = \"T M\"\n",
    "    if survey in [\"One\"]:\n",
    "        survey_obj.filters[cf1.name] = cf1\n",
    "    else:\n",
    "        survey_obj.filters[cf2.name] = cf2\n",
    "    for station in [\"mt01\", \"mt02\"]:\n",
    "        station_obj = Station(id=station, **kwargs)\n",
    "        for run in [\"mt01a\", \"mt01b\"]:\n",
    "            run_obj = Run(id=run, **kwargs)\n",
    "            if survey in [\"One\"]:\n",
    "                for ch in [\"ex\", \"ey\"]:\n",
    "                    ch_obj = Electric(component=ch, **ch1_kwargs)\n",
    "                    ch_obj.dipole_length = 100\n",
    "                    run_obj.channels.append(ch_obj)\n",
    "                for ch in [\"hx\", \"hy\", \"hz\"]:\n",
    "                    ch_obj = Magnetic(component=ch, **ch1_kwargs)\n",
    "                    run_obj.channels.append(ch_obj)\n",
    "                for ch in [\"temperature\"]:\n",
    "                    ch_obj = Auxiliary(component=\"tx\", **ch1_kwargs)\n",
    "                    ch_obj.type = ch\n",
    "                    ch_obj.measured_azimuth = 0\n",
    "                    run_obj.channels.append(ch_obj)\n",
    "            else:\n",
    "                for ch in [\"ex\", \"ey\"]:\n",
    "                    ch_obj = Electric(component=ch, **ch2_kwargs)\n",
    "                    ch_obj.dipole_length = 100\n",
    "                    run_obj.channels.append(ch_obj)\n",
    "                for ch in [\"hx\", \"hy\", \"hz\"]:\n",
    "                    ch_obj = Magnetic(component=ch, **ch2_kwargs)\n",
    "                    run_obj.channels.append(ch_obj)\n",
    "                for ch in [\"temperature\"]:\n",
    "                    ch_obj = Auxiliary(component=\"ty\", **ch2_kwargs)\n",
    "                    ch_obj.type = ch\n",
    "                    ch_obj.measured_azimuth = 90\n",
    "                    run_obj.channels.append(ch_obj)\n",
    "            run_obj.update_time_period()\n",
    "            station_obj.runs.append(run_obj)\n",
    "            station_obj.update_time_period()\n",
    "        survey_obj.stations.append(station_obj)\n",
    "        survey_obj.update_time_period()\n",
    "    experiment.surveys.append(survey_obj)"
   ]
  },
  {
   "cell_type": "code",
   "execution_count": 3,
   "id": "9bfc0e02-6641-424e-a955-5637bfe52345",
   "metadata": {},
   "outputs": [
    {
     "data": {
      "text/plain": [
       "Experiment Contents\n",
       "--------------------\n",
       "Number of Surveys: 2\n",
       "  Survey ID: One\n",
       "  Number of Stations: 2\n",
       "  Number of Filters: 1\n",
       "  --------------------\n",
       "    Filter Name: filter_01\n",
       "    Filter Type: coefficient\n",
       "    --------------------\n",
       "    Station ID: mt01\n",
       "    Number of Runs: 2\n",
       "    --------------------\n",
       "      Run ID: mt01a\n",
       "      Number of Channels: 6\n",
       "      Recorded Channels: ex, ey, hx, hy, hz, tx\n",
       "      Start: 2020-01-01T00:00:00+00:00\n",
       "      End:   2021-01-01T12:00:00+00:00\n",
       "      --------------------\n",
       "      Run ID: mt01b\n",
       "      Number of Channels: 6\n",
       "      Recorded Channels: ex, ey, hx, hy, hz, tx\n",
       "      Start: 2020-01-01T00:00:00+00:00\n",
       "      End:   2021-01-01T12:00:00+00:00\n",
       "      --------------------\n",
       "    Station ID: mt02\n",
       "    Number of Runs: 2\n",
       "    --------------------\n",
       "      Run ID: mt01a\n",
       "      Number of Channels: 6\n",
       "      Recorded Channels: ex, ey, hx, hy, hz, tx\n",
       "      Start: 2020-01-01T00:00:00+00:00\n",
       "      End:   2021-01-01T12:00:00+00:00\n",
       "      --------------------\n",
       "      Run ID: mt01b\n",
       "      Number of Channels: 6\n",
       "      Recorded Channels: ex, ey, hx, hy, hz, tx\n",
       "      Start: 2020-01-01T00:00:00+00:00\n",
       "      End:   2021-01-01T12:00:00+00:00\n",
       "      --------------------\n",
       "  Survey ID: Two\n",
       "  Number of Stations: 2\n",
       "  Number of Filters: 1\n",
       "  --------------------\n",
       "    Filter Name: filter_02\n",
       "    Filter Type: coefficient\n",
       "    --------------------\n",
       "    Station ID: mt01\n",
       "    Number of Runs: 2\n",
       "    --------------------\n",
       "      Run ID: mt01a\n",
       "      Number of Channels: 6\n",
       "      Recorded Channels: ex, ey, hx, hy, hz, ty\n",
       "      Start: 2020-01-01T00:00:00+00:00\n",
       "      End:   2021-01-01T12:00:00+00:00\n",
       "      --------------------\n",
       "      Run ID: mt01b\n",
       "      Number of Channels: 6\n",
       "      Recorded Channels: ex, ey, hx, hy, hz, ty\n",
       "      Start: 2020-01-01T00:00:00+00:00\n",
       "      End:   2021-01-01T12:00:00+00:00\n",
       "      --------------------\n",
       "    Station ID: mt02\n",
       "    Number of Runs: 2\n",
       "    --------------------\n",
       "      Run ID: mt01a\n",
       "      Number of Channels: 6\n",
       "      Recorded Channels: ex, ey, hx, hy, hz, ty\n",
       "      Start: 2020-01-01T00:00:00+00:00\n",
       "      End:   2021-01-01T12:00:00+00:00\n",
       "      --------------------\n",
       "      Run ID: mt01b\n",
       "      Number of Channels: 6\n",
       "      Recorded Channels: ex, ey, hx, hy, hz, ty\n",
       "      Start: 2020-01-01T00:00:00+00:00\n",
       "      End:   2021-01-01T12:00:00+00:00\n",
       "      --------------------"
      ]
     },
     "execution_count": 3,
     "metadata": {},
     "output_type": "execute_result"
    }
   ],
   "source": [
    "experiment"
   ]
  },
  {
   "cell_type": "markdown",
   "id": "1e7e7890-0bc2-4cf1-9a9f-e15429168218",
   "metadata": {},
   "source": [
    "## Accessing Levels\n",
    "\n",
    "There are different ways of accessing the `mt-metadata` objects from within the experiment.  \n",
    "\n",
    "Each level has a `mt-metadata.utils.ListDict` object that contains the levels below.  For example an `Experiment` has an attribute `Experiment.surveys` which contains all the surveys within the experiment.  \n",
    "\n",
    "To access the different surveys you can access by index or `Survey.id`."
   ]
  },
  {
   "cell_type": "markdown",
   "id": "550deb09-3517-41c5-954f-a0746e9f7000",
   "metadata": {},
   "source": [
    "### Access by Index\n",
    "\n",
    "Here we are accessing the first survey in the list, which has an index of 0."
   ]
  },
  {
   "cell_type": "code",
   "execution_count": 4,
   "id": "b58e3638-971b-4b33-968d-0d22df79ab95",
   "metadata": {},
   "outputs": [
    {
     "data": {
      "text/plain": [
       "{\n",
       "    \"survey\": {\n",
       "        \"acquired_by.author\": \"M T\",\n",
       "        \"citation_dataset.doi\": null,\n",
       "        \"citation_journal.doi\": null,\n",
       "        \"datum\": \"WGS84\",\n",
       "        \"fdsn.network\": \"EM\",\n",
       "        \"geographic_name\": null,\n",
       "        \"id\": \"One\",\n",
       "        \"name\": null,\n",
       "        \"northwest_corner.latitude\": 0.0,\n",
       "        \"northwest_corner.longitude\": 0.0,\n",
       "        \"project\": null,\n",
       "        \"project_lead.author\": \"T M\",\n",
       "        \"project_lead.email\": null,\n",
       "        \"project_lead.organization\": null,\n",
       "        \"release_license\": \"CC0-1.0\",\n",
       "        \"southeast_corner.latitude\": 0.0,\n",
       "        \"southeast_corner.longitude\": 0.0,\n",
       "        \"summary\": null,\n",
       "        \"time_period.end_date\": \"2021-01-01\",\n",
       "        \"time_period.start_date\": \"2020-01-01\"\n",
       "    }\n",
       "}"
      ]
     },
     "execution_count": 4,
     "metadata": {},
     "output_type": "execute_result"
    }
   ],
   "source": [
    "experiment.surveys[0]"
   ]
  },
  {
   "cell_type": "markdown",
   "id": "d1ddea2e-94ac-44fc-8289-4a41220b4c74",
   "metadata": {},
   "source": [
    "### Access by ID\n",
    "Here we are accessing the survey by the ID (`One`)."
   ]
  },
  {
   "cell_type": "code",
   "execution_count": 5,
   "id": "bdbb913e-3e37-4c62-a583-38c72510cef5",
   "metadata": {},
   "outputs": [
    {
     "data": {
      "text/plain": [
       "{\n",
       "    \"survey\": {\n",
       "        \"acquired_by.author\": \"M T\",\n",
       "        \"citation_dataset.doi\": null,\n",
       "        \"citation_journal.doi\": null,\n",
       "        \"datum\": \"WGS84\",\n",
       "        \"fdsn.network\": \"EM\",\n",
       "        \"geographic_name\": null,\n",
       "        \"id\": \"One\",\n",
       "        \"name\": null,\n",
       "        \"northwest_corner.latitude\": 0.0,\n",
       "        \"northwest_corner.longitude\": 0.0,\n",
       "        \"project\": null,\n",
       "        \"project_lead.author\": \"T M\",\n",
       "        \"project_lead.email\": null,\n",
       "        \"project_lead.organization\": null,\n",
       "        \"release_license\": \"CC0-1.0\",\n",
       "        \"southeast_corner.latitude\": 0.0,\n",
       "        \"southeast_corner.longitude\": 0.0,\n",
       "        \"summary\": null,\n",
       "        \"time_period.end_date\": \"2021-01-01\",\n",
       "        \"time_period.start_date\": \"2020-01-01\"\n",
       "    }\n",
       "}"
      ]
     },
     "execution_count": 5,
     "metadata": {},
     "output_type": "execute_result"
    }
   ],
   "source": [
    "experiment.surveys[\"One\"]"
   ]
  },
  {
   "cell_type": "markdown",
   "id": "fef8c0b5-1547-488d-a31a-c48f771a41e5",
   "metadata": {},
   "source": [
    "### Chain Access\n",
    "\n",
    "You could access through chain access. Here we want the \"ex\" channel from the 2nd run of the first station for the second station."
   ]
  },
  {
   "cell_type": "code",
   "execution_count": 6,
   "id": "f8c6e104-027f-4cd1-94c3-a18e5ab7126b",
   "metadata": {},
   "outputs": [
    {
     "data": {
      "text/plain": [
       "{\n",
       "    \"electric\": {\n",
       "        \"channel_number\": 0,\n",
       "        \"comments\": \"run_ids: mt02a, mt02b\",\n",
       "        \"component\": \"ex\",\n",
       "        \"data_quality.rating.value\": 0,\n",
       "        \"dipole_length\": 100.0,\n",
       "        \"filter.applied\": [\n",
       "            false\n",
       "        ],\n",
       "        \"filter.name\": [\n",
       "            \"filter_02\"\n",
       "        ],\n",
       "        \"measurement_azimuth\": 0.0,\n",
       "        \"measurement_tilt\": 0.0,\n",
       "        \"negative.elevation\": 0.0,\n",
       "        \"negative.id\": null,\n",
       "        \"negative.latitude\": 0.0,\n",
       "        \"negative.longitude\": 0.0,\n",
       "        \"negative.manufacturer\": null,\n",
       "        \"negative.type\": null,\n",
       "        \"positive.elevation\": 0.0,\n",
       "        \"positive.id\": null,\n",
       "        \"positive.latitude\": 0.0,\n",
       "        \"positive.longitude\": 0.0,\n",
       "        \"positive.manufacturer\": null,\n",
       "        \"positive.type\": null,\n",
       "        \"sample_rate\": 0.0,\n",
       "        \"time_period.end\": \"2021-01-01T12:00:00+00:00\",\n",
       "        \"time_period.start\": \"2020-01-01T00:00:00+00:00\",\n",
       "        \"type\": \"electric\",\n",
       "        \"units\": null\n",
       "    }\n",
       "}"
      ]
     },
     "execution_count": 6,
     "metadata": {},
     "output_type": "execute_result"
    }
   ],
   "source": [
    "experiment.surveys[1].stations[\"mt01\"].runs[\"mt01b\"].channels[\"ex\"]"
   ]
  },
  {
   "cell_type": "markdown",
   "id": "aceb9c92-31c1-4f55-ac24-99e9cc1e5aa4",
   "metadata": {},
   "source": [
    "### To JSON\n",
    "\n",
    "We can write this to a JSON file, these can get long, but there are readers out there that make it easy to search."
   ]
  },
  {
   "cell_type": "code",
   "execution_count": 7,
   "id": "28a753b8-2916-416f-8494-e82e62e35d04",
   "metadata": {
    "tags": []
   },
   "outputs": [],
   "source": [
    "experiment.to_json(fn=\"test.json\")"
   ]
  },
  {
   "cell_type": "markdown",
   "id": "199e638a-53c8-4171-acf5-c9ed4e382080",
   "metadata": {},
   "source": [
    "### To XML\n",
    "We can write an XML file if you really want to."
   ]
  },
  {
   "cell_type": "code",
   "execution_count": 8,
   "id": "13cc8d82-c808-4f3e-8e6b-6105686f5186",
   "metadata": {},
   "outputs": [],
   "source": [
    "xml_element = experiment.to_xml(fn=\"test.xml\")"
   ]
  },
  {
   "cell_type": "markdown",
   "id": "3db69dc8-c572-41e9-b644-654537d12b8e",
   "metadata": {},
   "source": [
    "### StationXML\n",
    "\n",
    "FDSN uses StationXML to archive which can sometimes be a pain to translate to.  `mt_metadata` provides translation tools to and from StationXML.  The StationXML format that is output has been extensively adjusted to fit both MT and FDSN standards, so if possible these tools should be used to create StationXML metadata files from MT Experiments.\n",
    "\n",
    "For the StationXML side `Obspy` is used to be sure the format is correct.  \n",
    "\n",
    "Before we do the conversion we need to be sure that some important metadata are included in experiment.\n",
    "\n",
    "The translations are in `mt_metadata.timeseries.stationxml`"
   ]
  },
  {
   "cell_type": "code",
   "execution_count": 9,
   "id": "986b7532-cbca-4228-9f4b-777afb0ca4ae",
   "metadata": {},
   "outputs": [],
   "source": [
    "from mt_metadata.timeseries.stationxml import xml_inventory_mt_experiment\n",
    "\n",
    "translator = xml_inventory_mt_experiment.XMLInventoryMTExperiment()"
   ]
  },
  {
   "cell_type": "code",
   "execution_count": 14,
   "id": "fcd6df06-a6a3-48d9-bc7b-31ac90b17ff3",
   "metadata": {},
   "outputs": [],
   "source": [
    "# this is a bug that needs a patch.  Release license needs to have the same dict\n",
    "# as fdsn_tools.release_dict.\n",
    "\n",
    "experiment.surveys[0].release_license = None\n",
    "experiment.surveys[1].release_license = None\n",
    "inventory = translator.mt_to_xml(experiment, stationxml_fn=\"test_stationxml.xml\")"
   ]
  },
  {
   "cell_type": "markdown",
   "id": "98c977a7-fd5a-4175-94d8-3252a55ff7db",
   "metadata": {},
   "source": [
    "The created StationXML can be the StationXML you use for archiving."
   ]
  },
  {
   "cell_type": "code",
   "execution_count": null,
   "id": "749f5e13-78f5-462d-a54f-733a6c8bb47d",
   "metadata": {},
   "outputs": [],
   "source": []
  }
 ],
 "metadata": {
  "kernelspec": {
   "display_name": "Python 3 (ipykernel)",
   "language": "python",
   "name": "python3"
  },
  "language_info": {
   "codemirror_mode": {
    "name": "ipython",
    "version": 3
   },
   "file_extension": ".py",
   "mimetype": "text/x-python",
   "name": "python",
   "nbconvert_exporter": "python",
   "pygments_lexer": "ipython3",
   "version": "3.9.15"
  }
 },
 "nbformat": 4,
 "nbformat_minor": 5
}
