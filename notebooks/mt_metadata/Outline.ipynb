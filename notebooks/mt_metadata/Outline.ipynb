{
 "cells": [
  {
   "cell_type": "markdown",
   "id": "681a97fa-0294-4a5a-8f3f-8d6d709773f9",
   "metadata": {
    "tags": []
   },
   "source": [
    "# MT Metadata: Outline\n",
    "\n",
    "Metadata is an important part of data, though it can be cumbersome and a pain to keep track of. There are applications being developed to make it easier. In this module we will introduce `mt-metadata` for dealing with metadata for MT timeseries and transfer functions.  \n",
    "\n",
    "## Notebooks\n",
    "\n",
    "### 1. [Basics](https://are.nci.org.au/node/gadi-cpu-bdw-0003.gadi.nci.org.au/31703/lab/tree/home/mt_examples/notebooks/mt_metadata/01_metadata_basics.ipynb)\n",
    "Describes and demonstrates the basics of the `mt-metadata` package including `Base` object.\n",
    "\n",
    "### 2. [MT Metadata](https://are.nci.org.au/node/gadi-cpu-bdw-0003.gadi.nci.org.au/31703/lab/tree/home/mt_examples/notebooks/mt_metadata/02_mt_metadata.ipynb)\n",
    "Describes time series MT metadata structure.\n",
    "\n",
    "### 3. [Timeseries Filters](https://are.nci.org.au/node/gadi-cpu-bdw-0003.gadi.nci.org.au/31703/lab/tree/home/mt_examples/notebooks/mt_metadata/03_filters_example.ipynb)\n",
    "Describes time series filters.\n",
    "\n",
    "### 4. [Pole-Zero Fitting](https://are.nci.org.au/node/gadi-cpu-bdw-0003.gadi.nci.org.au/31703/lab/tree/home/mt_examples/notebooks/mt_metadata/04_pole_zero_fitting_example_lemi.ipynb)\n",
    "When working with filters, often sensors come with a frequency-amplitude-phase table as the instrument response.  This is the most accurate, but sometimes if you want to extrapolate to other frequencies having a pole-zero filter is beneficial.  This describes one way to fit a frequency-amplitude-phase table to a pole-zero filter.\n",
    "\n",
    "### 5. [Experiment Example](https://are.nci.org.au/node/gadi-cpu-bdw-0003.gadi.nci.org.au/31703/lab/tree/home/mt_examples/notebooks/mt_metadata/05_build_experiment.ipynb)\n",
    "Demonstrates an example of a full experiment and metadata and ways to access various layers of the metadata.\n",
    "\n",
    "### 6. [Transfer Function Example](https://are.nci.org.au/node/gadi-cpu-bdw-0003.gadi.nci.org.au/31703/lab/tree/home/mt_examples/notebooks/mt_metadata/tf_example.ipynb)\n",
    "Transfer functions are the most commonly used MT data.  This describes an example of reading/writing and interogating transfer functions.\n",
    "\n"
   ]
  },
  {
   "cell_type": "code",
   "execution_count": null,
   "id": "b87545c2-395a-45df-ba88-c264d7a06d9f",
   "metadata": {},
   "outputs": [],
   "source": []
  }
 ],
 "metadata": {
  "kernelspec": {
   "display_name": "Python 3 (ipykernel)",
   "language": "python",
   "name": "python3"
  },
  "language_info": {
   "codemirror_mode": {
    "name": "ipython",
    "version": 3
   },
   "file_extension": ".py",
   "mimetype": "text/x-python",
   "name": "python",
   "nbconvert_exporter": "python",
   "pygments_lexer": "ipython3",
   "version": "3.9.15"
  }
 },
 "nbformat": 4,
 "nbformat_minor": 5
}
