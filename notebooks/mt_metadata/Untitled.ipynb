{
 "cells": [
  {
   "cell_type": "markdown",
   "id": "681a97fa-0294-4a5a-8f3f-8d6d709773f9",
   "metadata": {},
   "source": [
    "# MT Metadata: Outline\n",
    "\n"
   ]
  }
 ],
 "metadata": {
  "kernelspec": {
   "display_name": "Python 3 (ipykernel)",
   "language": "python",
   "name": "python3"
  },
  "language_info": {
   "codemirror_mode": {
    "name": "ipython",
    "version": 3
   },
   "file_extension": ".py",
   "mimetype": "text/x-python",
   "name": "python",
   "nbconvert_exporter": "python",
   "pygments_lexer": "ipython3",
   "version": "3.9.15"
  }
 },
 "nbformat": 4,
 "nbformat_minor": 5
}
