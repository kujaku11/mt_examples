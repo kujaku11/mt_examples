{
 "cells": [
  {
   "cell_type": "markdown",
   "id": "6377d707-491b-4bd6-985c-72820709afb1",
   "metadata": {},
   "source": [
    "# MTH5 Example 07\n",
    "\n",
    "## Make an MTH5 from ZEN data\n",
    "\n",
    "ZEN instruments are made by Zonge International and are broadband instruments.  They output binary formatted Z3D files.  These files have a good amount of metadata included in them making they nearly self describing. They can include the coil calibration and board calibration.  The files have a GPS stamp every second, which makes it nice to keep the timing consistent.  The sample rates are 4096, 1024, and 256 samples per second.  A common setup would be to collect at 256 for 6-8 hours then collect 4096 for 5-15 minutes and repeat that over the course of 1-3 days depending on logistics and the target depth.  One issue to deal with is that when the ZEN switches sampling rates there is about a 20 second time gap caused by the instrument changing settings and getting GPS lock.  This only is an issue when combining time series to process a longer continuous chunk of data.  \n",
    "\n",
    "This example is from Yellowstone where the operators collected the data continuously for a couple of days at a sample rate of 1024.  Therefore there is only 1 run per station."
   ]
  },
  {
   "cell_type": "code",
   "execution_count": 1,
   "id": "1208c257-8064-4ed3-a7db-eebe14b248d2",
   "metadata": {},
   "outputs": [
    {
     "name": "stderr",
     "output_type": "stream",
     "text": [
      "2022-12-13 20:21:33,785 [line 135] mth5.setup_logger - INFO: Logging file can be found C:\\Users\\jpeacock\\OneDrive - DOI\\Documents\\GitHub\\mth5\\logs\\mth5_debug.log\n"
     ]
    }
   ],
   "source": [
    "from pathlib import Path\n",
    "from mth5.mth5 import MTH5\n",
    "from mth5.io.zen import Z3DCollection\n",
    "from mth5 import read_file"
   ]
  },
  {
   "cell_type": "markdown",
   "id": "e424bb60-e3e7-41b5-b331-ee5d01055240",
   "metadata": {},
   "source": [
    "### Path to Z3D files\n",
    "\n",
    "Set the path to the Z3D files, these are stored locally."
   ]
  },
  {
   "cell_type": "code",
   "execution_count": 2,
   "id": "6139d25f-6485-4594-b47f-a6339a4f0fc7",
   "metadata": {},
   "outputs": [],
   "source": [
    "z3d_path = Path().cwd().parent.parent.joinpath(\"data\", \"time_series\", \"zen\")"
   ]
  },
  {
   "cell_type": "markdown",
   "id": "c0fe5fce-0345-4b25-b1bb-64268a7e5861",
   "metadata": {},
   "source": [
    "### Z3D Collection\n",
    "\n",
    "We will use the `Z3DCollection` to assemble the *.z3d* files into a logical order by schedule action or run. \n",
    "\n",
    "**Note**: `n_samples` is an estimate based on file size not the data.  To get an accurate number you should read in the full file.  Same with `start` and `end`. `start` is based on the schedule start time which is usually 2 seconds earlier than the data start because of instrument buffer while chaning sampling rates. `end` is based on file size and sample rate.\n",
    "\n",
    "The `Z3DCollection.get_runs()` will return a two level ordered dictionary (`OrderedDict`).  The first level is keyed by station ID.  These objects are in turn ordered dictionaries by run ID.  Therefore you can loop over stations and runs.\n",
    "\n",
    "**IMPORTANT** These data were collected continuously at 1024 samples per second, so we should see one run for each channel for the 2 different stations wb280 and wb380."
   ]
  },
  {
   "cell_type": "code",
   "execution_count": 3,
   "id": "2e0dc972-54eb-43d3-af4f-0abc2c4834e1",
   "metadata": {},
   "outputs": [
    {
     "name": "stdout",
     "output_type": "stream",
     "text": [
      "Found 2 station with 1 runs\n"
     ]
    }
   ],
   "source": [
    "zc = Z3DCollection(z3d_path)\n",
    "runs = zc.get_runs(sample_rates=[1024])\n",
    "print(f\"Found {len(runs)} station with {len(runs[list(runs.keys())[0]])} runs\")"
   ]
  },
  {
   "cell_type": "code",
   "execution_count": 4,
   "id": "039570b6-e1c1-46ce-bdec-d92554e30497",
   "metadata": {},
   "outputs": [
    {
     "data": {
      "text/html": [
       "<div>\n",
       "<style scoped>\n",
       "    .dataframe tbody tr th:only-of-type {\n",
       "        vertical-align: middle;\n",
       "    }\n",
       "\n",
       "    .dataframe tbody tr th {\n",
       "        vertical-align: top;\n",
       "    }\n",
       "\n",
       "    .dataframe thead th {\n",
       "        text-align: right;\n",
       "    }\n",
       "</style>\n",
       "<table border=\"1\" class=\"dataframe\">\n",
       "  <thead>\n",
       "    <tr style=\"text-align: right;\">\n",
       "      <th></th>\n",
       "      <th>survey</th>\n",
       "      <th>station</th>\n",
       "      <th>run</th>\n",
       "      <th>start</th>\n",
       "      <th>end</th>\n",
       "      <th>channel_id</th>\n",
       "      <th>component</th>\n",
       "      <th>fn</th>\n",
       "      <th>sample_rate</th>\n",
       "      <th>file_size</th>\n",
       "      <th>n_samples</th>\n",
       "      <th>sequence_number</th>\n",
       "      <th>instrument_id</th>\n",
       "      <th>calibration_fn</th>\n",
       "    </tr>\n",
       "  </thead>\n",
       "  <tbody>\n",
       "    <tr>\n",
       "      <th>0</th>\n",
       "      <td>yellowstone</td>\n",
       "      <td>wb280</td>\n",
       "      <td>sr1024_0001</td>\n",
       "      <td>2017-07-01 02:19:58+00:00</td>\n",
       "      <td>2017-07-03 21:21:43.405273+00:00</td>\n",
       "      <td>0</td>\n",
       "      <td>ex</td>\n",
       "      <td>C:\\Users\\jpeacock\\OneDrive - DOI\\Documents\\Git...</td>\n",
       "      <td>1024.0</td>\n",
       "      <td>988356732</td>\n",
       "      <td>247096735</td>\n",
       "      <td>1</td>\n",
       "      <td>ZEN_016</td>\n",
       "      <td>None</td>\n",
       "    </tr>\n",
       "    <tr>\n",
       "      <th>1</th>\n",
       "      <td>yellowstone</td>\n",
       "      <td>wb280</td>\n",
       "      <td>sr1024_0001</td>\n",
       "      <td>2017-07-01 02:19:58+00:00</td>\n",
       "      <td>2017-07-03 21:21:43.405273+00:00</td>\n",
       "      <td>0</td>\n",
       "      <td>ey</td>\n",
       "      <td>C:\\Users\\jpeacock\\OneDrive - DOI\\Documents\\Git...</td>\n",
       "      <td>1024.0</td>\n",
       "      <td>988356732</td>\n",
       "      <td>247096735</td>\n",
       "      <td>1</td>\n",
       "      <td>ZEN_016</td>\n",
       "      <td>None</td>\n",
       "    </tr>\n",
       "    <tr>\n",
       "      <th>2</th>\n",
       "      <td>yellowstone</td>\n",
       "      <td>wb280</td>\n",
       "      <td>sr1024_0001</td>\n",
       "      <td>2017-07-01 02:19:58+00:00</td>\n",
       "      <td>2017-07-03 21:21:43.405273+00:00</td>\n",
       "      <td>1</td>\n",
       "      <td>hx</td>\n",
       "      <td>C:\\Users\\jpeacock\\OneDrive - DOI\\Documents\\Git...</td>\n",
       "      <td>1024.0</td>\n",
       "      <td>988359292</td>\n",
       "      <td>247096735</td>\n",
       "      <td>1</td>\n",
       "      <td>ZEN_016</td>\n",
       "      <td>None</td>\n",
       "    </tr>\n",
       "    <tr>\n",
       "      <th>3</th>\n",
       "      <td>yellowstone</td>\n",
       "      <td>wb280</td>\n",
       "      <td>sr1024_0001</td>\n",
       "      <td>2017-07-01 02:19:58+00:00</td>\n",
       "      <td>2017-07-03 21:21:43.405273+00:00</td>\n",
       "      <td>2</td>\n",
       "      <td>hy</td>\n",
       "      <td>C:\\Users\\jpeacock\\OneDrive - DOI\\Documents\\Git...</td>\n",
       "      <td>1024.0</td>\n",
       "      <td>988359292</td>\n",
       "      <td>247096735</td>\n",
       "      <td>1</td>\n",
       "      <td>ZEN_016</td>\n",
       "      <td>None</td>\n",
       "    </tr>\n",
       "    <tr>\n",
       "      <th>4</th>\n",
       "      <td>yellowstone</td>\n",
       "      <td>wb280</td>\n",
       "      <td>sr1024_0001</td>\n",
       "      <td>2017-07-01 02:19:58+00:00</td>\n",
       "      <td>2017-07-03 21:21:43.405273+00:00</td>\n",
       "      <td>3</td>\n",
       "      <td>hz</td>\n",
       "      <td>C:\\Users\\jpeacock\\OneDrive - DOI\\Documents\\Git...</td>\n",
       "      <td>1024.0</td>\n",
       "      <td>988359804</td>\n",
       "      <td>247096735</td>\n",
       "      <td>1</td>\n",
       "      <td>ZEN_016</td>\n",
       "      <td>None</td>\n",
       "    </tr>\n",
       "  </tbody>\n",
       "</table>\n",
       "</div>"
      ],
      "text/plain": [
       "        survey station          run                     start  \\\n",
       "0  yellowstone   wb280  sr1024_0001 2017-07-01 02:19:58+00:00   \n",
       "1  yellowstone   wb280  sr1024_0001 2017-07-01 02:19:58+00:00   \n",
       "2  yellowstone   wb280  sr1024_0001 2017-07-01 02:19:58+00:00   \n",
       "3  yellowstone   wb280  sr1024_0001 2017-07-01 02:19:58+00:00   \n",
       "4  yellowstone   wb280  sr1024_0001 2017-07-01 02:19:58+00:00   \n",
       "\n",
       "                               end  channel_id component  \\\n",
       "0 2017-07-03 21:21:43.405273+00:00           0        ex   \n",
       "1 2017-07-03 21:21:43.405273+00:00           0        ey   \n",
       "2 2017-07-03 21:21:43.405273+00:00           1        hx   \n",
       "3 2017-07-03 21:21:43.405273+00:00           2        hy   \n",
       "4 2017-07-03 21:21:43.405273+00:00           3        hz   \n",
       "\n",
       "                                                  fn  sample_rate  file_size  \\\n",
       "0  C:\\Users\\jpeacock\\OneDrive - DOI\\Documents\\Git...       1024.0  988356732   \n",
       "1  C:\\Users\\jpeacock\\OneDrive - DOI\\Documents\\Git...       1024.0  988356732   \n",
       "2  C:\\Users\\jpeacock\\OneDrive - DOI\\Documents\\Git...       1024.0  988359292   \n",
       "3  C:\\Users\\jpeacock\\OneDrive - DOI\\Documents\\Git...       1024.0  988359292   \n",
       "4  C:\\Users\\jpeacock\\OneDrive - DOI\\Documents\\Git...       1024.0  988359804   \n",
       "\n",
       "   n_samples  sequence_number instrument_id calibration_fn  \n",
       "0  247096735                1       ZEN_016           None  \n",
       "1  247096735                1       ZEN_016           None  \n",
       "2  247096735                1       ZEN_016           None  \n",
       "3  247096735                1       ZEN_016           None  \n",
       "4  247096735                1       ZEN_016           None  "
      ]
     },
     "metadata": {},
     "output_type": "display_data"
    },
    {
     "data": {
      "text/html": [
       "<div>\n",
       "<style scoped>\n",
       "    .dataframe tbody tr th:only-of-type {\n",
       "        vertical-align: middle;\n",
       "    }\n",
       "\n",
       "    .dataframe tbody tr th {\n",
       "        vertical-align: top;\n",
       "    }\n",
       "\n",
       "    .dataframe thead th {\n",
       "        text-align: right;\n",
       "    }\n",
       "</style>\n",
       "<table border=\"1\" class=\"dataframe\">\n",
       "  <thead>\n",
       "    <tr style=\"text-align: right;\">\n",
       "      <th></th>\n",
       "      <th>survey</th>\n",
       "      <th>station</th>\n",
       "      <th>run</th>\n",
       "      <th>start</th>\n",
       "      <th>end</th>\n",
       "      <th>channel_id</th>\n",
       "      <th>component</th>\n",
       "      <th>fn</th>\n",
       "      <th>sample_rate</th>\n",
       "      <th>file_size</th>\n",
       "      <th>n_samples</th>\n",
       "      <th>sequence_number</th>\n",
       "      <th>instrument_id</th>\n",
       "      <th>calibration_fn</th>\n",
       "    </tr>\n",
       "  </thead>\n",
       "  <tbody>\n",
       "    <tr>\n",
       "      <th>5</th>\n",
       "      <td>yellowstone</td>\n",
       "      <td>wb380</td>\n",
       "      <td>sr1024_0001</td>\n",
       "      <td>2017-07-02 02:59:58+00:00</td>\n",
       "      <td>2017-07-05 17:43:53.625000+00:00</td>\n",
       "      <td>0</td>\n",
       "      <td>ex</td>\n",
       "      <td>C:\\Users\\jpeacock\\OneDrive - DOI\\Documents\\Git...</td>\n",
       "      <td>1024.0</td>\n",
       "      <td>1278886912</td>\n",
       "      <td>319729280</td>\n",
       "      <td>1</td>\n",
       "      <td>ZEN_018</td>\n",
       "      <td>None</td>\n",
       "    </tr>\n",
       "    <tr>\n",
       "      <th>6</th>\n",
       "      <td>yellowstone</td>\n",
       "      <td>wb380</td>\n",
       "      <td>sr1024_0001</td>\n",
       "      <td>2017-07-02 02:59:58+00:00</td>\n",
       "      <td>2017-07-05 17:43:53.625000+00:00</td>\n",
       "      <td>0</td>\n",
       "      <td>ey</td>\n",
       "      <td>C:\\Users\\jpeacock\\OneDrive - DOI\\Documents\\Git...</td>\n",
       "      <td>1024.0</td>\n",
       "      <td>1278886912</td>\n",
       "      <td>319729280</td>\n",
       "      <td>1</td>\n",
       "      <td>ZEN_018</td>\n",
       "      <td>None</td>\n",
       "    </tr>\n",
       "    <tr>\n",
       "      <th>7</th>\n",
       "      <td>yellowstone</td>\n",
       "      <td>wb380</td>\n",
       "      <td>sr1024_0001</td>\n",
       "      <td>2017-07-02 02:59:58+00:00</td>\n",
       "      <td>2017-07-05 17:43:53.625000+00:00</td>\n",
       "      <td>1</td>\n",
       "      <td>hx</td>\n",
       "      <td>C:\\Users\\jpeacock\\OneDrive - DOI\\Documents\\Git...</td>\n",
       "      <td>1024.0</td>\n",
       "      <td>1278889984</td>\n",
       "      <td>319729280</td>\n",
       "      <td>1</td>\n",
       "      <td>ZEN_018</td>\n",
       "      <td>None</td>\n",
       "    </tr>\n",
       "    <tr>\n",
       "      <th>8</th>\n",
       "      <td>yellowstone</td>\n",
       "      <td>wb380</td>\n",
       "      <td>sr1024_0001</td>\n",
       "      <td>2017-07-02 02:59:58+00:00</td>\n",
       "      <td>2017-07-05 17:43:53.625000+00:00</td>\n",
       "      <td>2</td>\n",
       "      <td>hy</td>\n",
       "      <td>C:\\Users\\jpeacock\\OneDrive - DOI\\Documents\\Git...</td>\n",
       "      <td>1024.0</td>\n",
       "      <td>1278889984</td>\n",
       "      <td>319729280</td>\n",
       "      <td>1</td>\n",
       "      <td>ZEN_018</td>\n",
       "      <td>None</td>\n",
       "    </tr>\n",
       "    <tr>\n",
       "      <th>9</th>\n",
       "      <td>yellowstone</td>\n",
       "      <td>wb380</td>\n",
       "      <td>sr1024_0001</td>\n",
       "      <td>2017-07-02 02:59:58+00:00</td>\n",
       "      <td>2017-07-05 17:43:52.609375+00:00</td>\n",
       "      <td>3</td>\n",
       "      <td>hz</td>\n",
       "      <td>C:\\Users\\jpeacock\\OneDrive - DOI\\Documents\\Git...</td>\n",
       "      <td>1024.0</td>\n",
       "      <td>1278885824</td>\n",
       "      <td>319728240</td>\n",
       "      <td>1</td>\n",
       "      <td>ZEN_018</td>\n",
       "      <td>None</td>\n",
       "    </tr>\n",
       "  </tbody>\n",
       "</table>\n",
       "</div>"
      ],
      "text/plain": [
       "        survey station          run                     start  \\\n",
       "5  yellowstone   wb380  sr1024_0001 2017-07-02 02:59:58+00:00   \n",
       "6  yellowstone   wb380  sr1024_0001 2017-07-02 02:59:58+00:00   \n",
       "7  yellowstone   wb380  sr1024_0001 2017-07-02 02:59:58+00:00   \n",
       "8  yellowstone   wb380  sr1024_0001 2017-07-02 02:59:58+00:00   \n",
       "9  yellowstone   wb380  sr1024_0001 2017-07-02 02:59:58+00:00   \n",
       "\n",
       "                               end  channel_id component  \\\n",
       "5 2017-07-05 17:43:53.625000+00:00           0        ex   \n",
       "6 2017-07-05 17:43:53.625000+00:00           0        ey   \n",
       "7 2017-07-05 17:43:53.625000+00:00           1        hx   \n",
       "8 2017-07-05 17:43:53.625000+00:00           2        hy   \n",
       "9 2017-07-05 17:43:52.609375+00:00           3        hz   \n",
       "\n",
       "                                                  fn  sample_rate   file_size  \\\n",
       "5  C:\\Users\\jpeacock\\OneDrive - DOI\\Documents\\Git...       1024.0  1278886912   \n",
       "6  C:\\Users\\jpeacock\\OneDrive - DOI\\Documents\\Git...       1024.0  1278886912   \n",
       "7  C:\\Users\\jpeacock\\OneDrive - DOI\\Documents\\Git...       1024.0  1278889984   \n",
       "8  C:\\Users\\jpeacock\\OneDrive - DOI\\Documents\\Git...       1024.0  1278889984   \n",
       "9  C:\\Users\\jpeacock\\OneDrive - DOI\\Documents\\Git...       1024.0  1278885824   \n",
       "\n",
       "   n_samples  sequence_number instrument_id calibration_fn  \n",
       "5  319729280                1       ZEN_018           None  \n",
       "6  319729280                1       ZEN_018           None  \n",
       "7  319729280                1       ZEN_018           None  \n",
       "8  319729280                1       ZEN_018           None  \n",
       "9  319728240                1       ZEN_018           None  "
      ]
     },
     "metadata": {},
     "output_type": "display_data"
    }
   ],
   "source": [
    "for station in runs.keys():\n",
    "    display(runs[station][\"sr1024_0001\"])"
   ]
  },
  {
   "cell_type": "markdown",
   "id": "2ea10bfb-89ca-466b-895e-47840ada4569",
   "metadata": {},
   "source": [
    "## Build MTH5\n",
    "\n",
    "Now that we have a logical collection of files, lets load them into an MTH5.  We will simply loop of the stations, runs, and channels in the ordered dictionary.\n",
    "\n",
    "There are a few things that we need to keep track of.  \n",
    "\n",
    "- The station metadata pulled directly from the Z3D files can be input into the station metadata, be sure to use the `write_metadata` method to write the metadata to the MTH5.\n",
    "- The Z3D files have the coil response and zen response embedded in the file, so we can put those into the appropriate filter container in MTH5.  This is important for calibrating later.  \n",
    "- Since this is a MTH5 file version 0.2.0 the filters are in the `survey_group` so add them there.\n",
    "- If you want to calibrate the data set calibrate to `True`.  "
   ]
  },
  {
   "cell_type": "code",
   "execution_count": 5,
   "id": "77321550-53cc-4849-965f-e0a25fc579e9",
   "metadata": {},
   "outputs": [
    {
     "ename": "OSError",
     "evalue": "[Errno 22] Unable to open file (file read failed: time = Tue Dec 13 20:23:06 2022\n, filename = 'C:\\Users\\jpeacock\\OneDrive - DOI\\Documents\\GitHub\\mt_examples\\data\\time_series\\zen\\from_z3d.h5', file descriptor = 4, errno = 22, error message = 'Invalid argument', buf = 000000289A9EA9D0, total read size = 8, bytes this sub-read = 8, bytes actually read = 18446744073709551615, offset = 0)",
     "output_type": "error",
     "traceback": [
      "\u001b[1;31m---------------------------------------------------------------------------\u001b[0m",
      "\u001b[1;31mOSError\u001b[0m                                   Traceback (most recent call last)",
      "\u001b[1;32m~\\AppData\\Local\\Temp\\1\\ipykernel_4836\\131787246.py\u001b[0m in \u001b[0;36m<cell line: 5>\u001b[1;34m()\u001b[0m\n\u001b[0;32m      3\u001b[0m \u001b[1;32mif\u001b[0m \u001b[0mcalibrate\u001b[0m\u001b[1;33m:\u001b[0m\u001b[1;33m\u001b[0m\u001b[1;33m\u001b[0m\u001b[0m\n\u001b[0;32m      4\u001b[0m     \u001b[0mm\u001b[0m\u001b[1;33m.\u001b[0m\u001b[0mdata_level\u001b[0m \u001b[1;33m=\u001b[0m \u001b[1;36m2\u001b[0m\u001b[1;33m\u001b[0m\u001b[1;33m\u001b[0m\u001b[0m\n\u001b[1;32m----> 5\u001b[1;33m \u001b[0mm\u001b[0m\u001b[1;33m.\u001b[0m\u001b[0mopen_mth5\u001b[0m\u001b[1;33m(\u001b[0m\u001b[0mzc\u001b[0m\u001b[1;33m.\u001b[0m\u001b[0mfile_path\u001b[0m\u001b[1;33m.\u001b[0m\u001b[0mjoinpath\u001b[0m\u001b[1;33m(\u001b[0m\u001b[1;34m\"from_z3d.h5\"\u001b[0m\u001b[1;33m)\u001b[0m\u001b[1;33m)\u001b[0m\u001b[1;33m\u001b[0m\u001b[1;33m\u001b[0m\u001b[0m\n\u001b[0m",
      "\u001b[1;32m~\\OneDrive - DOI\\Documents\\GitHub\\mth5\\mth5\\mth5.py\u001b[0m in \u001b[0;36mopen_mth5\u001b[1;34m(self, filename, mode)\u001b[0m\n\u001b[0;32m    617\u001b[0m                     \u001b[0mself\u001b[0m\u001b[1;33m.\u001b[0m\u001b[0mlogger\u001b[0m\u001b[1;33m.\u001b[0m\u001b[0mexception\u001b[0m\u001b[1;33m(\u001b[0m\u001b[0mmsg\u001b[0m\u001b[1;33m)\u001b[0m\u001b[1;33m\u001b[0m\u001b[1;33m\u001b[0m\u001b[0m\n\u001b[0;32m    618\u001b[0m             \u001b[1;32melif\u001b[0m \u001b[0mmode\u001b[0m \u001b[1;32min\u001b[0m \u001b[1;33m[\u001b[0m\u001b[1;34m\"a\"\u001b[0m\u001b[1;33m,\u001b[0m \u001b[1;34m\"w-\"\u001b[0m\u001b[1;33m,\u001b[0m \u001b[1;34m\"x\"\u001b[0m\u001b[1;33m,\u001b[0m \u001b[1;34m\"r+\"\u001b[0m\u001b[1;33m]\u001b[0m\u001b[1;33m:\u001b[0m\u001b[1;33m\u001b[0m\u001b[1;33m\u001b[0m\u001b[0m\n\u001b[1;32m--> 619\u001b[1;33m                 \u001b[0mself\u001b[0m\u001b[1;33m.\u001b[0m\u001b[0m__hdf5_obj\u001b[0m \u001b[1;33m=\u001b[0m \u001b[0mh5py\u001b[0m\u001b[1;33m.\u001b[0m\u001b[0mFile\u001b[0m\u001b[1;33m(\u001b[0m\u001b[0mself\u001b[0m\u001b[1;33m.\u001b[0m\u001b[0m__filename\u001b[0m\u001b[1;33m,\u001b[0m \u001b[0mmode\u001b[0m\u001b[1;33m=\u001b[0m\u001b[0mmode\u001b[0m\u001b[1;33m)\u001b[0m\u001b[1;33m\u001b[0m\u001b[1;33m\u001b[0m\u001b[0m\n\u001b[0m\u001b[0;32m    620\u001b[0m                 \u001b[0mself\u001b[0m\u001b[1;33m.\u001b[0m\u001b[0m_set_default_groups\u001b[0m\u001b[1;33m(\u001b[0m\u001b[1;33m)\u001b[0m\u001b[1;33m\u001b[0m\u001b[1;33m\u001b[0m\u001b[0m\n\u001b[0;32m    621\u001b[0m                 \u001b[1;32mif\u001b[0m \u001b[1;32mnot\u001b[0m \u001b[0mself\u001b[0m\u001b[1;33m.\u001b[0m\u001b[0mvalidate_file\u001b[0m\u001b[1;33m(\u001b[0m\u001b[1;33m)\u001b[0m\u001b[1;33m:\u001b[0m\u001b[1;33m\u001b[0m\u001b[1;33m\u001b[0m\u001b[0m\n",
      "\u001b[1;32m~\\Anaconda3\\envs\\em\\lib\\site-packages\\h5py\\_hl\\files.py\u001b[0m in \u001b[0;36m__init__\u001b[1;34m(self, name, mode, driver, libver, userblock_size, swmr, rdcc_nslots, rdcc_nbytes, rdcc_w0, track_order, fs_strategy, fs_persist, fs_threshold, fs_page_size, page_buf_size, min_meta_keep, min_raw_keep, locking, alignment_threshold, alignment_interval, **kwds)\u001b[0m\n\u001b[0;32m    531\u001b[0m                                  \u001b[0mfs_persist\u001b[0m\u001b[1;33m=\u001b[0m\u001b[0mfs_persist\u001b[0m\u001b[1;33m,\u001b[0m \u001b[0mfs_threshold\u001b[0m\u001b[1;33m=\u001b[0m\u001b[0mfs_threshold\u001b[0m\u001b[1;33m,\u001b[0m\u001b[1;33m\u001b[0m\u001b[1;33m\u001b[0m\u001b[0m\n\u001b[0;32m    532\u001b[0m                                  fs_page_size=fs_page_size)\n\u001b[1;32m--> 533\u001b[1;33m                 \u001b[0mfid\u001b[0m \u001b[1;33m=\u001b[0m \u001b[0mmake_fid\u001b[0m\u001b[1;33m(\u001b[0m\u001b[0mname\u001b[0m\u001b[1;33m,\u001b[0m \u001b[0mmode\u001b[0m\u001b[1;33m,\u001b[0m \u001b[0muserblock_size\u001b[0m\u001b[1;33m,\u001b[0m \u001b[0mfapl\u001b[0m\u001b[1;33m,\u001b[0m \u001b[0mfcpl\u001b[0m\u001b[1;33m,\u001b[0m \u001b[0mswmr\u001b[0m\u001b[1;33m=\u001b[0m\u001b[0mswmr\u001b[0m\u001b[1;33m)\u001b[0m\u001b[1;33m\u001b[0m\u001b[1;33m\u001b[0m\u001b[0m\n\u001b[0m\u001b[0;32m    534\u001b[0m \u001b[1;33m\u001b[0m\u001b[0m\n\u001b[0;32m    535\u001b[0m             \u001b[1;32mif\u001b[0m \u001b[0misinstance\u001b[0m\u001b[1;33m(\u001b[0m\u001b[0mlibver\u001b[0m\u001b[1;33m,\u001b[0m \u001b[0mtuple\u001b[0m\u001b[1;33m)\u001b[0m\u001b[1;33m:\u001b[0m\u001b[1;33m\u001b[0m\u001b[1;33m\u001b[0m\u001b[0m\n",
      "\u001b[1;32m~\\Anaconda3\\envs\\em\\lib\\site-packages\\h5py\\_hl\\files.py\u001b[0m in \u001b[0;36mmake_fid\u001b[1;34m(name, mode, userblock_size, fapl, fcpl, swmr)\u001b[0m\n\u001b[0;32m    236\u001b[0m         \u001b[1;31m# existing one (ACC_EXCL)\u001b[0m\u001b[1;33m\u001b[0m\u001b[1;33m\u001b[0m\u001b[1;33m\u001b[0m\u001b[0m\n\u001b[0;32m    237\u001b[0m         \u001b[1;32mtry\u001b[0m\u001b[1;33m:\u001b[0m\u001b[1;33m\u001b[0m\u001b[1;33m\u001b[0m\u001b[0m\n\u001b[1;32m--> 238\u001b[1;33m             \u001b[0mfid\u001b[0m \u001b[1;33m=\u001b[0m \u001b[0mh5f\u001b[0m\u001b[1;33m.\u001b[0m\u001b[0mopen\u001b[0m\u001b[1;33m(\u001b[0m\u001b[0mname\u001b[0m\u001b[1;33m,\u001b[0m \u001b[0mh5f\u001b[0m\u001b[1;33m.\u001b[0m\u001b[0mACC_RDWR\u001b[0m\u001b[1;33m,\u001b[0m \u001b[0mfapl\u001b[0m\u001b[1;33m=\u001b[0m\u001b[0mfapl\u001b[0m\u001b[1;33m)\u001b[0m\u001b[1;33m\u001b[0m\u001b[1;33m\u001b[0m\u001b[0m\n\u001b[0m\u001b[0;32m    239\u001b[0m         \u001b[1;31m# Not all drivers raise FileNotFoundError (commented those that do not)\u001b[0m\u001b[1;33m\u001b[0m\u001b[1;33m\u001b[0m\u001b[1;33m\u001b[0m\u001b[0m\n\u001b[0;32m    240\u001b[0m         except FileNotFoundError if fapl.get_driver() in (\n",
      "\u001b[1;32mh5py\\_objects.pyx\u001b[0m in \u001b[0;36mh5py._objects.with_phil.wrapper\u001b[1;34m()\u001b[0m\n",
      "\u001b[1;32mh5py\\_objects.pyx\u001b[0m in \u001b[0;36mh5py._objects.with_phil.wrapper\u001b[1;34m()\u001b[0m\n",
      "\u001b[1;32mh5py\\h5f.pyx\u001b[0m in \u001b[0;36mh5py.h5f.open\u001b[1;34m()\u001b[0m\n",
      "\u001b[1;31mOSError\u001b[0m: [Errno 22] Unable to open file (file read failed: time = Tue Dec 13 20:23:06 2022\n, filename = 'C:\\Users\\jpeacock\\OneDrive - DOI\\Documents\\GitHub\\mt_examples\\data\\time_series\\zen\\from_z3d.h5', file descriptor = 4, errno = 22, error message = 'Invalid argument', buf = 000000289A9EA9D0, total read size = 8, bytes this sub-read = 8, bytes actually read = 18446744073709551615, offset = 0)"
     ]
    }
   ],
   "source": [
    "calibrate = False\n",
    "m = MTH5()\n",
    "if calibrate:\n",
    "    m.data_level = 2\n",
    "m.open_mth5(zc.file_path.joinpath(\"from_z3d.h5\"))"
   ]
  },
  {
   "cell_type": "code",
   "execution_count": null,
   "id": "2957f307-ee67-4c61-90a3-cfdbc6e961f9",
   "metadata": {},
   "outputs": [],
   "source": [
    "survey_group = m.add_survey(\"yellowstone\")"
   ]
  },
  {
   "cell_type": "code",
   "execution_count": null,
   "id": "4b8c1f73-45d2-448f-a2af-a7d3ff77b438",
   "metadata": {},
   "outputs": [],
   "source": [
    "%%time\n",
    "for station_id in runs.keys():\n",
    "    station_group = survey_group.stations_group.add_station(station_id)\n",
    "    station_group.metadata.update(zc.station_metadata_dict[station_id])\n",
    "    station_group.write_metadata()\n",
    "    for run_id, run_df in runs[station_id].items():\n",
    "        run_group = station_group.add_run(run_id)\n",
    "        for row in run_df.itertuples():\n",
    "            ch_ts = read_file(row.fn)\n",
    "            # NOTE: this is where the calibration occurs\n",
    "            if calibrate:\n",
    "                ch_ts = ch_ts.remove_instrument_response()\n",
    "            run_group.from_channel_ts(ch_ts)\n",
    "            \n",
    "    # update station metadata from all the new runs\n",
    "    station_group.validate_station_metadata()\n",
    "\n",
    "# update survey metadata from added stations \n",
    "survey_group.update_survey_metadata()\n",
    "        "
   ]
  },
  {
   "cell_type": "markdown",
   "id": "4c715640-c4bf-4dc9-99c9-f3d2d133b164",
   "metadata": {
    "tags": []
   },
   "source": [
    "#### MTH5 Structure\n",
    "\n",
    "Have a look at the MTH5 structure and make sure it looks correct."
   ]
  },
  {
   "cell_type": "code",
   "execution_count": null,
   "id": "a52dacb5-4b0b-4f5e-bcdf-e058c6f29094",
   "metadata": {
    "tags": []
   },
   "outputs": [],
   "source": [
    "m"
   ]
  },
  {
   "cell_type": "markdown",
   "id": "1d0c040c-560d-4208-932a-a9e1f261f371",
   "metadata": {
    "tags": []
   },
   "source": [
    "### Channel Summary\n",
    "\n",
    "Have a look at the channel summary and make sure everything looks good."
   ]
  },
  {
   "cell_type": "code",
   "execution_count": null,
   "id": "413436b3-2986-4dda-a3d9-3dc921adbce2",
   "metadata": {},
   "outputs": [],
   "source": [
    "m.channel_summary.summarize()\n",
    "m.channel_summary.to_dataframe()"
   ]
  },
  {
   "cell_type": "markdown",
   "id": "00cce25a-d05b-4476-9599-a66b2252571a",
   "metadata": {},
   "source": [
    "## Add Transfer functions\n",
    "\n",
    "We have some processed data from these 2 stations that we can add to the file and we can compare them later to processed versions"
   ]
  },
  {
   "cell_type": "code",
   "execution_count": null,
   "id": "64a4ff08-7e61-4581-8fff-3e550e723389",
   "metadata": {},
   "outputs": [],
   "source": [
    "from mt_metadata.transfer_functions.core import TF"
   ]
  },
  {
   "cell_type": "code",
   "execution_count": null,
   "id": "088ff509-6d2b-47dc-8ed9-016a88003882",
   "metadata": {},
   "outputs": [],
   "source": [
    "for avg_fn in z3d_path.rglob(\"*.avg\"):\n",
    "    avg_tf_object = TF(avg_fn)\n",
    "    avg_tf_object.read_tf_file(z_positive=\"up\")\n",
    "    avg_tf_object.survey_metadata.id = \"yellowstone\"\n",
    "    # update the station id to what the time series are store as\n",
    "    avg_tf_object.station = f\"{avg_tf_object.station[0:4]}0\"\n",
    "    m.add_transfer_function(avg_tf_object)\n"
   ]
  },
  {
   "cell_type": "markdown",
   "id": "b481bf0c-1cfd-44c5-82e7-44a87d6b3211",
   "metadata": {},
   "source": [
    "#### Transfer Function Summary \n",
    "\n",
    "Lets make sure the transfer functions went in properly."
   ]
  },
  {
   "cell_type": "code",
   "execution_count": null,
   "id": "ddd2e6ec-7d74-4238-abbc-7094e0e6e6c4",
   "metadata": {},
   "outputs": [],
   "source": [
    "m.tf_summary.summarize()\n",
    "m.tf_summary.to_dataframe()"
   ]
  },
  {
   "cell_type": "code",
   "execution_count": null,
   "id": "9c81aa01-f5e9-4828-8a39-452d021b11d8",
   "metadata": {},
   "outputs": [],
   "source": [
    "m"
   ]
  },
  {
   "cell_type": "markdown",
   "id": "0960c550-fd15-4b0c-89e9-dc7c11f95b05",
   "metadata": {},
   "source": [
    "## Close the MTH5\n",
    "\n",
    "This is important, you should close the file after you are done using it.  Otherwise bad things can happen if you try to open it with another program or Python interpreter. These are in the same folder that the time series are in `data/time_series/zen`"
   ]
  },
  {
   "cell_type": "code",
   "execution_count": null,
   "id": "e99299cb-0165-4b10-9c5a-1ee5dcbc82bf",
   "metadata": {},
   "outputs": [],
   "source": [
    "m.close_mth5()"
   ]
  },
  {
   "cell_type": "code",
   "execution_count": null,
   "id": "49d586a6-e03d-4200-9d0d-40b9ac6d7b65",
   "metadata": {},
   "outputs": [],
   "source": []
  }
 ],
 "metadata": {
  "kernelspec": {
   "display_name": "Python 3 (ipykernel)",
   "language": "python",
   "name": "python3"
  },
  "language_info": {
   "codemirror_mode": {
    "name": "ipython",
    "version": 3
   },
   "file_extension": ".py",
   "mimetype": "text/x-python",
   "name": "python",
   "nbconvert_exporter": "python",
   "pygments_lexer": "ipython3",
   "version": "3.8.13"
  }
 },
 "nbformat": 4,
 "nbformat_minor": 5
}
