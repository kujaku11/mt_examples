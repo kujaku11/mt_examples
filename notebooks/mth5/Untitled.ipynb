{
 "cells": [
  {
   "cell_type": "markdown",
   "id": "004476ed-3141-469b-85e3-ab0a9debb756",
   "metadata": {},
   "source": [
    "# Outline\n",
    "\n"
   ]
  }
 ],
 "metadata": {
  "kernelspec": {
   "display_name": "Python 3 (ipykernel)",
   "language": "python",
   "name": "python3"
  },
  "language_info": {
   "codemirror_mode": {
    "name": "ipython",
    "version": 3
   },
   "file_extension": ".py",
   "mimetype": "text/x-python",
   "name": "python",
   "nbconvert_exporter": "python",
   "pygments_lexer": "ipython3",
   "version": "3.9.15"
  }
 },
 "nbformat": 4,
 "nbformat_minor": 5
}
