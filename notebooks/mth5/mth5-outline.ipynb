{
 "cells": [
  {
   "cell_type": "markdown",
   "id": "004476ed-3141-469b-85e3-ab0a9debb756",
   "metadata": {},
   "source": [
    "# Outline\n",
    "\n",
    "MTH5 is a file format and `mth5` is a wrapper to access an MTH5 file efficiently and easily.\n",
    "\n",
    "Currently there are 2 version of MTH5.\n",
    "\n",
    "- v0.1.0: `Survey` is the top level of the file, therefore only a single survey can fit into the file.\n",
    "- v0.2.0: `Experiment` is the top level, therefore mulitple surveys can fit into the file.\n",
    "\n",
    "## Common Practice\n",
    "In practical use cases and for efficient creation of MTH5 files, its common practice for an MTH5 file to have a single station.  These are quick to create and a little easier to handle.  \n",
    "\n",
    "**Note**: In future version of `mth5` you will be able to create a master MTH5 file that then links to each station MTH5 and so you would only have to open the one file to open all the other files.  \n",
    "\n",
    "## 1a. [Basics v0.1.0](http://localhost:8888/lab/tree/mt_examples/notebooks/mth5/01_mth5_v0.1.0_example.ipynb)\n",
    "\n",
    "Here v0.1.0 is introduced where a single survey fits into one MTH5 file.\n",
    "\n",
    "## 1b. [Basics v0.2.0](http://localhost:8888/lab/tree/mt_examples/notebooks/mth5/02_mth5_v0.2.0_example.ipynb)\n",
    "\n",
    "Here v0.2.0 is introduced where multiple surveys fit into one MTH5 file.\n",
    "\n",
    "## 2. [ChannelTS object](http://localhost:8888/lab/tree/mt_examples/notebooks/mth5/03_channel_ts_example.ipynb)\n",
    "\n",
    "`ChannelTS` is a key object in `mth5` and is based on `xarray.DataArray`.  It contains a single channel including metadata and the channel response filter.  `ChannelTS` also includes useful methods like slicing, filtering, decimation, and plotting.\n",
    "\n",
    "## 3. [RunTS](http://localhost:8888/lab/tree/mt_examples/notebooks/mth5/04_run_ts_example.ipynb)\n",
    "\n",
    "`RunTS` is a collection of `ChannelTS` objects stored as an `xarray.Dataset`.  It also contains methods for slicing, filtering, decimation, and plotting.\n",
    "\n",
    "## 4. Creating MTH5 from Data Logger Outputs\n",
    "\n",
    "### a. [From IRIS DMC](http://localhost:8888/lab/tree/mt_examples/notebooks/mth5/05_make_mth5_from_iris_v0.2.0.ipynb)\n",
    "\n",
    "In this example data is downloaded from the IRIS DMC as miniseed and StationXML files and put into an MTH5 file.\n",
    "\n",
    "### b. [From LEMI 424](http://localhost:8888/lab/tree/mt_examples/notebooks/mth5/06_make_mth5_from_lemi.ipynb)\n",
    "\n",
    "In this example files output by a long period LEMI 424 are used to create an MTH5.\n",
    "\n",
    "### c. [From Phoenix MTU-5](http://localhost:8888/lab/tree/mt_examples/notebooks/mth5/07_make_mth5_from_phoenix.ipynb)\n",
    "\n",
    "In this example files output from a Phoenix MTU-5 data logger are used to create an MTH5.  The tricky part with Phoenix data is that you need to output the calibration files as JSON files.\n",
    "\n",
    "### d. [From ZEN](http://localhost:8888/lab/tree/mt_examples/notebooks/mth5/08_make_mth5_from_z3d.ipynb)\n",
    "\n",
    "In this example files output from a Zonge ZEN data logger are used to create an MTH5.\n",
    "\n",
    "### e. [From Earth Data Logger Parallel](http://localhost:8888/lab/tree/mt_examples/notebooks/mth5/mth5_in_parallel_one_file_per_station.ipynb)\n",
    "\n",
    "In this example multiple MTH5 files are create for each station in the Musgraves survey in parallel.  These data were collected using the Earth Data Loggers, which are basic ASCII files with no metadata except for the file name.  Other metadata has to be input using field notes which Nigel painfully translated.  "
   ]
  },
  {
   "cell_type": "code",
   "execution_count": null,
   "id": "f61e9bda-30fd-451c-8dfd-bd4c57a9dfb3",
   "metadata": {},
   "outputs": [],
   "source": []
  }
 ],
 "metadata": {
  "kernelspec": {
   "display_name": "Python 3 (ipykernel)",
   "language": "python",
   "name": "python3"
  },
  "language_info": {
   "codemirror_mode": {
    "name": "ipython",
    "version": 3
   },
   "file_extension": ".py",
   "mimetype": "text/x-python",
   "name": "python",
   "nbconvert_exporter": "python",
   "pygments_lexer": "ipython3",
   "version": "3.9.18"
  }
 },
 "nbformat": 4,
 "nbformat_minor": 5
}
