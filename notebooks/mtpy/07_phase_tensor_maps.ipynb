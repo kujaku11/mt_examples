{
 "cells": [
  {
   "cell_type": "markdown",
   "id": "0780a4ec-43b3-47c6-8791-7c39beaa1c81",
   "metadata": {},
   "source": [
    "# MTpy Example 07\n",
    "\n",
    "## Phase Tensor Ellipses\n",
    "\n",
    "A useful excersize is to plot the   "
   ]
  },
  {
   "cell_type": "code",
   "execution_count": 1,
   "id": "81dd056c-2532-4102-ae78-6aa4b98340d6",
   "metadata": {},
   "outputs": [
    {
     "name": "stderr",
     "output_type": "stream",
     "text": [
      "2022-09-30 10:09:29,604 [line 135] error.get_mtpy_logger - INFO: Logging file can be found C:\\Users\\jpeacock\\OneDrive - DOI\\Documents\\GitHub\\mtpy\\logs\\mtpy_error.log\n",
      "2022-09-30 10:09:29,604 [line 135] matplotlib.get_mtpy_logger - INFO: Logging file can be found C:\\Users\\jpeacock\\OneDrive - DOI\\Documents\\GitHub\\mtpy\\logs\\matplotlib_warn.log\n",
      "2022-09-30 10:09:34,067 [line 44] mtpy.utils.gis_tools.<module> - INFO: INFO: GDAL version 3 detected\n",
      "2022-09-30 10:09:35,347 [line 135] mth5.setup_logger - INFO: Logging file can be found C:\\Users\\jpeacock\\OneDrive - DOI\\Documents\\GitHub\\mth5\\logs\\mth5_debug.log\n"
     ]
    }
   ],
   "source": [
    "from pathlib import Path\n",
    "from mtpy import MTCollection\n",
    "%matplotlib widget"
   ]
  },
  {
   "cell_type": "markdown",
   "id": "90be7798-d3fe-4e07-a2d0-145cf04afa18",
   "metadata": {},
   "source": [
    "### Open MTCollection\n",
    "\n",
    "In the previous example we created a MTH5 file from existing Yellowstone data.  Let's open that file here for plotting."
   ]
  },
  {
   "cell_type": "code",
   "execution_count": 2,
   "id": "fa0f3984-7609-4e52-917b-f292e3dfa459",
   "metadata": {},
   "outputs": [],
   "source": [
    "mc = MTCollection()\n",
    "mc.open_collection(Path().cwd().parent.parent.joinpath(\"data\", \"transfer_functions\", \"yellowstone_mt_collection.h5\"))"
   ]
  },
  {
   "cell_type": "markdown",
   "id": "7fe790c9-4ba7-49e8-a67a-6948622a2768",
   "metadata": {},
   "source": [
    "#### Load TF List\n",
    "\n",
    "Load TF list, takes about 1 second per TF"
   ]
  },
  {
   "cell_type": "code",
   "execution_count": null,
   "id": "8f5647e9-8d45-4e5f-ac33-67544aa51176",
   "metadata": {},
   "outputs": [],
   "source": []
  }
 ],
 "metadata": {
  "kernelspec": {
   "display_name": "Python 3 (ipykernel)",
   "language": "python",
   "name": "python3"
  },
  "language_info": {
   "codemirror_mode": {
    "name": "ipython",
    "version": 3
   },
   "file_extension": ".py",
   "mimetype": "text/x-python",
   "name": "python",
   "nbconvert_exporter": "python",
   "pygments_lexer": "ipython3",
   "version": "3.8.13"
  }
 },
 "nbformat": 4,
 "nbformat_minor": 5
}
