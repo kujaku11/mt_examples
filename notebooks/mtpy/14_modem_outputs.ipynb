{
 "cells": [
  {
   "cell_type": "markdown",
   "id": "dd7db4d6-f5a4-45da-bbf8-36f382b1f5a8",
   "metadata": {},
   "source": [
    "# Analyzing ModEM Outputs\n",
    "\n",
    "Now that you have run a ModEM model you would like to look at the outputs and see how the model fit the data and what the model looks like.  There are a few tools in `mtpy` to help with this, though some of them are GUI base and may not run from ARE.  \n",
    "\n",
    "## RMS plots\n",
    "\n",
    "The first thing you might want to look at is the RMS for each station.  "
   ]
  },
  {
   "cell_type": "code",
   "execution_count": 1,
   "id": "df5b558c-8027-4b87-a342-210c5556890f",
   "metadata": {},
   "outputs": [],
   "source": [
    "from mtpy.modeling.modem import Residual"
   ]
  },
  {
   "cell_type": "code",
   "execution_count": null,
   "id": "abd70d31-d3ca-4977-87a4-866ba881fa5e",
   "metadata": {},
   "outputs": [],
   "source": [
    "residual = Residual()\n",
    "residual.read_residual_file(\"path/to/residual_file.res\")\n",
    "plot_rms = residual.plot_rms()"
   ]
  }
 ],
 "metadata": {
  "kernelspec": {
   "display_name": "Python 3 (ipykernel)",
   "language": "python",
   "name": "python3"
  },
  "language_info": {
   "codemirror_mode": {
    "name": "ipython",
    "version": 3
   },
   "file_extension": ".py",
   "mimetype": "text/x-python",
   "name": "python",
   "nbconvert_exporter": "python",
   "pygments_lexer": "ipython3",
   "version": "3.9.15"
  }
 },
 "nbformat": 4,
 "nbformat_minor": 5
}
