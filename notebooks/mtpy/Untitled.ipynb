{
 "cells": [
  {
   "cell_type": "markdown",
   "id": "de40b6d2-dfd2-4430-8945-c8257d17d3a9",
   "metadata": {},
   "source": [
    "# MTpy Example 08\n",
    "\n",
    "## Geoelectric Strike\n",
    "\n",
    "Geoelectric strike indicates the preferred direction of electrical current flow.  The strike direction becomes important when you want to figure out which modes of the impedance tensor are which, namely the TE and TM modes.  TE is parallel to geoelectric strike and TM is perpendicular.  When modeling in 1D and 2D orienting your modes properly is important. Modeling in 3D removes this dependency because all 4 components can be modeled.   \n",
    "\n",
    "MTpy provides 3 ways to estimate strike direction, through the impedance tensor invariants [Liley, 1998](https://doi.org/10.1190/1.1444481), the phase tensor azimuth [Caldwell et al., 2004](https://doi.org/10.1111/j.1365-246X.2004.02281.x), and the induction vector real azimuth.  \n",
    "\n",
    "The plots are rose diagrams where up is North (0 degrees strike) and East is the right (90 degrees strike).  Therefore, strike is estimated as positive clockwise.  The strike angle is relative to the coordinate system of the transfer functions, in this case geographic North.  \n",
    "\n",
    "You can plot the strike angles as a function of period (by decade), or you can use the `working_dataframe` to organize the strike angle by geographic region.  We will show both"
   ]
  },
  {
   "cell_type": "code",
   "execution_count": 1,
   "id": "e9fc7d2c-1294-4bc1-99cc-f974f701fd95",
   "metadata": {},
   "outputs": [
    {
     "name": "stderr",
     "output_type": "stream",
     "text": [
      "2022-09-30 13:03:10,233 [line 135] error.get_mtpy_logger - INFO: Logging file can be found C:\\Users\\jpeacock\\OneDrive - DOI\\Documents\\GitHub\\mtpy\\logs\\mtpy_error.log\n",
      "2022-09-30 13:03:10,233 [line 135] matplotlib.get_mtpy_logger - INFO: Logging file can be found C:\\Users\\jpeacock\\OneDrive - DOI\\Documents\\GitHub\\mtpy\\logs\\matplotlib_warn.log\n",
      "2022-09-30 13:03:13,656 [line 44] mtpy.utils.gis_tools.<module> - INFO: INFO: GDAL version 3 detected\n",
      "2022-09-30 13:03:14,771 [line 135] mth5.setup_logger - INFO: Logging file can be found C:\\Users\\jpeacock\\OneDrive - DOI\\Documents\\GitHub\\mth5\\logs\\mth5_debug.log\n"
     ]
    }
   ],
   "source": [
    "from pathlib import Path\n",
    "from mtpy import MTCollection\n",
    "%matplotlib widget"
   ]
  },
  {
   "cell_type": "markdown",
   "id": "b042b612-8fc9-44ab-8ecb-ccd496e670f4",
   "metadata": {},
   "source": [
    "### Open MTCollection\n",
    "\n",
    "In the previous example we created a MTH5 file from existing Yellowstone data.  Let's open that file here for plotting."
   ]
  },
  {
   "cell_type": "code",
   "execution_count": 2,
   "id": "730c719b-0078-4546-880e-a1f32e09f67f",
   "metadata": {},
   "outputs": [],
   "source": [
    "mc = MTCollection()\n",
    "mc.open_collection(Path().cwd().parent.parent.joinpath(\"data\", \"transfer_functions\", \"yellowstone_mt_collection.h5\"))"
   ]
  },
  {
   "cell_type": "code",
   "execution_count": null,
   "id": "40ea62f3-a6b4-40a5-bb66-37c89fa2173d",
   "metadata": {},
   "outputs": [],
   "source": [
    "## Plot Strike of All Stations for all P"
   ]
  },
  {
   "cell_type": "code",
   "execution_count": null,
   "id": "c194fbab-d2ba-4269-a308-e8c3cd6ab573",
   "metadata": {},
   "outputs": [],
   "source": [
    "tf_list = mc.get_tf_list"
   ]
  }
 ],
 "metadata": {
  "kernelspec": {
   "display_name": "Python 3 (ipykernel)",
   "language": "python",
   "name": "python3"
  },
  "language_info": {
   "codemirror_mode": {
    "name": "ipython",
    "version": 3
   },
   "file_extension": ".py",
   "mimetype": "text/x-python",
   "name": "python",
   "nbconvert_exporter": "python",
   "pygments_lexer": "ipython3",
   "version": "3.8.13"
  }
 },
 "nbformat": 4,
 "nbformat_minor": 5
}
