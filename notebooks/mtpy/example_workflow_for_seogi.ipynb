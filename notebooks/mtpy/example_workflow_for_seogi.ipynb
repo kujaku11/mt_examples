{
 "cells": [
  {
   "cell_type": "markdown",
   "id": "4d2c0c3d-b023-41f0-a428-30949b2c8693",
   "metadata": {},
   "source": [
    "# Workflow using MTpy, MTH5 for Seogi\n",
    "\n",
    "This notebook is to help Seogi with a workflow for using `MTCollection` as a data base to store tranfer functions and model responses.  The benefits are that Seogi will not have to write plotting codes, good test for the versitility of `MTCollection`, and demonstrate interoperability with Simpeg.\n"
   ]
  },
  {
   "cell_type": "markdown",
   "id": "2beba3ab-68e4-4414-b36a-b91cdbd834c2",
   "metadata": {},
   "source": [
    "## Getting Started\n",
    "\n",
    "The most up-to-date versions of MTH5 and mt-metadata can be installed using PIP, the conda-forge versions are awaiting approval, so they may be available after time of writing this.  \n",
    "\n",
    "You can always clone the repositories at:\n",
    "\n",
    "   - [MTH5](https://github.com/kujaku11/mth5.git)\n",
    "   - [MT Metadata](https://github.com/kujaku11/mt_metadata.git)\n",
    "   - [MTpy](https://github.com/MTgeophysics/mtpy/tree/v2)  Be sure to clone the `v2` branch\n",
    "   \n",
    "If you use PIP then you can just install MTpy and it should install the latest versions of MTH5 and MT Metadata.\n",
    "\n",
    "CD into unzipped repo from MTpy and run:\n",
    "\n",
    "```\n",
    "> pip install -e .\n",
    "```\n",
    "\n"
   ]
  },
  {
   "cell_type": "markdown",
   "id": "33a18d60-4067-44c3-80c7-01ea810d9964",
   "metadata": {},
   "source": [
    "## Creating an MTCollection from transfer functions\n",
    "\n",
    "Here we will create an `MTCollection` object from transfer functions downloaded from IRIS. "
   ]
  }
 ],
 "metadata": {
  "kernelspec": {
   "display_name": "Python 3 (ipykernel)",
   "language": "python",
   "name": "python3"
  },
  "language_info": {
   "codemirror_mode": {
    "name": "ipython",
    "version": 3
   },
   "file_extension": ".py",
   "mimetype": "text/x-python",
   "name": "python",
   "nbconvert_exporter": "python",
   "pygments_lexer": "ipython3",
   "version": "3.8.13"
  }
 },
 "nbformat": 4,
 "nbformat_minor": 5
}
