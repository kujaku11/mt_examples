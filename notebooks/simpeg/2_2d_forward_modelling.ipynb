{
 "cells": [
  {
   "cell_type": "markdown",
   "id": "5639d9e1",
   "metadata": {},
   "source": [
    "# 2D MT forward modelling with SimPEG\n",
    "\n",
    "2D modeling can be useful for understanding subsurface electrical resistivity as long as structures are not too complicated.  Here we demonstrate how to build a simple forward model, estimate EM fields, plot, then save for inversion.  \n",
    "\n",
    "## Learning goals\n",
    "\n",
    "- Identify Transverse Electric (TE) and Transverse Magnetic (TM) modes.\n",
    "- Understand how to design mesh. \n",
    "- Understand **spatial features** of the transfer function in the form of apparent resistivity and phase\n",
    "- Explore how the transfer function varies with **frequency**\n"
   ]
  },
  {
   "cell_type": "markdown",
   "id": "a75a5396-10c7-4419-950d-5fa1534e02e4",
   "metadata": {},
   "source": [
    "## Imports"
   ]
  },
  {
   "cell_type": "code",
   "execution_count": 3,
   "id": "d9af9252",
   "metadata": {},
   "outputs": [],
   "source": [
    "import warnings\n",
    "import numpy as np\n",
    "\n",
    "import discretize\n",
    "from discretize import utils as dis_utils\n",
    "from SimPEG.electromagnetics import natural_source as nsem\n",
    "from SimPEG import utils, maps\n",
    "\n",
    "# here you can choose a solver\n",
    "from pymatsolver import Pardiso as Solver\n",
    "from geoana.em.fdem import skin_depth\n",
    "\n",
    "import matplotlib.pyplot as plt\n",
    "from matplotlib.colors import LogNorm\n",
    "import matplotlib\n",
    "matplotlib.rcParams['font.size'] = 14\n",
    "\n",
    "warnings.filterwarnings(\"ignore\")"
   ]
  },
  {
   "cell_type": "markdown",
   "id": "eb019ed5-3494-420c-8c75-817965fadf0f",
   "metadata": {},
   "source": [
    "## Set up Synthetic Data"
   ]
  },
  {
   "cell_type": "code",
   "execution_count": 4,
   "id": "fd4668a5",
   "metadata": {},
   "outputs": [],
   "source": [
    "# station spacing in meters\n",
    "station_spacing = 4000\n",
    "\n",
    "# number of stations\n",
    "n_stations = 26\n",
    "\n",
    "# station locations and then center them\n",
    "station_locations = np.arange(n_stations) * station_spacing\n",
    "station_locations = station_locations - station_locations.mean()\n",
    "\n",
    "# total distance of station coverage\n",
    "survey_span = station_locations.max() - station_locations.min()\n",
    "\n",
    "# make a station array\n",
    "rx_locs = np.c_[station_locations, np.zeros(n_stations)]\n",
    "\n",
    "# set frequencies\n",
    "n_freq = 20\n",
    "frequencies = np.logspace(-2, 2, n_freq)\n",
    "\n",
    "# background conductivity\n",
    "sigma_background = 1E-2\n"
   ]
  },
  {
   "cell_type": "markdown",
   "id": "1c30cf62-ee4c-4b53-8260-56f899b6ae65",
   "metadata": {
    "tags": []
   },
   "source": [
    "## Step 1: Discretize the domain using a 2D `Tensor` Mesh\n",
    "\n",
    "Here we create a `discretize.TensorMesh` object from the station locations and modeling frequencies.\n",
    "\n",
    "<div class=\"alert alert-block alert-info\">\n",
    "<b> Note: </b> The input into the modeling is the nodes or relative distances between layers and not the actual depth to each layer.  So a simple mesh could be [10, 10, 10, 10].\n",
    "</div>\n",
    "\n",
    "<div class=\"alert alert-block alert-info\">\n",
    "<b> Note: </b> SimPEG assumes a coordinate system where x=East, y=North, z=+up.\n",
    "</div>"
   ]
  },
  {
   "cell_type": "code",
   "execution_count": 5,
   "id": "bc39fbed-8448-4532-bb93-af58f0a8e94c",
   "metadata": {},
   "outputs": [],
   "source": [
    "def generate_2d_mesh_for_mt(\n",
    "    rx_locs,            # station locations\n",
    "    frequencies,        # frequencies to invert \n",
    "    sigma_background,   # background conductivity\n",
    "    z_factor_max=5,     # maximum factor in vertical direction (factor of skin depth)  \n",
    "    z_factor_min=5,     # minimum factor in vertical direction (factor of skin depth)\n",
    "    pfz_down = 1.2,     # geometric factor for increasing cell size in subsurface\n",
    "    pfz_up = 1.5,       # geometric factor for increasing cell size in air\n",
    "    npadz_up = 5,       # number of air cells\n",
    "    x_factor_max = 2,   # maximum factor in horizontal direction\n",
    "    spacing_factor = 4, # number of cells between stations\n",
    "    pfx = 1.5,          # geometric factor for increasing cell size in horizontal direction\n",
    "    n_max=1000          # maximum number of vertical cells\n",
    "):\n",
    "    # get minimum cell size (first layer thickness)\n",
    "    dz_min = np.round(skin_depth(frequencies.max(), sigma_background) / z_factor_max) \n",
    "    lz = skin_depth(sigma_background, frequencies.min()) * z_factor_max\n",
    "    \n",
    "    # Setting the domain length in subsurface\n",
    "    for nz_down in range(n_max):\n",
    "        hz_down = dz_min*pfz_down**np.arange(nz_down)[::-1]\n",
    "        if hz_down.sum() > lz:\n",
    "            break\n",
    "    # create air layers\n",
    "    hz_up = [(dz_min, npadz_up, pfz_up)]\n",
    "    hz_up = dis_utils.unpack_widths(hz_up)\n",
    "    \n",
    "    # combine air and subsurface\n",
    "    hz = np.r_[hz_down, hz_up]\n",
    "    \n",
    "    # Setting the cells in lateral dimension\n",
    "    # station spacing\n",
    "    d_station = np.diff(rx_locs[:,0]).min()\n",
    "    # minimum cell width\n",
    "    dx_min = np.round(d_station/spacing_factor)\n",
    "    # survey span\n",
    "    lx = rx_locs[:,0].max() - rx_locs[:,0].min()\n",
    "    ncx = int(lx / dx_min)\n",
    "    \n",
    "    # make padding cells\n",
    "    lx_pad = skin_depth(sigma_background, frequencies.min()) * x_factor_max\n",
    "    for npadx in range(n_max):\n",
    "        hx_pad = dis_utils.unpack_widths([(dx_min, npadx, -pfx)])\n",
    "        if hx_pad.sum()>lx_pad:\n",
    "            break\n",
    "    # combine paddin cells with station area cells\n",
    "    hx = [(dx_min, npadx, -pfx), (dx_min, ncx), (dx_min, npadx, pfx)]  \n",
    "    \n",
    "    # make a discretize.TensorMesh object\n",
    "    mesh = discretize.TensorMesh([hx, hz])\n",
    "    \n",
    "    # get the lower left corner of the mesh, the origin\n",
    "    mesh.origin = np.r_[-mesh.h[0][:npadx].sum()+rx_locs[:,0].min(), -hz_down.sum()]   \n",
    "    \n",
    "    print (mesh)\n",
    "    return mesh"
   ]
  },
  {
   "cell_type": "markdown",
   "id": "094e3fc8-2c5e-458a-ba5f-e64345859e8e",
   "metadata": {},
   "source": [
    "### Create Mesh\n",
    "Create the mesh from the station locations, frequencies to model, and background conductivity."
   ]
  },
  {
   "cell_type": "code",
   "execution_count": 6,
   "id": "90228fb3-bd21-4a61-918e-29432901be39",
   "metadata": {},
   "outputs": [
    {
     "name": "stdout",
     "output_type": "stream",
     "text": [
      "\n",
      "  TensorMesh: 4,720 cells\n",
      "\n",
      "                      MESH EXTENT             CELL WIDTH      FACTOR\n",
      "  dir    nC        min           max         min       max      max\n",
      "  ---   ---  ---------------------------  ------------------  ------\n",
      "   x    118   -162,330.08    162,330.08  1,000.00 38,443.36    1.50\n",
      "   y     40   -297,782.46      1,997.91    101.00 49,714.58    1.50\n",
      "\n",
      "\n"
     ]
    }
   ],
   "source": [
    "mesh = generate_2d_mesh_for_mt(rx_locs, frequencies, sigma_background)"
   ]
  },
  {
   "cell_type": "code",
   "execution_count": 7,
   "id": "b8a05bd8",
   "metadata": {},
   "outputs": [
    {
     "data": {
      "text/plain": [
       "<AxesSubplot: xlabel='x1', ylabel='x2'>"
      ]
     },
     "execution_count": 7,
     "metadata": {},
     "output_type": "execute_result"
    },
    {
     "data": {
      "image/png": "[encoded data removed]",
      "text/plain": [
       "<Figure size 640x480 with 1 Axes>"
      ]
     },
     "metadata": {},
     "output_type": "display_data"
    }
   ],
   "source": [
    "mesh.plot_grid()"
   ]
  },
  {
   "cell_type": "markdown",
   "id": "0829501f",
   "metadata": {},
   "source": [
    "## Step 2: Generate a conductivity model\n",
    "\n",
    "Here we will put a simple conductive block into the center of the model."
   ]
  },
  {
   "cell_type": "code",
   "execution_count": 8,
   "id": "8f12f776",
   "metadata": {},
   "outputs": [],
   "source": [
    "# conductivity of the block\n",
    "sigma_block = 1e0\n",
    "sigma_air = 1e-8\n",
    "\n",
    "# create conductivity of subsurface\n",
    "cells = mesh.cell_centers\n",
    "\n",
    "# create array of cells with background conductivity\n",
    "sigma = np.ones(mesh.n_cells) * sigma_background\n",
    "\n",
    "blk_depth_max = -10000\n",
    "blk_depth_min = -5000\n",
    "blk_x_max = 10000\n",
    "blk_x_min = -10000\n",
    "blk_ind = utils.model_builder.getIndicesBlock(\n",
    "    np.r_[blk_depth_max, blk_depth_min],\n",
    "    np.r_[blk_x_max, blk_x_min],\n",
    "    cells\n",
    ")\n",
    "sigma[blk_ind] = sigma_block\n",
    "# set air cells above 0\n",
    "sigma[cells[:, -1] >= 0] = sigma_air"
   ]
  },
  {
   "cell_type": "code",
   "execution_count": 9,
   "id": "c423f5f7",
   "metadata": {},
   "outputs": [
    {
     "data": {
      "text/plain": [
       "Text(0, 0.5, 'Elevation (m)')"
      ]
     },
     "execution_count": 9,
     "metadata": {},
     "output_type": "execute_result"
    },
    {
     "data": {
      "image/png": "[encoded data removed]",
      "text/plain": [
       "<Figure size 1000x1000 with 2 Axes>"
      ]
     },
     "metadata": {},
     "output_type": "display_data"
    }
   ],
   "source": [
    "fig, ax = plt.subplots(1,1, figsize=(10, 10))\n",
    "grid= True\n",
    "out = mesh.plot_image(\n",
    "    sigma, grid=grid, ax=ax, pcolor_opts={'norm':LogNorm(vmin=1e-4, vmax=1), 'cmap':'turbo'},\n",
    "    range_x=(-60000, 60000), range_y=(-30000, 2000)\n",
    ")\n",
    "ax.plot(rx_locs[:,0], rx_locs[:,1], 'ro')\n",
    "cb = plt.colorbar(out[0], fraction=0.01)\n",
    "cb.set_label(\"Conductivity (S/m)\")\n",
    "ax.set_aspect(1)\n",
    "ax.set_xlabel(\"Easting (m)\")\n",
    "ax.set_ylabel(\"Elevation (m)\")\n"
   ]
  },
  {
   "cell_type": "markdown",
   "id": "67b6fe47",
   "metadata": {},
   "source": [
    "## Step 3: Setup `Survey` and `Simulation`\n",
    "\n",
    "Need to set up the sources and receivers to model.  Here we will model the apparent resistivity and phase of each mode TE and TM.  Remember TE is where the electric field is parallel to electric strike which should be perpendicular to the profile being modeled.  Therefore the TE mode should have the electric field perpendicular to the profile being modeled. TM has an electric field parallel to the profile.    \n",
    "\n",
    "<div class=\"alert alert-block alert-warning\">\n",
    "<b>Important:</b> SimPEG assumes TE mode is yx and TM is xy, not positive why yet. I think because x is assumed to be parallel with the profile so Ex/Hy would be E-parallel with the profile and H-perpendicular to the profile. Need to check.\n",
    "</div>"
   ]
  },
  {
   "cell_type": "code",
   "execution_count": 10,
   "id": "39f16efe",
   "metadata": {},
   "outputs": [],
   "source": [
    "## simulation class for TM mode\n",
    "# create receivers for TM mode\n",
    "rx_list_tm = [\n",
    "    nsem.receivers.PointNaturalSource(\n",
    "        rx_locs, orientation=\"xy\", component=\"apparent_resistivity\"\n",
    "    ),\n",
    "    nsem.receivers.PointNaturalSource(\n",
    "        rx_locs, orientation=\"xy\", component=\"phase\"\n",
    "    ),\n",
    "]\n",
    "# create source list for TM mode\n",
    "src_list_tm = [nsem.sources.Planewave(rx_list_tm, frequency=f) for f in frequencies]\n",
    "survey_tm = nsem.Survey(src_list_tm)\n",
    "\n",
    "# create a simulation class that will estimate Electric fields\n",
    "sim_tm= nsem.simulation.Simulation2DElectricField(\n",
    "    mesh,\n",
    "    survey=survey_tm,\n",
    "    sigma=sigma,\n",
    "    solver=Solver,\n",
    ")\n",
    "\n",
    "# simulation class for TE mode\n",
    "rx_list_te = [\n",
    "    nsem.receivers.PointNaturalSource(\n",
    "        rx_locs, orientation=\"yx\", component=\"apparent_resistivity\"\n",
    "    ),\n",
    "    nsem.receivers.PointNaturalSource(\n",
    "        rx_locs, orientation=\"yx\", component=\"phase\",        \n",
    "    ),       \n",
    "]\n",
    "src_list_te = [nsem.sources.Planewave(rx_list_te, frequency=f) for f in frequencies]\n",
    "survey_te = nsem.Survey(src_list_te)\n",
    "\n",
    "sim_te = nsem.simulation.Simulation2DMagneticField(\n",
    "    mesh,\n",
    "    survey=survey_te,\n",
    "    sigma=sigma,\n",
    "    solver=Solver,\n",
    ")"
   ]
  },
  {
   "cell_type": "markdown",
   "id": "79cdf58d",
   "metadata": {},
   "source": [
    "## Step 4: Run forward modelling"
   ]
  },
  {
   "cell_type": "code",
   "execution_count": null,
   "id": "61c3fcb5",
   "metadata": {},
   "outputs": [],
   "source": [
    "%%time\n",
    "forward_te = sim_te.fields()\n",
    "predicted_te = sim_te.dpred(f=forward_te)\n",
    "forward_tm = sim_tm.fields()\n",
    "predicted_tm = sim_tm.dpred(f=forward_tm)"
   ]
  },
  {
   "cell_type": "code",
   "execution_count": null,
   "id": "128d8964",
   "metadata": {},
   "outputs": [],
   "source": [
    "# extract fields for the first frequency\n",
    "i_freq = 0 \n",
    "e_te = forward_te[src_list_te[i_freq], 'e']\n",
    "h_te = forward_te[src_list_te[i_freq], 'h']\n",
    "e_tm = forward_tm[src_list_tm[i_freq], 'e']\n",
    "h_tm = forward_tm[src_list_tm[i_freq], 'h']"
   ]
  },
  {
   "cell_type": "code",
   "execution_count": null,
   "id": "99839fe7",
   "metadata": {},
   "outputs": [],
   "source": [
    "xlim = (-60000, 60000)\n",
    "ylim = (-30000, 0)\n",
    "\n",
    "fig = plt.figure(11, figsize=(24, 10))\n",
    "\n",
    "## TM Electric field vectors\n",
    "ax_tm_e = fig.add_subplot(4, 1, 1)\n",
    "out = mesh.plot_image(e_tm.real, v_type='E', view='vec', ax=ax_tm_e, range_x=xlim, range_y=ylim)\n",
    "cb = plt.colorbar(out[0], fraction=0.01, ax=ax_tm_e)\n",
    "cb.set_label(\"TM Electric Field\")\n",
    "\n",
    "## TM magnetic field\n",
    "ax_tm_h = fig.add_subplot(4, 1, 2)\n",
    "out = mesh.plot_image(\n",
    "    h_tm.real, v_type='CC', ax=ax_tm_h, range_x=xlim, range_y=ylim,\n",
    "    pcolor_opts={'cmap':'plasma'}\n",
    ")\n",
    "cb = plt.colorbar(out[0], fraction=0.01, ax=ax_tm_h)\n",
    "cb.set_label(\"TM Magnetic Field\")\n",
    "\n",
    "## TE Electric Field\n",
    "ax_te_e = fig.add_subplot(4, 1, 3)\n",
    "out = mesh.plot_image(e_te.real, v_type='CC', ax=ax_te_e, range_x=xlim, range_y=ylim)\n",
    "cb = plt.colorbar(out[0], fraction=0.01, ax=ax_te_e)\n",
    "cb.set_label(\"TE Electric Field\")\n",
    "\n",
    "ax_te_h = fig.add_subplot(4, 1, 4)\n",
    "out = mesh.plot_image(\n",
    "    h_te.real, v_type='E', view='vec', ax=ax_te_h, range_x=xlim, range_y=ylim,\n",
    "    pcolor_opts={'cmap':'plasma'}, stream_opts={'color':'w'}\n",
    ")\n",
    "cb = plt.colorbar(out[0], fraction=0.01, ax=ax_te_h)\n",
    "cb.set_label(\"TE Magnetic Field\")\n",
    "\n",
    "for ax in [ax_tm_e, ax_tm_h, ax_te_e, ax_te_h]:\n",
    "    ax.set_aspect(1)\n",
    "    ax.set_ylim(ylim)\n",
    "    ax.set_xlim(xlim)\n",
    "    ax.set_xlabel(\"Easting (m)\")\n",
    "    ax.set_ylabel(\"Elevation (m)\")"
   ]
  },
  {
   "cell_type": "code",
   "execution_count": null,
   "id": "c7b81bec",
   "metadata": {},
   "outputs": [],
   "source": [
    "PRED_te = predicted_te.reshape((n_freq, 2, n_stations))\n",
    "PRED_tm = predicted_tm.reshape((n_freq, 2, n_stations))\n",
    "\n",
    "rho_app_te = PRED_te[:,0,:]\n",
    "rho_app_tm = PRED_tm[:,0,:]\n",
    "\n",
    "phase_te = PRED_te[:,1,:]\n",
    "phase_tm = PRED_tm[:,1,:]"
   ]
  },
  {
   "cell_type": "code",
   "execution_count": null,
   "id": "d7d702bf",
   "metadata": {},
   "outputs": [],
   "source": [
    "from ipywidgets import widgets, interact"
   ]
  },
  {
   "cell_type": "code",
   "execution_count": null,
   "id": "1b0eeec7",
   "metadata": {},
   "outputs": [],
   "source": [
    "import matplotlib\n",
    "matplotlib.rcParams['font.size'] = 12\n",
    "def foo_te(kk, mode):\n",
    "    fig, axs = plt.subplots(2, 1, figsize=(8, 5))\n",
    "    for i_freq in range(kk):\n",
    "        ax1, ax2 = axs\n",
    "        if mode == 'TE':\n",
    "            ax1.semilogy(rx_locs[:,0], rho_app_te[i_freq,:], '-', label='TE-AppRes.', color='C0')\n",
    "            ax2.plot(rx_locs[:,0], phase_te[i_freq,:], '-', label='TE-Pha.', color='C0')\n",
    "        elif mode == 'TM':\n",
    "            ax1.semilogy(rx_locs[:,0], rho_app_tm[i_freq,:], '-', label='TM-AppRes.', color='C1')\n",
    "            ax2.plot(rx_locs[:,0], phase_tm[i_freq,:]+180, '-', label='TM-Pha.', color='C1')\n",
    "        ax1.set_title(\"Frequency at {:.1e} Hz\".format(frequencies[i_freq]))\n",
    "        ax1.set_xticklabels([])\n",
    "        ax1.set_ylim(1, 1e3) \n",
    "        ax2.set_ylim(0, 90)\n",
    "        ax1.set_ylabel(\"Apparent resistivity (Ohm-m)\")\n",
    "        ax2.set_ylabel(\"Phase (degree)\")"
   ]
  },
  {
   "cell_type": "code",
   "execution_count": null,
   "id": "e55d88cb",
   "metadata": {},
   "outputs": [],
   "source": [
    "interact(\n",
    "    foo_te, \n",
    "    kk=widgets.IntSlider(min=1, max=len(frequencies), value=1, continuous_update=True),\n",
    "    mode=widgets.RadioButtons(options=['TE', 'TM'])\n",
    ")"
   ]
  },
  {
   "cell_type": "code",
   "execution_count": null,
   "id": "314e8363",
   "metadata": {},
   "outputs": [],
   "source": [
    "fig, ax1 = plt.subplots(1, 1, figsize=(10, 5))\n",
    "i_freq = 0\n",
    "ax1.plot(rx_locs[:,0], rho_app_te[i_freq,:], '-', label='TE-AppRes.', color='C0')\n",
    "ax1.plot(rx_locs[:,0], rho_app_tm[i_freq,:], '-', label='TM-AppRes.', color='C1')\n",
    "# ax1.set_ylim(50, 2e2) \n",
    "ax1.legend()"
   ]
  },
  {
   "cell_type": "code",
   "execution_count": null,
   "id": "614cd6cd",
   "metadata": {},
   "outputs": [],
   "source": [
    "i_sounding = 3\n",
    "fig, axs = plt.subplots(2, 1, figsize=(8, 6))\n",
    "ax1, ax2 = axs\n",
    "ax1.loglog(1./frequencies, rho_app_te[:,i_sounding], '.-', label='TE-AppRes.')\n",
    "ax1.loglog(1./frequencies, rho_app_tm[:,i_sounding], '.-', label='TM-AppRes.')\n",
    "ax1.legend()\n",
    "ax1.set_ylim(1, 1e4)\n",
    "\n",
    "ax2.semilogx(1./frequencies, phase_te[:,i_sounding], '.-', label='TE-Pha.')\n",
    "ax2.semilogx(1./frequencies, phase_tm[:,i_sounding]+180, '.-', label='TM-Pha.')\n",
    "ax2.set_ylim(0, 90)\n",
    "ax2.legend()\n",
    "for ax in axs:\n",
    "    ax.grid(True, which='both', alpha=0.3)\n",
    "ax1.set_ylabel(\"Resistivity (Ohm-m)\")\n",
    "ax2.set_ylabel(\"Phase (degree)\")\n",
    "ax2.set_xlabel('Period (s)')"
   ]
  },
  {
   "cell_type": "code",
   "execution_count": null,
   "id": "d1f18591",
   "metadata": {},
   "outputs": [],
   "source": [
    "noise_rho_app_te = 0.05 * abs(rho_app_te) * np.random.randn(n_freq, n_stations)\n",
    "noise_rho_app_tm = 0.05 * abs(rho_app_tm) * np.random.randn(n_freq, n_stations)\n",
    "noise_phase_te = 2 * np.ones_like(phase_te) * np.random.randn(n_freq, n_stations)\n",
    "noise_phase_tm = 2 * np.ones_like(phase_tm) * np.random.randn(n_freq, n_stations)"
   ]
  },
  {
   "cell_type": "markdown",
   "id": "0d093345",
   "metadata": {},
   "source": [
    "## Step 5: Create `MTpy` object and save as `MTH5` format"
   ]
  },
  {
   "cell_type": "code",
   "execution_count": null,
   "id": "59e96f08-32b7-4ac0-a747-850ceb8d8e16",
   "metadata": {},
   "outputs": [],
   "source": [
    "output_results ={\n",
    "    'rx_locs': rx_locs,\n",
    "    'frequencies': frequencies,\n",
    "    'app_rho_te': rho_app_te+noise_rho_app_te,\n",
    "    'app_rho_tm': rho_app_tm+noise_rho_app_tm,\n",
    "    'phase_te': phase_te+noise_phase_te,\n",
    "    'phase_tm': phase_tm+noise_phase_tm,\n",
    "    'mesh': mesh,\n",
    "    'sigma': sigma\n",
    "}"
   ]
  },
  {
   "cell_type": "code",
   "execution_count": null,
   "id": "c525af06",
   "metadata": {},
   "outputs": [],
   "source": [
    "from pathlib import Path\n",
    "import numpy as np\n",
    "from mtpy import MTCollection\n",
    "from mtpy import MT\n",
    "from mtpy.core.transfer_function.z import Z\n",
    "\n",
    "with MTCollection() as mc:\n",
    "    mc.open_collection(filename=Path().cwd().joinpath(\"mt_examples\", \"notebooks\", \"simpeg\", \"2d_forward_mth5.h5\"))\n",
    "    for i_rx in range(n_stations):\n",
    "        app_rho_matrix = np.zeros((n_freq, 2, 2), dtype=float)\n",
    "        phase_matrix = np.zeros((n_freq, 2, 2), dtype=float)\n",
    "        app_rho_matrix[:,0,1] = output_results['app_rho_te'][:,i_rx]\n",
    "        app_rho_matrix[:,1,0] = output_results['app_rho_tm'][:,i_rx]\n",
    "        phase_matrix[:,0,1] = output_results['phase_te'][:,i_rx]\n",
    "        phase_matrix[:,1,0] = output_results['phase_tm'][:,i_rx]\n",
    "        # or add apparent resistivity and phase\n",
    "        z_object = Z(frequency=frequencies)\n",
    "        z_object.set_resistivity_phase(app_rho_matrix, phase_matrix, frequencies)\n",
    "\n",
    "        dx_lon = station_spacing / 1e5\n",
    "\n",
    "        response = MT()  \n",
    "        response.Z = z_object\n",
    "\n",
    "        response.survey_metadata.id = \"model_2d_response\"\n",
    "        response.station_metadata.id = f\"mt-{i_rx:d}\"\n",
    "        response.station_metadata.transfer_function.id = f\"mt-{i_rx:d}\"\n",
    "        # if this is 2D maybe we need a location\n",
    "        response.station_metadata.location.latitude = 40 \n",
    "        response.station_metadata.location.longitude = -122 + dx_lon * (i_rx)\n",
    "        mc.add_tf(response)"
   ]
  },
  {
   "cell_type": "code",
   "execution_count": null,
   "id": "01bc3cf5-8665-4d99-9ac4-678e8ecd3a33",
   "metadata": {},
   "outputs": [],
   "source": [
    "mc.mth5_collection.filename"
   ]
  },
  {
   "cell_type": "code",
   "execution_count": null,
   "id": "a2429524-f0db-4e9c-b6ce-ac1c21e3e62a",
   "metadata": {},
   "outputs": [],
   "source": [
    "output_results[\"app_rho_te\"][:, -1]"
   ]
  },
  {
   "cell_type": "code",
   "execution_count": null,
   "id": "09aeedc5-890f-4959-8568-d056e33fe4ae",
   "metadata": {},
   "outputs": [],
   "source": [
    "output_results[\"rx_locs\"][0]"
   ]
  },
  {
   "cell_type": "code",
   "execution_count": null,
   "id": "676fc03f-dbb4-443c-ba3e-9aab8b42cf30",
   "metadata": {},
   "outputs": [],
   "source": [
    "response.plot_mt_response()"
   ]
  },
  {
   "cell_type": "code",
   "execution_count": null,
   "id": "a98e6075-2578-4a2b-8f2d-8a47bc1de4fa",
   "metadata": {},
   "outputs": [],
   "source": []
  }
 ],
 "metadata": {
  "kernelspec": {
   "display_name": "Python 3 (ipykernel)",
   "language": "python",
   "name": "python3"
  },
  "language_info": {
   "codemirror_mode": {
    "name": "ipython",
    "version": 3
   },
   "file_extension": ".py",
   "mimetype": "text/x-python",
   "name": "python",
   "nbconvert_exporter": "python",
   "pygments_lexer": "ipython3",
   "version": "3.9.15"
  }
 },
 "nbformat": 4,
 "nbformat_minor": 5
}
