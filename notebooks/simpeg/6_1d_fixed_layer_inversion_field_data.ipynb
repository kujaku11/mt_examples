{
 "cells": [
  {
   "cell_type": "code",
   "execution_count": 1,
   "id": "c2c9bb2e",
   "metadata": {},
   "outputs": [],
   "source": [
    "from pathlib import Path\n",
    "import numpy as np\n",
    "\n",
    "from SimPEG.electromagnetics import natural_source as nsem\n",
    "from SimPEG import maps\n",
    "import matplotlib.pyplot as plt\n",
    "import matplotlib\n",
    "import matplotlib.gridspec as gridspec\n",
    "from SimPEG.utils import plot_1d_layer_model\n",
    "from discretize import TensorMesh\n",
    "from SimPEG import (\n",
    "    maps,\n",
    "    data,\n",
    "    data_misfit,\n",
    "    regularization,\n",
    "    optimization,\n",
    "    inverse_problem,\n",
    "    inversion,\n",
    "    directives,\n",
    "    utils,\n",
    ")"
   ]
  },
  {
   "cell_type": "code",
   "execution_count": 2,
   "id": "245e3ff2-23bc-4bb2-9a9f-1c4a2f0fe98c",
   "metadata": {},
   "outputs": [],
   "source": [
    "import SimPEG"
   ]
  },
  {
   "cell_type": "code",
   "execution_count": 3,
   "id": "abc0a768-3ce1-4147-9017-1f16a249bea9",
   "metadata": {},
   "outputs": [
    {
     "data": {
      "text/plain": [
       "'0.20.0'"
      ]
     },
     "execution_count": 3,
     "metadata": {},
     "output_type": "execute_result"
    }
   ],
   "source": [
    "SimPEG.__version__"
   ]
  },
  {
   "cell_type": "code",
   "execution_count": 4,
   "id": "a52008d3",
   "metadata": {},
   "outputs": [
    {
     "data": {
      "application/vnd.jupyter.widget-view+json": {
       "model_id": "4d77a4b6c3e94560a261b0735f97636b",
       "version_major": 2,
       "version_minor": 0
      },
      "text/plain": [
       "interactive(children=(Select(description='name', index=28, options=('SA225_2', 'SA26W2', 'SA274_2', 'SA295', '…"
      ]
     },
     "metadata": {},
     "output_type": "display_data"
    }
   ],
   "source": [
    "from mtpy import MTCollection\n",
    "mc = MTCollection()\n",
    "mc.open_collection(Path(r\"../../data/transfer_functions/musgraves_tf.h5\"))\n",
    "#mc.open_collection(Path(r\"../../../scratch/nm05/jp0633/musgraves_edis/musgraves_tf.h5\"))\n",
    "\n",
    "from ipywidgets import widgets, interact\n",
    "station_names = mc.dataframe.station.values\n",
    "def foo(name, component):\n",
    "    tf = mc.get_tf(name)\n",
    "    tf.plot_mt_response()\n",
    "Q = interact(\n",
    "    foo, \n",
    "    name=widgets.Select(options=station_names, value='SAA300'),\n",
    "    component=widgets.RadioButtons(options=['xy', 'yx', 'det'], value='det')\n",
    ")"
   ]
  },
  {
   "cell_type": "code",
   "execution_count": 5,
   "id": "6b1c4d6c",
   "metadata": {},
   "outputs": [
    {
     "name": "stdout",
     "output_type": "stream",
     "text": [
      "\u001b[33m\u001b[1m23:11:06T15:58:57 | WARNING | line:283 |mtpy.core.mt_collection | get_tf | Found multiple transfer functions with ID SAA300. Suggest setting survey, otherwise returning the TF from survey Musgraves_SA.\u001b[0m\n"
     ]
    },
    {
     "ename": "TypeError",
     "evalue": "Type <class 'numpy.int64'> not understood",
     "output_type": "error",
     "traceback": [
      "\u001b[1;31m---------------------------------------------------------------------------\u001b[0m",
      "\u001b[1;31mTypeError\u001b[0m                                 Traceback (most recent call last)",
      "Cell \u001b[1;32mIn[5], line 3\u001b[0m\n\u001b[0;32m      1\u001b[0m name \u001b[38;5;241m=\u001b[39m Q\u001b[38;5;241m.\u001b[39mwidget\u001b[38;5;241m.\u001b[39mkwargs[\u001b[38;5;124m'\u001b[39m\u001b[38;5;124mname\u001b[39m\u001b[38;5;124m'\u001b[39m]\n\u001b[0;32m      2\u001b[0m component \u001b[38;5;241m=\u001b[39m Q\u001b[38;5;241m.\u001b[39mwidget\u001b[38;5;241m.\u001b[39mkwargs[\u001b[38;5;124m'\u001b[39m\u001b[38;5;124mcomponent\u001b[39m\u001b[38;5;124m'\u001b[39m]\n\u001b[1;32m----> 3\u001b[0m tf \u001b[38;5;241m=\u001b[39m \u001b[43mmc\u001b[49m\u001b[38;5;241;43m.\u001b[39;49m\u001b[43mget_tf\u001b[49m\u001b[43m(\u001b[49m\u001b[43mname\u001b[49m\u001b[43m)\u001b[49m\n\u001b[0;32m      5\u001b[0m fig, ax \u001b[38;5;241m=\u001b[39m plt\u001b[38;5;241m.\u001b[39msubplots(\u001b[38;5;241m1\u001b[39m,\u001b[38;5;241m1\u001b[39m, figsize\u001b[38;5;241m=\u001b[39m(\u001b[38;5;241m5\u001b[39m,\u001b[38;5;241m5\u001b[39m))\n\u001b[0;32m      6\u001b[0m mc\u001b[38;5;241m.\u001b[39mdataframe\u001b[38;5;241m.\u001b[39mplot(x\u001b[38;5;241m=\u001b[39m\u001b[38;5;124m'\u001b[39m\u001b[38;5;124mlongitude\u001b[39m\u001b[38;5;124m'\u001b[39m, y\u001b[38;5;241m=\u001b[39m\u001b[38;5;124m'\u001b[39m\u001b[38;5;124mlatitude\u001b[39m\u001b[38;5;124m'\u001b[39m, marker\u001b[38;5;241m=\u001b[39m\u001b[38;5;124m'\u001b[39m\u001b[38;5;124m.\u001b[39m\u001b[38;5;124m'\u001b[39m, linestyle\u001b[38;5;241m=\u001b[39m\u001b[38;5;124m'\u001b[39m\u001b[38;5;124mNone\u001b[39m\u001b[38;5;124m'\u001b[39m, ax\u001b[38;5;241m=\u001b[39max)\n",
      "File \u001b[1;32m~\\OneDrive - DOI\\Documents\\GitHub\\mtpy-v2\\mtpy\\core\\mt_collection.py:305\u001b[0m, in \u001b[0;36mMTCollection.get_tf\u001b[1;34m(self, tf_id, survey)\u001b[0m\n\u001b[0;32m    302\u001b[0m ref \u001b[38;5;241m=\u001b[39m find_df\u001b[38;5;241m.\u001b[39mhdf5_reference\n\u001b[0;32m    304\u001b[0m mt_object \u001b[38;5;241m=\u001b[39m MT()\n\u001b[1;32m--> 305\u001b[0m tf_object \u001b[38;5;241m=\u001b[39m \u001b[38;5;28;43mself\u001b[39;49m\u001b[38;5;241;43m.\u001b[39;49m\u001b[43mmth5_collection\u001b[49m\u001b[38;5;241;43m.\u001b[39;49m\u001b[43mfrom_reference\u001b[49m\u001b[43m(\u001b[49m\u001b[43mref\u001b[49m\u001b[43m)\u001b[49m\n\u001b[0;32m    307\u001b[0m mt_object\u001b[38;5;241m.\u001b[39m\u001b[38;5;18m__dict__\u001b[39m\u001b[38;5;241m.\u001b[39mupdate(tf_object\u001b[38;5;241m.\u001b[39m\u001b[38;5;18m__dict__\u001b[39m)\n\u001b[0;32m    308\u001b[0m mt_object\u001b[38;5;241m.\u001b[39mstation_metadata\u001b[38;5;241m.\u001b[39mupdate_time_period()\n",
      "File \u001b[1;32m~\\OneDrive - DOI\\Documents\\GitHub\\mth5\\mth5\\mth5.py:868\u001b[0m, in \u001b[0;36mMTH5.from_reference\u001b[1;34m(self, h5_reference)\u001b[0m\n\u001b[0;32m    866\u001b[0m     group \u001b[38;5;241m=\u001b[39m ref_dict[mth5_type](referenced)\n\u001b[0;32m    867\u001b[0m     \u001b[38;5;28;01mif\u001b[39;00m mth5_type \u001b[38;5;241m==\u001b[39m \u001b[38;5;124m\"\u001b[39m\u001b[38;5;124mtransferfunction\u001b[39m\u001b[38;5;124m\"\u001b[39m:\n\u001b[1;32m--> 868\u001b[0m         \u001b[38;5;28;01mreturn\u001b[39;00m \u001b[43mgroup\u001b[49m\u001b[38;5;241;43m.\u001b[39;49m\u001b[43mto_tf_object\u001b[49m\u001b[43m(\u001b[49m\u001b[43m)\u001b[49m\n\u001b[0;32m    869\u001b[0m     \u001b[38;5;28;01mreturn\u001b[39;00m group\n\u001b[0;32m    870\u001b[0m \u001b[38;5;28;01mexcept\u001b[39;00m \u001b[38;5;167;01mKeyError\u001b[39;00m:\n",
      "File \u001b[1;32m~\\OneDrive - DOI\\Documents\\GitHub\\mth5\\mth5\\groups\\transfer_function.py:501\u001b[0m, in \u001b[0;36mTransferFunctionGroup.to_tf_object\u001b[1;34m(self)\u001b[0m\n\u001b[0;32m    499\u001b[0m tf_dict \u001b[38;5;241m=\u001b[39m \u001b[38;5;28mdict\u001b[39m(\u001b[38;5;28mself\u001b[39m\u001b[38;5;241m.\u001b[39mhdf5_group\u001b[38;5;241m.\u001b[39mattrs)\n\u001b[0;32m    500\u001b[0m \u001b[38;5;28;01mfor\u001b[39;00m key, value \u001b[38;5;129;01min\u001b[39;00m tf_dict\u001b[38;5;241m.\u001b[39mitems():\n\u001b[1;32m--> 501\u001b[0m     tf_dict[key] \u001b[38;5;241m=\u001b[39m \u001b[43mfrom_numpy_type\u001b[49m\u001b[43m(\u001b[49m\u001b[43mvalue\u001b[49m\u001b[43m)\u001b[49m\n\u001b[0;32m    502\u001b[0m tf_obj\u001b[38;5;241m.\u001b[39mstation_metadata\u001b[38;5;241m.\u001b[39mtransfer_function\u001b[38;5;241m.\u001b[39mfrom_dict(\n\u001b[0;32m    503\u001b[0m     {\u001b[38;5;124m\"\u001b[39m\u001b[38;5;124mtransfer_function\u001b[39m\u001b[38;5;124m\"\u001b[39m: tf_dict}\n\u001b[0;32m    504\u001b[0m )\n\u001b[0;32m    506\u001b[0m \u001b[38;5;66;03m# add run and channel metadata\u001b[39;00m\n",
      "File \u001b[1;32m~\\OneDrive - DOI\\Documents\\GitHub\\mth5\\mth5\\helpers.py:261\u001b[0m, in \u001b[0;36mfrom_numpy_type\u001b[1;34m(value)\u001b[0m\n\u001b[0;32m    259\u001b[0m         \u001b[38;5;28;01mreturn\u001b[39;00m np\u001b[38;5;241m.\u001b[39marray(value)\u001b[38;5;241m.\u001b[39mtolist()\n\u001b[0;32m    260\u001b[0m \u001b[38;5;28;01melse\u001b[39;00m:\n\u001b[1;32m--> 261\u001b[0m     \u001b[38;5;28;01mraise\u001b[39;00m \u001b[38;5;167;01mTypeError\u001b[39;00m(\u001b[38;5;124m\"\u001b[39m\u001b[38;5;124mType \u001b[39m\u001b[38;5;132;01m{0}\u001b[39;00m\u001b[38;5;124m not understood\u001b[39m\u001b[38;5;124m\"\u001b[39m\u001b[38;5;241m.\u001b[39mformat(\u001b[38;5;28mtype\u001b[39m(value)))\n",
      "\u001b[1;31mTypeError\u001b[0m: Type <class 'numpy.int64'> not understood"
     ]
    }
   ],
   "source": [
    "name = Q.widget.kwargs['name']\n",
    "component = Q.widget.kwargs['component']\n",
    "tf = mc.get_tf(name)\n",
    "\n",
    "fig, ax = plt.subplots(1,1, figsize=(5,5))\n",
    "mc.dataframe.plot(x='longitude', y='latitude', marker='.', linestyle='None', ax=ax)\n",
    "ax.plot(tf.longitude, tf.latitude, 'ro')\n",
    "ax.set_title(name)"
   ]
  },
  {
   "cell_type": "code",
   "execution_count": null,
   "id": "b3a2de3e",
   "metadata": {},
   "outputs": [],
   "source": [
    "if component == 'xy':\n",
    "    print ('>> Use Zxy')\n",
    "    dobs = np.c_[tf.Z.res_xy, tf.Z.phase_xy].flatten()\n",
    "    dobs_error = np.c_[tf.Z.res_error_xy, tf.Z.phase_error_xy].flatten()\n",
    "elif component == 'yx':\n",
    "    print ('>> Use Zyx')\n",
    "    dobs = np.c_[tf.Z.res_yx, tf.Z.phase_yx].flatten()\n",
    "    dobs_error = np.c_[tf.Z.res_error_yx, tf.Z.phase_error_yx].flatten()    \n",
    "elif component == 'det':\n",
    "    print ('>> Use determinant')\n",
    "    dobs = np.c_[tf.Z.res_det, tf.Z.phase_det].flatten()\n",
    "    dobs_error = np.c_[tf.Z.res_error_det, tf.Z.phase_error_det].flatten()    \n",
    "    \n",
    "frequencies = tf.frequency"
   ]
  },
  {
   "cell_type": "code",
   "execution_count": null,
   "id": "a2a162a0",
   "metadata": {},
   "outputs": [],
   "source": [
    "dz = 50\n",
    "n_layer = 31\n",
    "z_factor = 1.2\n",
    "layer_thicknesses_inv = dz*z_factor**np.arange(n_layer-1)[::-1]"
   ]
  },
  {
   "cell_type": "code",
   "execution_count": null,
   "id": "cd72b438",
   "metadata": {},
   "outputs": [],
   "source": [
    "def run_fixed_layer_inversion(\n",
    "    dobs,\n",
    "    standard_deviation,\n",
    "    rho_0,\n",
    "    rho_ref,\n",
    "    maxIter=10,\n",
    "    maxIterCG=30,\n",
    "    alpha_s=1e-10,\n",
    "    alpha_z=1,\n",
    "    beta0_ratio=1,\n",
    "    coolingFactor=2,\n",
    "    coolingRate=1,\n",
    "    chi_factor=1,\n",
    "    use_irls=False,\n",
    "    p_s=2,\n",
    "    p_z=2\n",
    "    \n",
    "):\n",
    "    mesh_inv = TensorMesh([(np.r_[layer_thicknesses_inv, layer_thicknesses_inv[-1]])], \"N\")\n",
    "    receivers_list = [\n",
    "        nsem.receivers.PointNaturalSource(component=\"app_res\"),\n",
    "        nsem.receivers.PointNaturalSource(component=\"phase\"),\n",
    "    ]\n",
    "\n",
    "    source_list = []\n",
    "    for freq in frequencies:\n",
    "        source_list.append(nsem.sources.Planewave(receivers_list, freq))\n",
    "\n",
    "    survey = nsem.survey.Survey(source_list)\n",
    "\n",
    "    sigma_map = maps.ExpMap(nP=len(layer_thicknesses_inv)+1)\n",
    "    simulation = nsem.simulation_1d.Simulation1DRecursive(\n",
    "        survey=survey, \n",
    "        sigmaMap=sigma_map,\n",
    "        thicknesses=layer_thicknesses_inv,\n",
    "    )\n",
    "    # Define the data \n",
    "    data_object = data.Data(survey, dobs=dobs, standard_deviation=standard_deviation)    \n",
    "    \n",
    "    # Initial model\n",
    "    m0 = np.ones(len(layer_thicknesses_inv)+1) * np.log(1./rho_0)\n",
    "    \n",
    "    # Reference model\n",
    "    mref = np.ones(len(layer_thicknesses_inv)+1) * np.log(1./rho_ref)    \n",
    "    \n",
    "    dmis = data_misfit.L2DataMisfit(simulation=simulation, data=data_object)\n",
    "\n",
    "    # Define the regularization (model objective function)\n",
    "    reg = regularization.Sparse(mesh_inv, alpha_s=alpha_s, alpha_x=alpha_z, reference_model=mref, mapping=maps.IdentityMap(mesh_inv))\n",
    "\n",
    "    # Define how the optimization problem is solved. Here we will use an inexact\n",
    "    # Gauss-Newton approach that employs the conjugate gradient solver.\n",
    "    opt = optimization.InexactGaussNewton(maxIter=maxIter, maxIterCG=maxIterCG)\n",
    "\n",
    "    # Define the inverse problem\n",
    "    inv_prob = inverse_problem.BaseInvProblem(dmis, reg, opt)\n",
    "\n",
    "    #######################################################################\n",
    "    # Define Inversion Directives\n",
    "    # ---------------------------\n",
    "    #\n",
    "    # Here we define any directives that are carried out during the inversion. This\n",
    "    # includes the cooling schedule for the trade-off parameter (beta), stopping\n",
    "    # criteria for the inversion and saving inversion results at each iteration.\n",
    "    #\n",
    "\n",
    "    # Defining a starting value for the trade-off parameter (beta) between the data\n",
    "    # misfit and the regularization.\n",
    "    starting_beta = directives.BetaEstimate_ByEig(beta0_ratio=beta0_ratio)\n",
    "\n",
    "    # Set the rate of reduction in trade-off parameter (beta) each time the\n",
    "    # the inverse problem is solved. And set the number of Gauss-Newton iterations\n",
    "    # for each trade-off paramter value.\n",
    "    beta_schedule = directives.BetaSchedule(coolingFactor=coolingFactor, coolingRate=coolingRate)\n",
    "    save_dictionary = directives.SaveOutputDictEveryIteration()\n",
    "    save_dictionary.outDict = {}\n",
    "    # Setting a stopping criteria for the inversion.\n",
    "    target_misfit = directives.TargetMisfit(chifact=chi_factor)\n",
    "    if use_irls:\n",
    "        reg.norms = np.c_[p_s, p_z]\n",
    "        # Reach target misfit for L2 solution, then use IRLS until model stops changing.\n",
    "        # smaller values don't stop\n",
    "        IRLS = directives.Update_IRLS(max_irls_iterations=40, minGNiter=1, f_min_change=1e-5)\n",
    "\n",
    "        # The directives are defined as a list.\n",
    "        directives_list = [\n",
    "            IRLS,\n",
    "            starting_beta,\n",
    "            save_dictionary,\n",
    "        ]\n",
    "    else:\n",
    "        # The directives are defined as a list.\n",
    "        directives_list = [\n",
    "            starting_beta,\n",
    "            beta_schedule,\n",
    "            target_misfit,\n",
    "            save_dictionary\n",
    "        ]\n",
    "\n",
    "    #####################################################################\n",
    "    # Running the Inversion\n",
    "    # ---------------------\n",
    "    #\n",
    "    # To define the inversion object, we need to define the inversion problem and\n",
    "    # the set of directives. We can then run the inversion.\n",
    "    #\n",
    "\n",
    "    # Here we combine the inverse problem and the set of directives\n",
    "    inv = inversion.BaseInversion(inv_prob, directives_list)\n",
    "\n",
    "    # Run the inversion\n",
    "    recovered_model = inv.run(m0)    \n",
    "    \n",
    "    return recovered_model, save_dictionary.outDict"
   ]
  },
  {
   "cell_type": "code",
   "execution_count": null,
   "id": "bf848867",
   "metadata": {},
   "outputs": [],
   "source": [
    "relative_error_rho = 0.05\n",
    "floor_phase = 2.\n",
    "rho_app = dobs.reshape((len(frequencies), 2))[:,0]\n",
    "phase = dobs.reshape((len(frequencies), 2))[:,1]\n",
    "standard_deviation = np.c_[abs(rho_app)*relative_error_rho, np.ones(len(phase))*floor_phase].flatten() \n",
    "# standard_deviation += dobs_error\n",
    "rho_0 = 100\n",
    "rho_ref = 100."
   ]
  },
  {
   "cell_type": "code",
   "execution_count": null,
   "id": "b9aa16dc",
   "metadata": {},
   "outputs": [],
   "source": [
    "recovered_model, output_dict = run_fixed_layer_inversion(\n",
    "    dobs,\n",
    "    standard_deviation,\n",
    "    rho_0,\n",
    "    rho_ref,\n",
    "    maxIter=10,\n",
    "    maxIterCG=30,\n",
    "    alpha_s=1e-10,\n",
    "    alpha_z=1,\n",
    "    beta0_ratio=1,\n",
    "    coolingFactor=2,\n",
    "    coolingRate=1,\n",
    "    chi_factor=1\n",
    ")"
   ]
  },
  {
   "cell_type": "code",
   "execution_count": null,
   "id": "a9dbd8fb",
   "metadata": {},
   "outputs": [],
   "source": [
    "target_misfit = dobs.size / 2.\n",
    "iterations = list(output_dict.keys())\n",
    "n_iteration = len(iterations)\n",
    "phi_ds = np.zeros(n_iteration)\n",
    "phi_ms = np.zeros(n_iteration)\n",
    "betas = np.zeros(n_iteration)\n",
    "for ii, iteration in enumerate(iterations):\n",
    "    phi_ds[ii] = output_dict[iteration]['phi_d']\n",
    "    phi_ms[ii] = output_dict[iteration]['phi_m']\n",
    "    betas[ii] = output_dict[iteration]['beta']"
   ]
  },
  {
   "cell_type": "code",
   "execution_count": null,
   "id": "71877ae3",
   "metadata": {},
   "outputs": [],
   "source": [
    "matplotlib.rcParams['font.size'] = 14\n",
    "def tikhonov_curve(iteration, scale='log'):\n",
    "    fig, ax = plt.subplots(1,1, figsize=(5,5))\n",
    "    ax.plot(phi_ms, phi_ds)\n",
    "    ax.plot(phi_ms[iteration-1], phi_ds[iteration-1], 'ro')\n",
    "    ax.set_xlabel(\"$\\phi_m$\")\n",
    "    ax.set_ylabel(\"$\\phi_d$\")\n",
    "    if scale == 'log':\n",
    "        ax.set_xscale('log')\n",
    "        ax.set_yscale('log')\n",
    "    xlim = ax.get_xlim()\n",
    "    ax.plot(xlim, np.ones(2) * target_misfit, '--')\n",
    "    ax.set_title(\"Iteration={:d}, Beta = {:.1e}\".format(iteration, betas[iteration-1]))\n",
    "    ax.set_xlim(xlim)\n",
    "    plt.show()"
   ]
  },
  {
   "cell_type": "code",
   "execution_count": null,
   "id": "3d460e0e",
   "metadata": {},
   "outputs": [],
   "source": [
    "from ipywidgets import interact, widgets\n",
    "Q_iter = interact(\n",
    "    tikhonov_curve, \n",
    "    iteration=widgets.IntSlider(min=1, max=int(n_iteration), value=n_iteration),\n",
    "    scale=widgets.RadioButtons(options=['linear', 'log'])\n",
    ")"
   ]
  },
  {
   "cell_type": "code",
   "execution_count": null,
   "id": "3d71d534",
   "metadata": {},
   "outputs": [],
   "source": [
    "iteration = Q_iter.widget.kwargs['iteration']\n",
    "dpred = output_dict[iteration]['dpred']\n",
    "m = output_dict[iteration]['m']\n",
    "fig = plt.figure(figsize=(16, 5))\n",
    "gs = gridspec.GridSpec(1, 5, figure=fig)\n",
    "\n",
    "ax0 = fig.add_subplot(gs[0, 0])\n",
    "plot_1d_layer_model(\n",
    "    layer_thicknesses_inv[::-1],\n",
    "    (1./(np.exp(m)))[::-1],\n",
    "    ax=ax0,\n",
    "    color=\"k\",**{'linestyle':'-'},\n",
    ")\n",
    "# ax0.legend()\n",
    "ax0.set_xlabel(\"Resistivity ($\\Omega$m)\")\n",
    "# ax0.set_xlim(1, 1e4)\n",
    "\n",
    "ax = fig.add_subplot(gs[0, 2:])\n",
    "ax.loglog(1./frequencies, dobs.reshape((len(frequencies), 2))[:,0], 'x', color='C0', label='Obs.-AppRho.')\n",
    "ax.loglog(1./frequencies, dpred.reshape((len(frequencies), 2))[:,0], color='C0', label='Pred.-AppRho.')\n",
    "\n",
    "ax_1 = ax.twinx()\n",
    "ax_1.plot(1./frequencies, dobs.reshape((len(frequencies), 2))[:,1], 'x', color='C1', label='Obs.-Pha.')\n",
    "ax_1.plot(1./frequencies, dpred.reshape((len(frequencies), 2))[:,1], color='C1', label='Pred.-Pha.')\n",
    "ax.set_xlabel(\"Period (s)\")\n",
    "ax.grid(True, which='both', alpha=0.5)\n",
    "ax.set_ylabel(\"Apparent resistivity ($\\Omega$m)\")\n",
    "ax_1.set_ylabel(\"Phase ($\\degree$)\")\n",
    "# ax.legend(bbox_to_anchor=(1.1,1))\n",
    "ax.legend(loc=2)\n",
    "ax_1.legend(loc=1)\n",
    "ax.set_ylim(1, 10000)\n",
    "ax_1.set_ylim(0, 90)    \n",
    "ax0.set_xlim(1, 10000)\n",
    "plt.show()"
   ]
  },
  {
   "cell_type": "markdown",
   "id": "82c473b4",
   "metadata": {},
   "source": [
    "## Plot using `MTpy`?"
   ]
  },
  {
   "cell_type": "code",
   "execution_count": null,
   "id": "d764e3bc",
   "metadata": {},
   "outputs": [],
   "source": [
    "from mtpy import MT\n",
    "from mtpy.core.z import Z\n",
    "n_freq = len(frequencies)\n",
    "app_rho_matrix = np.zeros((n_freq, 2, 2), dtype=float)\n",
    "phase_matrix = np.zeros((n_freq, 2, 2), dtype=float)\n",
    "app_rho_matrix[:,0,1] = dpred.reshape((len(frequencies), 2))[:,0]\n",
    "app_rho_matrix[:,1,0] = dpred.reshape((len(frequencies), 2))[:,0]\n",
    "phase_matrix[:,0,1] = dpred.reshape((len(frequencies), 2))[:,1]\n",
    "phase_matrix[:,1,0] = dpred.reshape((len(frequencies), 2))[:,1]-180\n",
    "# or add apparent resistivity and phase\n",
    "z_object = Z()\n",
    "z_object.set_resistivity_phase(app_rho_matrix, phase_matrix, frequencies)\n",
    "\n",
    "tf_pred = MT()  \n",
    "tf_pred.Z = z_object\n",
    "\n",
    "tf_pred.survey_metadata.id = tf.survey_metadata.id\n",
    "tf_pred.station_metadata.id = 'ynp05s_pred'\n",
    "tf_pred.station_metadata.transfer_function.id = 'ynp05s_pred'\n",
    "# if this is 2D maybe we need a location\n",
    "tf_pred.station_metadata.location.latitude = tf.station_metadata.location.latitude \n",
    "tf_pred.station_metadata.location.longitude = tf.station_metadata.location.longitude\n",
    "mc.add_tf(tf_pred)"
   ]
  },
  {
   "cell_type": "code",
   "execution_count": null,
   "id": "bbc2cb0e",
   "metadata": {},
   "outputs": [],
   "source": [
    "mc.plot_mt_response(['YNP05S', 'ynp05s_pred'], plot_style=\"compare\", plot_tipper='n')"
   ]
  },
  {
   "cell_type": "code",
   "execution_count": null,
   "id": "c5dd7f3b",
   "metadata": {},
   "outputs": [],
   "source": [
    "recovered_model_ps_2_pz_0, output_dict_ps_2_pz_0 = run_fixed_layer_inversion(\n",
    "    dobs,\n",
    "    standard_deviation,\n",
    "    rho_0,\n",
    "    rho_ref,\n",
    "    maxIter=40,\n",
    "    maxIterCG=30,\n",
    "    alpha_s=1e-10,\n",
    "    alpha_z=1,\n",
    "    beta0_ratio=1,\n",
    "    coolingFactor=2,\n",
    "    coolingRate=1,\n",
    "    chi_factor=1,\n",
    "    use_irls=True,\n",
    "    p_s=2,\n",
    "    p_z=0\n",
    ")"
   ]
  },
  {
   "cell_type": "code",
   "execution_count": null,
   "id": "fff8bd32",
   "metadata": {},
   "outputs": [],
   "source": [
    "recovered_model_ps_0_pz_0, output_dict_ps_0_pz_0 = run_fixed_layer_inversion(\n",
    "    dobs,\n",
    "    standard_deviation,\n",
    "    rho_0,\n",
    "    rho_ref,\n",
    "    maxIter=40,\n",
    "    maxIterCG=30,\n",
    "    alpha_s=1,\n",
    "    alpha_z=1,\n",
    "    beta0_ratio=1,\n",
    "    coolingFactor=2,\n",
    "    coolingRate=1,\n",
    "    chi_factor=1,\n",
    "    use_irls=True,\n",
    "    p_s=0,\n",
    "    p_z=0\n",
    ")"
   ]
  },
  {
   "cell_type": "code",
   "execution_count": null,
   "id": "8dc569d3",
   "metadata": {},
   "outputs": [],
   "source": [
    "matplotlib.rcParams['font.size'] = 12\n",
    "fig, axs = plt.subplots(1,3, figsize=(8, 5))\n",
    "ax1, ax2, ax3 = axs\n",
    "plot_1d_layer_model(\n",
    "    layer_thicknesses_inv[::-1],\n",
    "    (1./(np.exp(recovered_model)))[::-1],\n",
    "    ax=ax1,\n",
    "    color=\"k\",**{'linestyle':'-'},\n",
    ")\n",
    "\n",
    "plot_1d_layer_model(\n",
    "    layer_thicknesses_inv[::-1],\n",
    "    (1./(np.exp(recovered_model_ps_2_pz_0)))[::-1],\n",
    "    ax=ax2,\n",
    "    color=\"k\",**{'linestyle':'-'},\n",
    ")\n",
    "\n",
    "plot_1d_layer_model(\n",
    "    layer_thicknesses_inv[::-1],\n",
    "    (1./(np.exp(recovered_model_ps_0_pz_0)))[::-1],\n",
    "    ax=ax3,\n",
    "    color=\"k\",**{'linestyle':'-'},\n",
    ")\n",
    "titles = [\"Smooth\", \"Sharp\", \"Sharp+Compact\"]\n",
    "for ii, ax in enumerate(axs):\n",
    "    ax.set_xlabel(\"Resistivity ($\\Omega$m)\")\n",
    "    if ii>0:\n",
    "        ax.set_yticklabels([])\n",
    "        ax.set_ylabel(\"\")\n",
    "    ax.set_title(titles[ii])\n",
    "    ax.set_xlim(1, 1000)\n",
    "plt.tight_layout()"
   ]
  },
  {
   "cell_type": "code",
   "execution_count": 6,
   "id": "ea7204ca",
   "metadata": {},
   "outputs": [
    {
     "name": "stdout",
     "output_type": "stream",
     "text": [
      "\u001b[31m\u001b[1m23:11:06T15:59:24 | ERROR | line:230 |mth5.tables.mth5_table | add_row | Data types are not equal. Input dtypes: [('survey', 'S30'), ('station', 'S30'), ('run', 'S20'), ('latitude', '<f8'), ('longitude', '<f8'), ('elevation', '<f8'), ('component', 'S20'), ('start', 'S36'), ('end', 'S36'), ('n_samples', '<i4'), ('sample_rate', '<f8'), ('measurement_type', 'S30'), ('azimuth', '<f8'), ('tilt', '<f8'), ('units', 'S60'), ('hdf5_reference', 'O'), ('run_hdf5_reference', 'O'), ('station_hdf5_reference', 'O')] Table dtypes: [('survey', 'S30'), ('station', 'S30'), ('run', 'S20'), ('latitude', '<f8'), ('longitude', '<f8'), ('elevation', '<f8'), ('component', 'S20'), ('start', 'S36'), ('end', 'S36'), ('n_samples', '<i8'), ('sample_rate', '<f8'), ('measurement_type', 'S30'), ('azimuth', '<f8'), ('tilt', '<f8'), ('units', 'S60'), ('hdf5_reference', 'O'), ('run_hdf5_reference', 'O'), ('station_hdf5_reference', 'O')]\u001b[0m\n",
      "\u001b[1m23:11:06T15:59:24 | INFO | line:116 |mth5.helpers | close_open_files | ..\\..\\data\\transfer_functions\\musgraves_tf.h5, Closed File\u001b[0m\n"
     ]
    }
   ],
   "source": [
    "mc.close_collection()"
   ]
  },
  {
   "cell_type": "code",
   "execution_count": null,
   "id": "b9d60d4e-0c75-449f-83dd-6643154e3135",
   "metadata": {},
   "outputs": [],
   "source": []
  }
 ],
 "metadata": {
  "kernelspec": {
   "display_name": "Python 3 (ipykernel)",
   "language": "python",
   "name": "python3"
  },
  "language_info": {
   "codemirror_mode": {
    "name": "ipython",
    "version": 3
   },
   "file_extension": ".py",
   "mimetype": "text/x-python",
   "name": "python",
   "nbconvert_exporter": "python",
   "pygments_lexer": "ipython3",
   "version": "3.10.13"
  }
 },
 "nbformat": 4,
 "nbformat_minor": 5
}
