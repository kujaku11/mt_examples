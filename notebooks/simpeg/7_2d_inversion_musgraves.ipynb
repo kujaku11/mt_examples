{
 "cells": [
  {
   "cell_type": "markdown",
   "id": "50a5b9d2",
   "metadata": {
    "iooxa": {
     "id": {
      "block": "POo5Xko96YBlOmmEgRhw",
      "project": "BZ9XlZu3TFKIem4fwsfm",
      "version": 1
     },
     "outputId": null
    }
   },
   "source": [
    "# 2D MT inversion\n",
    "\n",
    "We created synthetic data for a simple 2D model in the previous example.  Now let's invert it and test various parameters.\n",
    "\n",
    "## Learning goals\n",
    "\n",
    "- Understand the impact of frequencies (start from a couple of frequencies, and more)\n",
    "- Understand the impact of station spacing\n",
    "- Understand the impact of `alpha_s`, `alpha_x`, `alpha_y`\n",
    "- Understand the impact of `p_s`, `p_y`, `p_z`"
   ]
  },
  {
   "cell_type": "markdown",
   "id": "947b3694-72db-40a2-b390-7841d5472832",
   "metadata": {},
   "source": [
    "## Imports"
   ]
  },
  {
   "cell_type": "code",
   "execution_count": 1,
   "id": "ecd430f1",
   "metadata": {},
   "outputs": [],
   "source": [
    "import scipy.sparse as sp\n",
    "import numpy as np\n",
    "\n",
    "from scipy.constants import mu_0\n",
    "\n",
    "import matplotlib.pyplot as plt\n",
    "import matplotlib.patheffects as pe\n",
    "\n",
    "from discretize.tests import check_derivative\n",
    "import discretize\n",
    "import discretize.utils as dis_utils\n",
    "from discretize import TensorMesh\n",
    "\n",
    "from SimPEG.electromagnetics import natural_source as nsem\n",
    "from SimPEG.electromagnetics.static import utils as sutils\n",
    "from SimPEG import (\n",
    "    maps, utils, optimization, objective_function, inversion, inverse_problem, directives,\n",
    "    data_misfit, regularization, data\n",
    ")\n",
    "\n",
    "from pymatsolver import Pardiso\n",
    "from scipy.spatial import cKDTree\n",
    "from scipy.stats import norm\n",
    "\n",
    "from geoana.em.fdem import skin_depth\n",
    "\n",
    "import warnings\n",
    "warnings.filterwarnings(\"ignore\")"
   ]
  },
  {
   "cell_type": "markdown",
   "id": "e865cec5-e343-415a-b85b-b7a97829a636",
   "metadata": {},
   "source": [
    "## Load Data from MTH5\n",
    "\n",
    "We created synthetic data and saved it to an MTH5 file now lets retrieve the data."
   ]
  },
  {
   "cell_type": "code",
   "execution_count": 5,
   "id": "5bc55f78-aea6-40a2-96c1-a67351d11210",
   "metadata": {},
   "outputs": [],
   "source": [
    "from pathlib import Path\n",
    "from mtpy import MTCollection"
   ]
  },
  {
   "cell_type": "code",
   "execution_count": 6,
   "id": "37ef6501-08f2-48b6-86ec-882152fef71b",
   "metadata": {},
   "outputs": [
    {
     "name": "stdout",
     "output_type": "stream",
     "text": [
      "\u001b[31m\u001b[1m23:11:17T15:31:32 | ERROR | line:230 |mth5.tables.mth5_table | add_row | Data types are not equal. Input dtypes: [('survey', 'S30'), ('station', 'S30'), ('run', 'S20'), ('latitude', '<f8'), ('longitude', '<f8'), ('elevation', '<f8'), ('component', 'S20'), ('start', 'S36'), ('end', 'S36'), ('n_samples', '<i4'), ('sample_rate', '<f8'), ('measurement_type', 'S30'), ('azimuth', '<f8'), ('tilt', '<f8'), ('units', 'S60'), ('hdf5_reference', 'O'), ('run_hdf5_reference', 'O'), ('station_hdf5_reference', 'O')] Table dtypes: [('survey', 'S30'), ('station', 'S30'), ('run', 'S20'), ('latitude', '<f8'), ('longitude', '<f8'), ('elevation', '<f8'), ('component', 'S20'), ('start', 'S36'), ('end', 'S36'), ('n_samples', '<i8'), ('sample_rate', '<f8'), ('measurement_type', 'S30'), ('azimuth', '<f8'), ('tilt', '<f8'), ('units', 'S60'), ('hdf5_reference', 'O'), ('run_hdf5_reference', 'O'), ('station_hdf5_reference', 'O')]\u001b[0m\n",
      "\u001b[1m23:11:17T15:31:32 | INFO | line:116 |mth5.helpers | close_open_files | ..\\..\\data\\transfer_functions\\musgraves_tf.h5, Closed File\u001b[0m\n",
      "CPU times: total: 46.4 s\n",
      "Wall time: 46.6 s\n"
     ]
    }
   ],
   "source": [
    "%%time\n",
    "with MTCollection() as mc:\n",
    "    #mc.open_collection(Path('../../../home/005/jp0633/mt_examples/notebooks/simpeg/2d_forward_mth5.h5'))\n",
    "    mc.open_collection(Path('../../data/transfer_functions/musgraves_tf.h5'))\n",
    "    mt_data = mc.to_mt_data()\n",
    "    mt_data.utm_crs = 28353\n",
    "    profile_mt_data = mt_data.get_profile(129, -27, 134, -27, 8000)"
   ]
  },
  {
   "cell_type": "markdown",
   "id": "0cc54c8c-004b-463a-b4e1-73cee985ebf8",
   "metadata": {},
   "source": [
    "##### Make a Dataframe"
   ]
  },
  {
   "cell_type": "code",
   "execution_count": 18,
   "id": "e57f5e8c-d438-4b6e-8591-2ac56a559232",
   "metadata": {},
   "outputs": [
    {
     "data": {
      "text/plain": [
       "MTData([('Musgraves_SA.SAA300',\n",
       "         TF( survey='Musgraves_SA', station='SAA300', latitude=-26.95, longitude=129.93, elevation=563.00 )),\n",
       "        ('Musgraves_SA.SAA300_pred',\n",
       "         TF( survey='Musgraves_SA', station='SAA300_pred', latitude=-26.95, longitude=129.93, elevation=0.00 )),\n",
       "        ('Musgraves_SA.SAA299',\n",
       "         TF( survey='Musgraves_SA', station='SAA299', latitude=-27.00, longitude=130.43, elevation=512.00 )),\n",
       "        ('Musgraves_SA.SAA301',\n",
       "         TF( survey='Musgraves_SA', station='SAA301', latitude=-27.00, longitude=129.50, elevation=517.00 )),\n",
       "        ('Musgraves_SA.SAA298',\n",
       "         TF( survey='Musgraves_SA', station='SAA298', latitude=-27.00, longitude=131.01, elevation=527.00 )),\n",
       "        ('Musgraves_SA.SAA297',\n",
       "         TF( survey='Musgraves_SA', station='SAA297', latitude=-27.00, longitude=131.50, elevation=554.00 )),\n",
       "        ('Musgraves_SA.SAA296',\n",
       "         TF( survey='Musgraves_SA', station='SAA296', latitude=-27.00, longitude=131.97, elevation=499.00 )),\n",
       "        ('Musgraves_SA.SA295',\n",
       "         TF( survey='Musgraves_SA', station='SA295', latitude=-26.99, longitude=132.51, elevation=564.00 )),\n",
       "        ('Musgraves_SA.SAA294',\n",
       "         TF( survey='Musgraves_SA', station='SAA294', latitude=-26.95, longitude=133.00, elevation=462.00 )),\n",
       "        ('Musgraves_SA.SAA293-2',\n",
       "         TF( survey='Musgraves_SA', station='SAA293-2', latitude=-26.96, longitude=133.47, elevation=375.00 ))])"
      ]
     },
     "execution_count": 18,
     "metadata": {},
     "output_type": "execute_result"
    }
   ],
   "source": [
    "profile_mt_data"
   ]
  },
  {
   "cell_type": "code",
   "execution_count": 24,
   "id": "1fca83da-1930-4ac0-b6f5-2751dd539a30",
   "metadata": {},
   "outputs": [],
   "source": [
    "profile_mt_data.remove_station(\"SAA300_pred\", \"Musgraves_SA\")"
   ]
  },
  {
   "cell_type": "code",
   "execution_count": 25,
   "id": "57d34d77-fc9e-49e1-ab62-1a5e6e68b411",
   "metadata": {},
   "outputs": [],
   "source": [
    "mt_df = profile_mt_data.to_dataframe()\n",
    "mt_df = mt_df.sort_values([\"profile_offset\", \"period\"])"
   ]
  },
  {
   "cell_type": "code",
   "execution_count": 26,
   "id": "1d60b16f-b140-40f1-987f-c36bc7afe371",
   "metadata": {},
   "outputs": [
    {
     "data": {
      "text/html": [
       "<div>\n",
       "<style scoped>\n",
       "    .dataframe tbody tr th:only-of-type {\n",
       "        vertical-align: middle;\n",
       "    }\n",
       "\n",
       "    .dataframe tbody tr th {\n",
       "        vertical-align: top;\n",
       "    }\n",
       "\n",
       "    .dataframe thead th {\n",
       "        text-align: right;\n",
       "    }\n",
       "</style>\n",
       "<table border=\"1\" class=\"dataframe\">\n",
       "  <thead>\n",
       "    <tr style=\"text-align: right;\">\n",
       "      <th></th>\n",
       "      <th>survey</th>\n",
       "      <th>station</th>\n",
       "      <th>profile_offset</th>\n",
       "      <th>period</th>\n",
       "    </tr>\n",
       "  </thead>\n",
       "  <tbody>\n",
       "    <tr>\n",
       "      <th>0</th>\n",
       "      <td>Musgraves_SA</td>\n",
       "      <td>SAA300</td>\n",
       "      <td>0.00000</td>\n",
       "      <td>8.000000</td>\n",
       "    </tr>\n",
       "    <tr>\n",
       "      <th>1</th>\n",
       "      <td>Musgraves_SA</td>\n",
       "      <td>SAA300</td>\n",
       "      <td>0.00000</td>\n",
       "      <td>10.666667</td>\n",
       "    </tr>\n",
       "    <tr>\n",
       "      <th>2</th>\n",
       "      <td>Musgraves_SA</td>\n",
       "      <td>SAA300</td>\n",
       "      <td>0.00000</td>\n",
       "      <td>16.000000</td>\n",
       "    </tr>\n",
       "    <tr>\n",
       "      <th>3</th>\n",
       "      <td>Musgraves_SA</td>\n",
       "      <td>SAA300</td>\n",
       "      <td>0.00000</td>\n",
       "      <td>21.333333</td>\n",
       "    </tr>\n",
       "    <tr>\n",
       "      <th>4</th>\n",
       "      <td>Musgraves_SA</td>\n",
       "      <td>SAA300</td>\n",
       "      <td>0.00000</td>\n",
       "      <td>32.000000</td>\n",
       "    </tr>\n",
       "    <tr>\n",
       "      <th>...</th>\n",
       "      <td>...</td>\n",
       "      <td>...</td>\n",
       "      <td>...</td>\n",
       "      <td>...</td>\n",
       "    </tr>\n",
       "    <tr>\n",
       "      <th>202</th>\n",
       "      <td>Musgraves_SA</td>\n",
       "      <td>SAA293-2</td>\n",
       "      <td>344424.85505</td>\n",
       "      <td>4096.010486</td>\n",
       "    </tr>\n",
       "    <tr>\n",
       "      <th>203</th>\n",
       "      <td>Musgraves_SA</td>\n",
       "      <td>SAA293-2</td>\n",
       "      <td>344424.85505</td>\n",
       "      <td>5461.198187</td>\n",
       "    </tr>\n",
       "    <tr>\n",
       "      <th>204</th>\n",
       "      <td>Musgraves_SA</td>\n",
       "      <td>SAA293-2</td>\n",
       "      <td>344424.85505</td>\n",
       "      <td>8192.020972</td>\n",
       "    </tr>\n",
       "    <tr>\n",
       "      <th>205</th>\n",
       "      <td>Musgraves_SA</td>\n",
       "      <td>SAA293-2</td>\n",
       "      <td>344424.85505</td>\n",
       "      <td>10922.634976</td>\n",
       "    </tr>\n",
       "    <tr>\n",
       "      <th>206</th>\n",
       "      <td>Musgraves_SA</td>\n",
       "      <td>SAA293-2</td>\n",
       "      <td>344424.85505</td>\n",
       "      <td>16384.041943</td>\n",
       "    </tr>\n",
       "  </tbody>\n",
       "</table>\n",
       "<p>207 rows × 4 columns</p>\n",
       "</div>"
      ],
      "text/plain": [
       "           survey   station  profile_offset        period\n",
       "0    Musgraves_SA    SAA300         0.00000      8.000000\n",
       "1    Musgraves_SA    SAA300         0.00000     10.666667\n",
       "2    Musgraves_SA    SAA300         0.00000     16.000000\n",
       "3    Musgraves_SA    SAA300         0.00000     21.333333\n",
       "4    Musgraves_SA    SAA300         0.00000     32.000000\n",
       "..            ...       ...             ...           ...\n",
       "202  Musgraves_SA  SAA293-2    344424.85505   4096.010486\n",
       "203  Musgraves_SA  SAA293-2    344424.85505   5461.198187\n",
       "204  Musgraves_SA  SAA293-2    344424.85505   8192.020972\n",
       "205  Musgraves_SA  SAA293-2    344424.85505  10922.634976\n",
       "206  Musgraves_SA  SAA293-2    344424.85505  16384.041943\n",
       "\n",
       "[207 rows x 4 columns]"
      ]
     },
     "execution_count": 26,
     "metadata": {},
     "output_type": "execute_result"
    }
   ],
   "source": [
    "mt_df[[\"survey\", \"station\", \"profile_offset\", \"period\"]]"
   ]
  },
  {
   "cell_type": "markdown",
   "id": "39fd2309-287e-4c3a-96d8-5d927f41ec90",
   "metadata": {},
   "source": [
    "##### Put data into format wanted by SimPEG"
   ]
  },
  {
   "cell_type": "code",
   "execution_count": 28,
   "id": "12f2b5ff-3609-423d-ab8f-b70e758d3606",
   "metadata": {},
   "outputs": [],
   "source": [
    "n_stations = mt_df.station.unique().size\n",
    "\n",
    "# make a station array (x, z)\n",
    "rx_locs = np.c_[mt_df.profile_offset.unique(), np.zeros(n_stations)]\n",
    "\n",
    "frequencies = 1./mt_df.period.unique()\n",
    "\n",
    "app_rho_te = np.zeros((frequencies.size, rx_locs.shape[0]))\n",
    "app_rho_tm = np.zeros((frequencies.size, rx_locs.shape[0]))\n",
    "phase_te = np.zeros((frequencies.size, rx_locs.shape[0]))\n",
    "phase_tm = np.zeros((frequencies.size, rx_locs.shape[0]))\n",
    "for index, station in enumerate(mt_df.station.unique()):\n",
    "    sdf = mt_df[mt_df.station == station]\n",
    "    sdf.sort_values(\"period\")\n",
    "    app_rho_te[:, index] = sdf.res_xy\n",
    "    app_rho_tm[:, index] = sdf.res_yx\n",
    "    phase_te[:, index] = sdf.phase_xy\n",
    "    phase_tm[:, index] = sdf.phase_yx\n",
    "    "
   ]
  },
  {
   "cell_type": "markdown",
   "id": "fdb5728b-a133-4a08-8883-0e21681d6db3",
   "metadata": {},
   "source": [
    "## Model Errors\n",
    "\n",
    "Here we can set the data errors telling the inversion code how well to fit each point.  \n",
    "\n",
    " - **Apparent resistivity** is often a percentage.\n",
    " - **Phase** is usually a set value in degrees."
   ]
  },
  {
   "cell_type": "code",
   "execution_count": 29,
   "id": "56d91349-c916-4ab5-93bc-2eec273bd0ac",
   "metadata": {
    "iooxa": {
     "id": {
      "block": "xSsHEuDc1xiba098wWvR",
      "project": "BZ9XlZu3TFKIem4fwsfm",
      "version": 1
     },
     "outputId": null
    }
   },
   "outputs": [],
   "source": [
    "relative_error =  0.05\n",
    "floor_error = 2\n",
    "\n",
    "app_rho_err_tm = abs(app_rho_tm) * relative_error\n",
    "app_rho_err_te = abs (app_rho_te) * relative_error\n",
    "phase_err_tm = np.ones_like(phase_tm) * floor_error\n",
    "phase_err_te = np.ones_like(phase_te) * floor_error"
   ]
  },
  {
   "cell_type": "markdown",
   "id": "381ef6fd-7656-4eac-bcde-9ba84ee2d07e",
   "metadata": {},
   "source": [
    "## Inversion parameters"
   ]
  },
  {
   "cell_type": "code",
   "execution_count": 30,
   "id": "e4f3ee9d-19e0-45b4-a87f-4060fb7a4b39",
   "metadata": {
    "iooxa": {
     "id": {
      "block": "xSsHEuDc1xiba098wWvR",
      "project": "BZ9XlZu3TFKIem4fwsfm",
      "version": 1
     },
     "outputId": null
    }
   },
   "outputs": [],
   "source": [
    "alpha_s = 1e-5     # set how threshold to change model\n",
    "alpha_y = 1/5.     # \n",
    "alpha_z = 1.       # \n",
    "rho_0 = 500.       # starting resistivity\n",
    "maxIter = 30       # maximum number of iterations\n",
    "use_irls = False   # use iterative least-squares\n",
    "p_s=2              # smoothing (norm)\n",
    "p_y=0              # smoothing (norm)\n",
    "p_z=0              # smoothing (norm)"
   ]
  },
  {
   "cell_type": "markdown",
   "id": "e53e6551-6cc7-4cf9-b234-38a1a0b70717",
   "metadata": {},
   "source": [
    "## Create Model Mesh"
   ]
  },
  {
   "cell_type": "code",
   "execution_count": 31,
   "id": "3a234779-5822-408c-8a10-f0bae2d55062",
   "metadata": {
    "tags": []
   },
   "outputs": [],
   "source": [
    "def generate_2d_mesh_for_mt(\n",
    "    rx_locs,            # station locations\n",
    "    frequencies,        # frequencies to invert \n",
    "    sigma_background,   # background conductivity\n",
    "    z_factor_max=5,     # maximum factor in vertical direction (factor of skin depth)  \n",
    "    z_factor_min=5,     # minimum factor in vertical direction (factor of skin depth)\n",
    "    pfz_down = 1.2,     # geometric factor for increasing cell size in subsurface\n",
    "    pfz_up = 1.5,       # geometric factor for increasing cell size in air\n",
    "    npadz_up = 5,       # number of air cells\n",
    "    x_factor_max = 2,   # maximum factor in horizontal direction\n",
    "    spacing_factor = 4, # number of cells between stations\n",
    "    pfx = 1.5,          # geometric factor for increasing cell size in horizontal direction\n",
    "    n_max=1000          # maximum number of vertical cells\n",
    "):\n",
    "    # get minimum cell size (first layer thickness)\n",
    "    dz_min = np.round(skin_depth(frequencies.max(), sigma_background) / z_factor_max) \n",
    "    lz = skin_depth(sigma_background, frequencies.min()) * z_factor_max\n",
    "    \n",
    "    # Setting the domain length in subsurface\n",
    "    for nz_down in range(n_max):\n",
    "        hz_down = dz_min*pfz_down**np.arange(nz_down)[::-1]\n",
    "        if hz_down.sum() > lz:\n",
    "            break\n",
    "    # create air layers\n",
    "    hz_up = [(dz_min, npadz_up, pfz_up)]\n",
    "    hz_up = dis_utils.unpack_widths(hz_up)\n",
    "    \n",
    "    # combine air and subsurface\n",
    "    hz = np.r_[hz_down, hz_up]\n",
    "    \n",
    "    # Setting the cells in lateral dimension\n",
    "    # station spacing\n",
    "    d_station = np.diff(rx_locs[:,0]).min()\n",
    "    # minimum cell width\n",
    "    dx_min = np.round(d_station/spacing_factor)\n",
    "    # survey span\n",
    "    lx = rx_locs[:,0].max() - rx_locs[:,0].min()\n",
    "    ncx = int(lx / dx_min)\n",
    "    \n",
    "    # make padding cells\n",
    "    lx_pad = skin_depth(sigma_background, frequencies.min()) * x_factor_max\n",
    "    for npadx in range(n_max):\n",
    "        hx_pad = dis_utils.unpack_widths([(dx_min, npadx, -pfx)])\n",
    "        if hx_pad.sum()>lx_pad:\n",
    "            break\n",
    "    # combine paddin cells with station area cells\n",
    "    hx = [(dx_min, npadx, -pfx), (dx_min, ncx), (dx_min, npadx, pfx)]  \n",
    "    \n",
    "    # make a discretize.TensorMesh object\n",
    "    mesh = discretize.TensorMesh([hx, hz])\n",
    "    \n",
    "    # get the lower left corner of the mesh, the origin\n",
    "    mesh.origin = np.r_[-mesh.h[0][:npadx].sum()+rx_locs[:,0].min(), -hz_down.sum()]   \n",
    "    \n",
    "    print (mesh)\n",
    "    return mesh"
   ]
  },
  {
   "cell_type": "code",
   "execution_count": 32,
   "id": "5eb1fe58-d139-4e62-b32c-119833e83a0f",
   "metadata": {
    "editable": true,
    "slideshow": {
     "slide_type": ""
    },
    "tags": []
   },
   "outputs": [
    {
     "name": "stdout",
     "output_type": "stream",
     "text": [
      "\n",
      "  TensorMesh: 87,500 cells\n",
      "\n",
      "                      MESH EXTENT             CELL WIDTH      FACTOR\n",
      "  dir    nC        min           max         min       max      max\n",
      "  ---   ---  ---------------------------  ------------------  ------\n",
      "   x   2500 -1,396,187.83  1,740,587.83    140.00 465,535.94    1.50\n",
      "   y     35 -3,364,816.83     56,317.22  2,847.00 563,175.30    1.50\n",
      "\n",
      "\n"
     ]
    }
   ],
   "source": [
    "mesh = generate_2d_mesh_for_mt(rx_locs, frequencies, 1e-2)\n",
    "ind_active = mesh.cell_centers[:,1]<0."
   ]
  },
  {
   "cell_type": "code",
   "execution_count": 34,
   "id": "81f6976c-4b55-4b6a-a189-9d5ef58708a8",
   "metadata": {},
   "outputs": [
    {
     "data": {
      "text/plain": [
       "<Axes: xlabel='x1', ylabel='x2'>"
      ]
     },
     "execution_count": 34,
     "metadata": {},
     "output_type": "execute_result"
    },
    {
     "data": {
      "image/png": "[encoded data removed]",
      "text/plain": [
       "<Figure size 640x480 with 1 Axes>"
      ]
     },
     "metadata": {},
     "output_type": "display_data"
    }
   ],
   "source": [
    "mesh.plot_grid()"
   ]
  },
  {
   "cell_type": "markdown",
   "id": "eede5283-8f37-45df-a445-cf0e777b77f8",
   "metadata": {},
   "source": [
    "## Create Sources and Receivers"
   ]
  },
  {
   "cell_type": "code",
   "execution_count": 35,
   "id": "a21d3b29",
   "metadata": {
    "iooxa": {
     "id": {
      "block": "BMoZiVPj2FxcaczVrf2x",
      "project": "BZ9XlZu3TFKIem4fwsfm",
      "version": 1
     },
     "outputId": null
    }
   },
   "outputs": [],
   "source": [
    "# simulation class for TM mode\n",
    "rx_list_tm = [\n",
    "    nsem.receivers.PointNaturalSource(\n",
    "        rx_locs, orientation=\"xy\", component=\"apparent_resistivity\"\n",
    "    ),\n",
    "    nsem.receivers.PointNaturalSource(\n",
    "        rx_locs, orientation=\"xy\", component=\"phase\"\n",
    "    ),\n",
    "]\n",
    "src_list_tm = [nsem.sources.Planewave(rx_list_tm, frequency=f) for f in frequencies]\n",
    "survey_tm = nsem.Survey(src_list_tm)\n",
    "\n",
    "act_map = maps.InjectActiveCells(mesh, ind_active, np.log(1e-8))\n",
    "exp_map = maps.ExpMap(mesh=mesh)\n",
    "sigma_map = exp_map * act_map\n",
    "\n",
    "sim_tm= nsem.simulation.Simulation2DElectricField(\n",
    "    mesh,\n",
    "    survey=survey_tm,\n",
    "    sigmaMap=sigma_map,\n",
    "    solver=Pardiso,\n",
    ")\n",
    "\n",
    "# simulation class for TE mode\n",
    "rx_list_te = [\n",
    "    nsem.receivers.PointNaturalSource(\n",
    "        rx_locs, orientation=\"yx\", component=\"apparent_resistivity\"\n",
    "    ),\n",
    "    nsem.receivers.PointNaturalSource(\n",
    "        rx_locs, orientation=\"yx\", component=\"phase\"\n",
    "    ),\n",
    "]\n",
    "src_list_te = [nsem.sources.Planewave(rx_list_te, frequency=f) for f in frequencies]\n",
    "survey_te = nsem.Survey(src_list_te)\n",
    "\n",
    "sim_te = nsem.simulation.Simulation2DMagneticField(\n",
    "    mesh,\n",
    "    survey=survey_te,\n",
    "    sigmaMap=sigma_map,\n",
    "    solver=Pardiso,\n",
    ")"
   ]
  },
  {
   "cell_type": "code",
   "execution_count": 36,
   "id": "0025b53a",
   "metadata": {},
   "outputs": [],
   "source": [
    "dobs_te = np.hstack((app_rho_te, phase_te)).flatten()\n",
    "dobs_tm = np.hstack((app_rho_tm, phase_tm)).flatten()\n",
    "\n",
    "std_te = np.hstack((app_rho_err_te, phase_err_te)).flatten()\n",
    "std_tm = np.hstack((app_rho_err_tm, phase_err_tm)).flatten()"
   ]
  },
  {
   "cell_type": "code",
   "execution_count": 37,
   "id": "86aec87c",
   "metadata": {},
   "outputs": [],
   "source": [
    "m0 = np.ones(ind_active.sum()) * np.log(1./rho_0)"
   ]
  },
  {
   "cell_type": "markdown",
   "id": "4806e4d4-b6fa-4d02-ba6c-5ca7cd433621",
   "metadata": {},
   "source": [
    "## Setup Inversion"
   ]
  },
  {
   "cell_type": "code",
   "execution_count": 38,
   "id": "9acc1ebb-cdb1-4c8e-947b-5241b1e14ab4",
   "metadata": {
    "iooxa": {
     "id": {
      "block": "jooCIWTXkEsG2QDbdYRO",
      "project": "BZ9XlZu3TFKIem4fwsfm",
      "version": 1
     },
     "outputId": {
      "block": "r64s82e8aDhQ3dZZROve",
      "project": "BZ9XlZu3TFKIem4fwsfm",
      "version": 1
     }
    }
   },
   "outputs": [],
   "source": [
    "te_data_object = data.Data(survey_te, dobs=dobs_te, standard_deviation=std_te) \n",
    "tm_data_object = data.Data(survey_tm, dobs=dobs_tm, standard_deviation=std_tm) \n",
    "dmis_te = data_misfit.L2DataMisfit(data=te_data_object, simulation=sim_te)\n",
    "dmis_tm = data_misfit.L2DataMisfit(data=tm_data_object, simulation=sim_tm)\n",
    "dmis = dmis_te + dmis_tm\n",
    "\n",
    "# Define the regularization (model objective function)\n",
    "reg = regularization.Sparse(\n",
    "    mesh,\n",
    "    indActive=ind_active,\n",
    "    reference_model=m0,\n",
    "    alpha_s=alpha_s,\n",
    "    alpha_x=alpha_y,\n",
    "    alpha_y=alpha_z,\n",
    "    mapping=maps.IdentityMap(nP=int(ind_active.sum()))\n",
    ")\n",
    "\n",
    "# Define how the optimization problem is solved. Here we will use an\n",
    "# Inexact Gauss Newton approach.\n",
    "opt = optimization.InexactGaussNewton(maxIter=maxIter, maxIterCG=30)\n",
    "\n",
    "# Here we define the inverse problem that is to be solved\n",
    "inv_prob = inverse_problem.BaseInvProblem(dmis, reg, opt)\n",
    "\n",
    "#######################################################################\n",
    "# Define MT Inversion Directives\n",
    "# ------------------------------\n",
    "#\n",
    "# Here we define any directives that are carried out during the inversion. This\n",
    "# includes the cooling schedule for the trade-off parameter (beta), stopping\n",
    "# criteria for the inversion and saving inversion results at each iteration.\n",
    "#\n",
    "\n",
    "# Defining a starting value for the trade-off parameter (beta) between the data\n",
    "# misfit and the regularization.\n",
    "starting_beta = directives.BetaEstimate_ByEig(beta0_ratio=1)\n",
    "\n",
    "# Set the rate of reduction in trade-off parameter (beta) each time the\n",
    "# the inverse problem is solved. And set the number of Gauss-Newton iterations\n",
    "# for each trade-off paramter value.\n",
    "beta_schedule = directives.BetaSchedule(coolingFactor=2, coolingRate=1)\n",
    "\n",
    "save_dictionary = directives.SaveOutputDictEveryIteration()\n",
    "save_dictionary.outDict = {}\n",
    "\n",
    "# Setting a stopping criteria for the inversion.\n",
    "target_misfit = directives.TargetMisfit(chifact=1e0)\n",
    "\n",
    "if use_irls:\n",
    "    reg.norms = [p_s, p_y, p_z]\n",
    "    # Reach target misfit for L2 solution, then use IRLS until model stops changing.\n",
    "    IRLS = directives.Update_IRLS(max_irls_iterations=40, minGNiter=1, f_min_change=1e-5)\n",
    "\n",
    "    # The directives are defined as a list.\n",
    "    directives_list = [\n",
    "        IRLS,\n",
    "        starting_beta,\n",
    "        save_dictionary,\n",
    "    ]\n",
    "else:\n",
    "    directives_list = [\n",
    "        starting_beta,\n",
    "        beta_schedule,\n",
    "        save_dictionary,\n",
    "        target_misfit,\n",
    "    ]\n",
    "\n",
    "    \n",
    "#####################################################################\n",
    "# Running the MT Inversion\n",
    "# ------------------------\n",
    "#\n",
    "# To define the inversion object, we need to define the inversion problem and\n",
    "# the set of directives. We can then run the inversion.\n",
    "#\n",
    "\n",
    "# Here we combine the inverse problem and the set of directives\n",
    "mt_inversion = inversion.BaseInversion(inv_prob, directiveList=directives_list)"
   ]
  },
  {
   "cell_type": "markdown",
   "id": "fe54ac1a-19a3-4067-9366-ceb1571315a5",
   "metadata": {},
   "source": [
    "# Run inversion"
   ]
  },
  {
   "cell_type": "code",
   "execution_count": null,
   "id": "8e226369-347b-4742-941a-c7862c3b760e",
   "metadata": {
    "iooxa": {
     "id": {
      "block": "jooCIWTXkEsG2QDbdYRO",
      "project": "BZ9XlZu3TFKIem4fwsfm",
      "version": 1
     },
     "outputId": {
      "block": "r64s82e8aDhQ3dZZROve",
      "project": "BZ9XlZu3TFKIem4fwsfm",
      "version": 1
     }
    }
   },
   "outputs": [
    {
     "name": "stdout",
     "output_type": "stream",
     "text": [
      "\n",
      "                        SimPEG.InvProblem is setting bfgsH0 to the inverse of the eval2Deriv.\n",
      "                        ***Done using same Solver, and solver_opts as the Simulation2DMagneticField problem***\n",
      "                        \n",
      "model has any nan: 0\n",
      "============================ Inexact Gauss Newton ============================\n",
      "  #     beta     phi_d     phi_m       f      |proj(x-g)-x|  LS    Comment   \n",
      "-----------------------------------------------------------------------------\n",
      "x0 has any nan: 0\n",
      "   0  2.01e+01  8.65e+08  0.00e+00  8.65e+08    7.07e+07      0              \n"
     ]
    }
   ],
   "source": [
    "%%time\n",
    "\n",
    "recovered_conductivity_model = mt_inversion.run(m0)"
   ]
  },
  {
   "cell_type": "code",
   "execution_count": null,
   "id": "61460e61",
   "metadata": {
    "editable": true,
    "slideshow": {
     "slide_type": ""
    },
    "tags": []
   },
   "outputs": [],
   "source": [
    "output_dict = save_dictionary.outDict\n",
    "target_misfit = (dobs_te.size+dobs_tm.size) / 2.\n",
    "iterations = list(output_dict.keys())\n",
    "n_iteration = len(iterations)\n",
    "phi_ds = np.zeros(n_iteration)\n",
    "phi_ms = np.zeros(n_iteration)\n",
    "betas = np.zeros(n_iteration)\n",
    "for ii, iteration in enumerate(iterations):\n",
    "    phi_ds[ii] = output_dict[iteration]['phi_d']\n",
    "    phi_ms[ii] = output_dict[iteration]['phi_m']\n",
    "    betas[ii] = output_dict[iteration]['beta']"
   ]
  },
  {
   "cell_type": "code",
   "execution_count": null,
   "id": "f15772bf",
   "metadata": {},
   "outputs": [],
   "source": [
    "import matplotlib\n",
    "matplotlib.rcParams['font.size'] = 14\n",
    "def tikhonov_curve(iteration, scale='log'):\n",
    "    fig, ax = plt.subplots(1,1, figsize=(5,5))\n",
    "    ax.plot(phi_ms, phi_ds)\n",
    "    ax.plot(phi_ms[iteration-1], phi_ds[iteration-1], 'ro')\n",
    "    ax.set_xlabel(\"$\\phi_m$\")\n",
    "    ax.set_ylabel(\"$\\phi_d$\")\n",
    "    if scale == 'log':\n",
    "        ax.set_xscale('log')\n",
    "        ax.set_yscale('log')\n",
    "    xlim = ax.get_xlim()\n",
    "    ax.plot(xlim, np.ones(2) * target_misfit, '--')\n",
    "    ax.set_title(\"Iteration={:d}, Beta = {:.1e}\".format(iteration, betas[iteration-1]))\n",
    "    ax.set_xlim(xlim)\n",
    "    plt.show()"
   ]
  },
  {
   "cell_type": "code",
   "execution_count": null,
   "id": "edcc7a0b",
   "metadata": {},
   "outputs": [],
   "source": [
    "from ipywidgets import interact, widgets\n",
    "Q_iter = interact(\n",
    "    tikhonov_curve, \n",
    "    iteration=widgets.IntSlider(min=1, max=int(n_iteration), value=n_iteration),\n",
    "    scale=widgets.RadioButtons(options=['linear', 'log'])\n",
    ")"
   ]
  },
  {
   "cell_type": "code",
   "execution_count": null,
   "id": "96321432",
   "metadata": {},
   "outputs": [],
   "source": [
    "from matplotlib.colors import LogNorm\n",
    "iteration = Q_iter.widget.kwargs['iteration']\n",
    "m = output_dict[iteration]['m']"
   ]
  },
  {
   "cell_type": "code",
   "execution_count": null,
   "id": "5d342691",
   "metadata": {},
   "outputs": [],
   "source": [
    "def foo_model(iteration):\n",
    "    fig, ax = plt.subplots(1,1, figsize=(10, 6))\n",
    "    m = output_dict[iteration]['m']\n",
    "    sigma = np.ones(mesh.nC) * 1e-8\n",
    "    sigma[ind_active] = np.exp(m)\n",
    "    sigma_min = 1e-3\n",
    "    sigma_max = 10\n",
    "    grid= False\n",
    "    out = mesh.plot_image(\n",
    "        sigma, grid=grid, ax=ax, pcolor_opts={'norm':LogNorm(vmin=sigma_min, vmax=sigma_max), 'cmap':'turbo'},\n",
    "        range_x=(-60000, 60000), range_y=(-30000, 0)\n",
    "    )\n",
    "    cb = plt.colorbar(out[0], fraction=0.01, ax=ax)\n",
    "    cb.set_label(\"Conductivity (S/m)\")\n",
    "    ax.set_aspect(1)\n",
    "    ax.set_xlabel(\"Easting (m)\")\n",
    "    ax.set_ylabel(\"Elevation (m)\")\n",
    "    ax.plot(rx_locs[:,0], rx_locs[:,1], 'ro')\n",
    "    #out = mesh_true.plot_image(\n",
    "    #    sigma_true, grid=grid, ax=ax1, pcolor_opts={'norm':LogNorm(vmin=sigma_min, vmax=sigma_max), 'cmap':'turbo'},\n",
    "    #    range_x=(-60000, 60000), range_y=(-30000, 0)\n",
    "    #)\n",
    "    #cb = plt.colorbar(out[0], fraction=0.01, ax=ax1)\n",
    "    #cb.set_label(\"Conductivity (S/m)\")\n",
    "    #ax1.set_aspect(1)\n",
    "    #ax1.set_xlabel(\"Easting (m)\")\n",
    "    #ax1.set_ylabel(\"Elevation (m)\")"
   ]
  },
  {
   "cell_type": "code",
   "execution_count": null,
   "id": "1b7cc244",
   "metadata": {},
   "outputs": [],
   "source": [
    "Q_misfit = interact(\n",
    "    foo_model, \n",
    "    iteration=widgets.IntSlider(min=1, max=n_iteration, value=iteration),\n",
    ")    "
   ]
  },
  {
   "cell_type": "code",
   "execution_count": null,
   "id": "07c67555",
   "metadata": {},
   "outputs": [],
   "source": [
    "pred_te = sim_te.dpred(m)\n",
    "pred_tm = sim_tm.dpred(m)"
   ]
  },
  {
   "cell_type": "code",
   "execution_count": null,
   "id": "46301f08",
   "metadata": {},
   "outputs": [],
   "source": [
    "n_freq = len(frequencies)\n",
    "n_rx = rx_locs.shape[0]"
   ]
  },
  {
   "cell_type": "code",
   "execution_count": null,
   "id": "794519b9",
   "metadata": {},
   "outputs": [],
   "source": [
    "PRED_te = pred_te.reshape((n_freq, 2, n_rx))\n",
    "PRED_tm = pred_tm.reshape((n_freq, 2, n_rx))\n",
    "\n",
    "rho_app_te_pred = PRED_te[:,0,:]\n",
    "rho_app_tm_pred = PRED_tm[:,0,:]\n",
    "\n",
    "phase_te_pred = PRED_te[:,1,:]\n",
    "phase_tm_pred = PRED_tm[:,1,:]\n",
    "\n",
    "DOBS_te = dobs_te.reshape((n_freq, 2, n_rx))\n",
    "DOBS_tm = dobs_tm.reshape((n_freq, 2, n_rx))\n",
    "\n",
    "rho_app_te_dobs = DOBS_te[:,0,:]\n",
    "rho_app_tm_dobs = DOBS_tm[:,0,:]\n",
    "\n",
    "phase_te_dobs = DOBS_te[:,1,:]\n",
    "phase_tm_dobs = DOBS_tm[:,1,:]"
   ]
  },
  {
   "cell_type": "code",
   "execution_count": null,
   "id": "9fb3b538",
   "metadata": {},
   "outputs": [],
   "source": [
    "def foo_pred(irx):\n",
    "    import matplotlib\n",
    "    matplotlib.rcParams['font.size'] = 10\n",
    "\n",
    "    fig, axs = plt.subplots(4,1, figsize=(8, 10))\n",
    "    ax1, ax2, ax3, ax4 = axs\n",
    "    ax1.loglog(1./frequencies, rho_app_te_pred[:, irx], color='C0')\n",
    "    ax1.loglog(1./frequencies, rho_app_te_dobs[:, irx], 'x', color='C0')\n",
    "    ax2.loglog(1./frequencies, rho_app_tm_pred[:, irx], color='C1')\n",
    "    ax2.loglog(1./frequencies, rho_app_tm_dobs[:, irx], 'x', color='C1')\n",
    "    for ax in axs[:2]:\n",
    "        ax.set_ylim(1, 1000)\n",
    "        ax.set_ylabel(\"App. Res. (Ohm-m)\")\n",
    "        ax.grid(which='both', alpha=0.3)\n",
    "    ax3.semilogx(1./frequencies, phase_te_pred[:, irx], color='C0')\n",
    "    ax3.semilogx(1./frequencies, phase_te_dobs[:, irx], 'x', color='C0')\n",
    "    ax4.semilogx(1./frequencies, phase_tm_pred[:, irx]+180, color='C1')\n",
    "    ax4.semilogx(1./frequencies, phase_tm_dobs[:, irx]+180, 'x', color='C1')\n",
    "    for ax in axs[2:]:\n",
    "        ax.set_ylim(0, 90)\n",
    "        ax.set_ylabel(\"Phase (degree)\")\n",
    "        ax.grid(which='both', alpha=0.3)\n",
    "    ax4.set_xlabel(\"Period (s)\")"
   ]
  },
  {
   "cell_type": "code",
   "execution_count": null,
   "id": "20fb9d8a",
   "metadata": {},
   "outputs": [],
   "source": [
    "Q_misfit = interact(\n",
    "    foo_pred, \n",
    "    irx=widgets.IntSlider(min=0, max=int(n_rx)-1, value=0),\n",
    ")"
   ]
  }
 ],
 "metadata": {
  "iooxa": {
   "id": {
    "block": "AmsQ22MsxNuusoFgNU4Z",
    "project": "BZ9XlZu3TFKIem4fwsfm",
    "version": 1
   }
  },
  "kernelspec": {
   "display_name": "Python 3 (ipykernel)",
   "language": "python",
   "name": "python3"
  },
  "language_info": {
   "codemirror_mode": {
    "name": "ipython",
    "version": 3
   },
   "file_extension": ".py",
   "mimetype": "text/x-python",
   "name": "python",
   "nbconvert_exporter": "python",
   "pygments_lexer": "ipython3",
   "version": "3.9.18"
  }
 },
 "nbformat": 4,
 "nbformat_minor": 5
}
