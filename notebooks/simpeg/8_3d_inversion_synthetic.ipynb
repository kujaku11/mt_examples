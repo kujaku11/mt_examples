{
 "cells": [
  {
   "cell_type": "markdown",
   "metadata": {},
   "source": [
    "# 3D Inversion: Synthetic Example\n",
    "\n",
    "In this example we well demonstrate how to create synthetic data through a forward simulation and then invert those data in 3D.  The example subsurface will include an L-shaped conductor at depth."
   ]
  },
  {
   "cell_type": "markdown",
   "metadata": {},
   "source": [
    "## Imports"
   ]
  },
  {
   "cell_type": "code",
   "execution_count": 1,
   "metadata": {
    "iooxa": {
     "id": {
      "block": "PoHPvGmrTNhOgB9x74Cp",
      "project": "q0ZJwGsqqSOExzgbnA6U",
      "version": 1
     },
     "outputId": null
    }
   },
   "outputs": [],
   "source": [
    "import numpy as np\n",
    "import warnings\n",
    "from scipy.spatial import cKDTree\n",
    "\n",
    "from SimPEG.electromagnetics import natural_source as nsem\n",
    "from SimPEG import (\n",
    "    maps, utils, data, optimization, maps, regularization, \n",
    "    inverse_problem, directives, inversion, data_misfit\n",
    ")\n",
    "\n",
    "## need pydiso to be installed for the pardiso solver.\n",
    "## from pymatsolver import Paradiso as Solver\n",
    "from pymatsolver import Solver\n",
    "import discretize\n",
    "from discretize.utils import mkvc, refine_tree_xyz\n",
    "\n",
    "import matplotlib.pyplot as plt\n",
    "from matplotlib.colors import LogNorm\n",
    "from ipywidgets import interact, widgets\n",
    "\n",
    "warnings.filterwarnings(\"ignore\", category=FutureWarning)"
   ]
  },
  {
   "cell_type": "markdown",
   "metadata": {},
   "source": [
    "## Setup the example grid\n",
    "\n",
    "Here we setup the example grid of stations.  We will assume that this is a regional survey where stations are spaced 8km."
   ]
  },
  {
   "cell_type": "code",
   "execution_count": 3,
   "metadata": {
    "iooxa": {
     "id": {
      "block": "Eg3ykZFpUred3QAY3oID",
      "project": "q0ZJwGsqqSOExzgbnA6U",
      "version": 1
     },
     "outputId": null
    }
   },
   "outputs": [
    {
     "data": {
      "image/png": "[encoded data removed]",
      "text/plain": [
       "<Figure size 500x500 with 1 Axes>"
      ]
     },
     "metadata": {},
     "output_type": "display_data"
    }
   ],
   "source": [
    "station_spacing = 8000\n",
    "# make station locations\n",
    "rx_x, rx_y = np.meshgrid(np.arange(0, 50000, station_spacing), np.arange(0, 50000, station_spacing))\n",
    "rx_loc = np.hstack((mkvc(rx_x, 2), mkvc(rx_y, 2), np.zeros((np.prod(rx_x.shape), 1))))\n",
    "\n",
    "fig, ax = plt.subplots(1,1, figsize=(5,5))\n",
    "ax.plot(rx_loc[:, 0], rx_loc[:, 1], '.')\n",
    "ax.set_aspect(1)"
   ]
  },
  {
   "cell_type": "markdown",
   "metadata": {},
   "source": [
    "## Create Model Mesh: Octree\n",
    "\n",
    "Commonly MT inversions are done on a structured grid where cell sizes are uniform across the station area.  However, if you have irregular station spacing this can be an issued because you would like to have a certain number of cells between stations to allow the inversion to fit the data.  Adaptive meshes allow you to discretize the mesh such that you can get a uniform number of cells between stations getting better sensitivity.  Here we use an octree mesh."
   ]
  },
  {
   "cell_type": "code",
   "execution_count": 17,
   "metadata": {},
   "outputs": [],
   "source": [
    "import discretize.utils as dis_utils\n",
    "from discretize import TreeMesh\n",
    "from geoana.em.fdem import skin_depth\n",
    "\n",
    "def get_octree_mesh(\n",
    "    rx_loc,                # location of the stations (x, y, z)\n",
    "    frequencies,           # frequencies being inverted used for skin depth\n",
    "    sigma_background,      # background conductivity or bulk apparent resistivity\n",
    "    station_spacing,       # station spacing (only used for this example) \n",
    "    factor_spacing=4,      # factor for cell spacing \n",
    "    factor_x_pad=2,        # factor to pad in the x-direction\n",
    "    factor_y_pad=2,        # factor to pad in the y-direction\n",
    "    factor_z_pad_down=2,   # factor to pad in the subsurface\n",
    "    factor_z_core=1,       # padding factor within the core model volume\n",
    "    factor_z_pad_up=1,     # padding factor in air\n",
    "    ):\n",
    "    \n",
    "    f_min =  frequencies.min()\n",
    "    f_max =  frequencies.max()\n",
    "    \n",
    "    # estimate total dimensions of grid\n",
    "    # number of skin depths to pad to in x, y, z+, z-, z-core\n",
    "    lx_pad = skin_depth(f_min, sigma_background) * factor_x_pad\n",
    "    ly_pad = skin_depth(f_min, sigma_background) * factor_y_pad\n",
    "    lz_pad_down = skin_depth(f_min, sigma_background) * factor_z_pad_down\n",
    "    lz_core = skin_depth(f_min, sigma_background) * factor_z_core\n",
    "    lz_pad_up = skin_depth(f_min, sigma_background) * factor_z_pad_up\n",
    "    \n",
    "    # estimate the total size of the core\n",
    "    lx_core = rx_loc[:,0].max() - rx_loc[:,0].min()\n",
    "    ly_core = rx_loc[:,1].max() - rx_loc[:,1].min()\n",
    "    \n",
    "    # estimate total size of the grid\n",
    "    lx = lx_pad + lx_core + lx_pad\n",
    "    ly = ly_pad + ly_core + ly_pad\n",
    "    lz = lz_pad_down + lz_core + lz_pad_up\n",
    "    \n",
    "    # estimate factors in x, y, z\n",
    "    dx = station_spacing / factor_spacing\n",
    "    dy = station_spacing / factor_spacing\n",
    "    dz = np.round(skin_depth(f_max, sigma_background) /4, decimals=-1)\n",
    "\n",
    "    # Compute number of base mesh cells required in x and y factor of 2\n",
    "    nbcx = 2 ** int(np.ceil(np.log(lx / dx) / np.log(2.0)))\n",
    "    nbcy = 2 ** int(np.ceil(np.log(ly / dy) / np.log(2.0)))\n",
    "    nbcz = 2 ** int(np.ceil(np.log(lz / dz) / np.log(2.0)))\n",
    "    \n",
    "    # build the mesh using discretize helpers\n",
    "    mesh = dis_utils.mesh_builder_xyz(\n",
    "        rx_loc, \n",
    "        [dx, dy, dz],\n",
    "        padding_distance=[[lx_pad, lx_pad], [ly_pad, ly_pad], [lz_pad_down, lz_pad_up]],\n",
    "        depth_core=lz_core,\n",
    "        mesh_type='tree'\n",
    "    )\n",
    "    X, Y = np.meshgrid(mesh.nodes_x, mesh.nodes_y)\n",
    "    topo = np.c_[X.flatten(), Y.flatten(), np.zeros(X.size)]\n",
    "    # refine around topography\n",
    "    mesh.refine_surface(topo, level=-1, padding_cells_by_level=[[0, 0, 2], [0, 0, 3]], finalize=False)\n",
    "\n",
    "    # refine around the stations\n",
    "    mesh.refine_points(rx_loc, level=-1, padding_cells_by_level=[1, 2, 1], finalize=True)   \n",
    "    return mesh"
   ]
  },
  {
   "cell_type": "markdown",
   "metadata": {},
   "source": [
    "### Build Mesh\n",
    "\n",
    "Using the above function build an octree mesh providing the station locations, minimum frequency"
   ]
  },
  {
   "cell_type": "code",
   "execution_count": 18,
   "metadata": {},
   "outputs": [],
   "source": [
    "mesh = get_octree_mesh(rx_loc, frequencies, 1e-2, station_spacing)"
   ]
  },
  {
   "cell_type": "markdown",
   "metadata": {},
   "source": [
    "### Add in Conductivity\n",
    "Set all cells above 0 (air cells) to a small background conductivity."
   ]
  },
  {
   "cell_type": "code",
   "execution_count": 19,
   "metadata": {},
   "outputs": [],
   "source": [
    "sigma_background = np.ones(mesh.nC) * 1e-8\n",
    "ind_active = mesh.cell_centers[:,2] < 0.\n",
    "sigma_background[ind_active] = 1e-2"
   ]
  },
  {
   "cell_type": "markdown",
   "metadata": {},
   "source": [
    "### Plot Mesh"
   ]
  },
  {
   "cell_type": "code",
   "execution_count": 20,
   "metadata": {},
   "outputs": [
    {
     "data": {
      "image/png": "[encoded data removed]",
      "text/plain": [
       "<Figure size 500x500 with 1 Axes>"
      ]
     },
     "metadata": {},
     "output_type": "display_data"
    }
   ],
   "source": [
    "fig, ax = plt.subplots(1,1, figsize=(5, 5))\n",
    "mesh.plot_slice(\n",
    "    sigma_background, grid=True, normal='X', ax=ax,\n",
    "    pcolor_opts={\"cmap\":\"turbo\", \"norm\":LogNorm(vmin=1e-4, vmax=10)},\n",
    "    grid_opts={\"lw\":0.1, \"color\":'k'}, \n",
    "    range_x=(rx_loc[:,0].min()-10000, rx_loc[:,0].max()+10000), \n",
    "    range_y=(-50000, 50000*0.1)\n",
    ")\n",
    "ax.plot(rx_loc[:,0], rx_loc[:,2], 'ro')\n",
    "ax.set_aspect(1)"
   ]
  },
  {
   "cell_type": "markdown",
   "metadata": {},
   "source": [
    "### Add in conductive body\n",
    "\n",
    "Add in an L-shape block."
   ]
  },
  {
   "cell_type": "code",
   "execution_count": 21,
   "metadata": {},
   "outputs": [],
   "source": [
    "## create target blocks\n",
    "ind_block_1 = utils.model_builder.getIndicesBlock([8000, 44000, -5000], [44000, 36000, -10000], mesh.gridCC)[0].tolist()\n",
    "ind_block_2 = utils.model_builder.getIndicesBlock([36000, 44000, -5000], [44000, 8000, -10000], mesh.gridCC)[0].tolist()\n",
    "\n",
    "sigma = sigma_background.copy()\n",
    "sigma[ind_block_1] = 1.\n",
    "sigma[ind_block_2] = 1."
   ]
  },
  {
   "cell_type": "code",
   "execution_count": 22,
   "metadata": {},
   "outputs": [
    {
     "data": {
      "image/png": "[encoded data removed]",
      "text/plain": [
       "<Figure size 500x500 with 1 Axes>"
      ]
     },
     "metadata": {},
     "output_type": "display_data"
    }
   ],
   "source": [
    "fig, ax = plt.subplots(1,1, figsize=(5, 5))\n",
    "mesh.plot_slice(\n",
    "    sigma, grid=True, normal='X', ax=ax,\n",
    "    pcolor_opts={\"cmap\":\"turbo\", \"norm\":LogNorm(vmin=1e-4, vmax=10)},\n",
    "    grid_opts={\"lw\":0.1, \"color\":'k'}, \n",
    "    range_x=(rx_loc[:,0].min()-5000, rx_loc[:,0].max()+5000), \n",
    "    range_y=(-50000, 50000*0.1)\n",
    ")\n",
    "ax.plot(rx_loc[:,0], rx_loc[:,2], 'ro')\n",
    "ax.set_aspect(1)"
   ]
  },
  {
   "cell_type": "code",
   "execution_count": 23,
   "metadata": {},
   "outputs": [
    {
     "data": {
      "image/png": "[encoded data removed]",
      "text/plain": [
       "<Figure size 500x500 with 1 Axes>"
      ]
     },
     "metadata": {},
     "output_type": "display_data"
    }
   ],
   "source": [
    "fig, ax = plt.subplots(1,1, figsize=(5, 5))\n",
    "mesh.plot_slice(\n",
    "    sigma, grid=True, normal='Z', ax=ax,\n",
    "    pcolor_opts={\"cmap\":\"turbo\", \"norm\":LogNorm(vmin=1e-3, vmax=1)},\n",
    "    grid_opts={\"lw\":0.1, \"color\":'k'}, \n",
    "    range_x=(rx_loc[:,0].min()-5000, rx_loc[:,0].max()+5000), \n",
    "    range_y=(rx_loc[:,0].min()-5000, rx_loc[:,0].max()+5000), \n",
    "    slice_loc=-7000.\n",
    ")\n",
    "ax.plot(rx_loc[:,0], rx_loc[:,1], 'ro')\n",
    "ax.set_aspect(1)"
   ]
  },
  {
   "cell_type": "markdown",
   "metadata": {},
   "source": [
    "## Generate Survey\n",
    "\n",
    "Here for each station we create objects to estimate the various fields for the different components of the impedance tensor and the induction vectors. "
   ]
  },
  {
   "cell_type": "code",
   "execution_count": 24,
   "metadata": {
    "iooxa": {
     "id": {
      "block": "Kg0KgTok8HdQGf9zPMwa",
      "project": "q0ZJwGsqqSOExzgbnA6U",
      "version": 1
     },
     "outputId": null
    }
   },
   "outputs": [],
   "source": [
    "# Generate a Survey\n",
    "frequencies = np.array([1e-1, 2])\n",
    "rx_list = []\n",
    "rx_orientations_impedance = ['xy', 'yx', 'xx', 'yy']\n",
    "for rx_orientation in rx_orientations_impedance:    \n",
    "    rx_list.append(     \n",
    "        nsem.receivers.PointNaturalSource(\n",
    "            rx_loc, orientation=rx_orientation, component=\"real\"\n",
    "        )\n",
    "    )\n",
    "    rx_list.append(\n",
    "        nsem.receivers.PointNaturalSource(\n",
    "            rx_loc, orientation=rx_orientation, component=\"imag\"\n",
    "        )\n",
    "    )\n",
    "rx_orientations_tipper = ['zx', 'zy']\n",
    "for rx_orientation in rx_orientations_tipper:    \n",
    "    rx_list.append(     \n",
    "        nsem.receivers.Point3DTipper(\n",
    "            rx_loc, orientation=rx_orientation, component=\"real\"\n",
    "        )\n",
    "    )\n",
    "    rx_list.append(\n",
    "        nsem.receivers.Point3DTipper(\n",
    "            rx_loc, orientation=rx_orientation, component=\"imag\"\n",
    "        )\n",
    "    )\n",
    "# Source list\n",
    "src_list = [nsem.sources.PlanewaveXYPrimary(rx_list, frequency=f) for f in frequencies]\n",
    "\n",
    "# Survey MT\n",
    "survey = nsem.Survey(src_list)"
   ]
  },
  {
   "cell_type": "markdown",
   "metadata": {},
   "source": [
    "Combine the components"
   ]
  },
  {
   "cell_type": "code",
   "execution_count": 11,
   "metadata": {},
   "outputs": [],
   "source": [
    "rx_orientations = rx_orientations_impedance + rx_orientations_tipper"
   ]
  },
  {
   "cell_type": "markdown",
   "metadata": {},
   "source": [
    "## Compute Forward Model"
   ]
  },
  {
   "cell_type": "code",
   "execution_count": 26,
   "metadata": {
    "iooxa": {
     "id": {
      "block": "eNah7BrGaxuJqzw0OOyf",
      "project": "q0ZJwGsqqSOExzgbnA6U",
      "version": 1
     },
     "outputId": null
    }
   },
   "outputs": [
    {
     "name": "stdout",
     "output_type": "stream",
     "text": [
      "CPU times: user 16min 26s, sys: 15.9 s, total: 16min 42s\n",
      "Wall time: 16min 48s\n"
     ]
    }
   ],
   "source": [
    "%%time\n",
    "# Set the mapping\n",
    "active_map = maps.InjectActiveCells(\n",
    "    mesh=mesh, indActive=ind_active, valInactive=np.log(1e-8)\n",
    ")\n",
    "mapping = maps.ExpMap(mesh) * active_map\n",
    "\n",
    "# True model \n",
    "m_true = np.log(sigma[ind_active])\n",
    "\n",
    "# Setup the problem object\n",
    "simulation = nsem.simulation.Simulation3DPrimarySecondary(\n",
    "    \n",
    "    mesh,\n",
    "    survey=survey,\n",
    "    sigmaMap=mapping,\n",
    "    sigmaPrimary=sigma_background,\n",
    "    solver=Solver\n",
    "\n",
    ")\n",
    "dpred = simulation.dpred(m_true)"
   ]
  },
  {
   "cell_type": "markdown",
   "metadata": {},
   "source": [
    "## Create Real Data\n",
    "\n",
    "We want to invert these data, but want to make them more or less real, so we add some error to the data with some random noise."
   ]
  },
  {
   "cell_type": "code",
   "execution_count": 13,
   "metadata": {},
   "outputs": [
    {
     "name": "stdout",
     "output_type": "stream",
     "text": [
      "CPU times: user 3.15 ms, sys: 506 µs, total: 3.65 ms\n",
      "Wall time: 2.66 ms\n"
     ]
    }
   ],
   "source": [
    "relative_error = 0.05\n",
    "n_rx = rx_loc.shape[0]\n",
    "n_freq = len(frequencies)\n",
    "n_component = 2\n",
    "n_orientation = len(rx_orientations)\n",
    "\n",
    "DOBS = dpred.reshape((n_freq, n_orientation, n_component, n_rx))\n",
    "DCLEAN = DOBS.copy()\n",
    "FLOOR = np.zeros_like(DOBS)\n",
    "FLOOR[:,2,0,:] = np.percentile(abs(DOBS[:,2,0,:].flatten()), 90) * 0.1\n",
    "FLOOR[:,2,1,:] = np.percentile(abs(DOBS[:,2,1,:].flatten()), 90) * 0.1\n",
    "FLOOR[:,3,0,:] = np.percentile(abs(DOBS[:,3,0,:].flatten()), 90) * 0.1\n",
    "FLOOR[:,3,1,:] = np.percentile(abs(DOBS[:,3,1,:].flatten()), 90) * 0.1\n",
    "FLOOR[:,4,0,:] = np.percentile(abs(DOBS[:,4,0,:].flatten()), 90) * 0.1\n",
    "FLOOR[:,4,1,:] = np.percentile(abs(DOBS[:,4,1,:].flatten()), 90) * 0.1\n",
    "FLOOR[:,5,0,:] = np.percentile(abs(DOBS[:,5,0,:].flatten()), 90) * 0.1\n",
    "FLOOR[:,5,1,:] = np.percentile(abs(DOBS[:,5,1,:].flatten()), 90) * 0.1\n",
    "STD = abs(DOBS) * relative_error + FLOOR\n",
    "# STD = (FLOOR)\n",
    "standard_deviation = STD.flatten()\n",
    "dobs = DOBS.flatten() \n",
    "dobs += abs(dobs) * relative_error * np.random.randn(dobs.size)\n",
    "DOBS = dobs.reshape((n_freq, n_orientation, n_component, n_rx))"
   ]
  },
  {
   "cell_type": "markdown",
   "metadata": {},
   "source": [
    "## Look at the Data"
   ]
  },
  {
   "cell_type": "code",
   "execution_count": 14,
   "metadata": {},
   "outputs": [],
   "source": [
    "components = ['Real', 'Imag']"
   ]
  },
  {
   "cell_type": "code",
   "execution_count": 15,
   "metadata": {},
   "outputs": [],
   "source": [
    "def foo_data(i_freq, i_orientation, i_component):\n",
    "    fig, ax = plt.subplots(1,1, figsize=(5, 5))\n",
    "    vmin = np.min([DOBS[i_freq, i_orientation, i_component,:].min(), DCLEAN[i_freq, i_orientation, i_component,:].min()])\n",
    "    vmax = np.max([DOBS[i_freq, i_orientation, i_component,:].max(), DCLEAN[i_freq, i_orientation, i_component,:].max()])\n",
    "    out1 = utils.plot2Ddata(rx_loc, DCLEAN[i_freq, i_orientation, i_component,:], clim=(vmin, vmax), ax=ax, contourOpts={'cmap':'turbo'}, ncontour=20)\n",
    "    ax.plot(rx_loc[:,0], rx_loc[:,1], 'kx')\n",
    "    if i_orientation<4:\n",
    "        transfer_type = \"Z\"\n",
    "    else:\n",
    "        transfer_type = \"T\"\n",
    "    ax.set_title(\"Frequency={:.1e}, {:s}{:s}-{:s}\".format(frequencies[i_freq], transfer_type, rx_orientations[i_orientation], components[i_component]))"
   ]
  },
  {
   "cell_type": "code",
   "execution_count": 16,
   "metadata": {},
   "outputs": [
    {
     "data": {
      "application/vnd.jupyter.widget-view+json": {
       "model_id": "133750008d784d688a682fce0acf238d",
       "version_major": 2,
       "version_minor": 0
      },
      "text/plain": [
       "interactive(children=(IntSlider(value=0, description='i_freq', max=1), IntSlider(value=0, description='i_orien…"
      ]
     },
     "metadata": {},
     "output_type": "display_data"
    },
    {
     "data": {
      "text/plain": [
       "<function __main__.foo_data(i_freq, i_orientation, i_component)>"
      ]
     },
     "execution_count": 16,
     "metadata": {},
     "output_type": "execute_result"
    }
   ],
   "source": [
    "interact(\n",
    "    foo_data,\n",
    "    i_freq=widgets.IntSlider(min=0, max=n_freq-1),\n",
    "    i_orientation=widgets.IntSlider(min=0, max=n_orientation-1), \n",
    "    i_component=widgets.IntSlider(min=0, max=n_component-1), \n",
    ")"
   ]
  },
  {
   "cell_type": "code",
   "execution_count": 17,
   "metadata": {
    "iooxa": {
     "id": {
      "block": "VRX59Q71h0w490BKkFLT",
      "project": "q0ZJwGsqqSOExzgbnA6U",
      "version": 1
     },
     "outputId": null
    }
   },
   "outputs": [],
   "source": [
    "# Assign uncertainties\n",
    "# make data object\n",
    "data_object = data.Data(survey, dobs=dobs, standard_deviation=standard_deviation)"
   ]
  },
  {
   "cell_type": "code",
   "execution_count": 18,
   "metadata": {
    "iooxa": {
     "id": {
      "block": "lK4jdZjag6Pks9Wz51Q5",
      "project": "q0ZJwGsqqSOExzgbnA6U",
      "version": 1
     },
     "outputId": null
    }
   },
   "outputs": [
    {
     "data": {
      "image/png": "[encoded data removed]",
      "text/plain": [
       "<Figure size 640x480 with 1 Axes>"
      ]
     },
     "metadata": {},
     "output_type": "display_data"
    }
   ],
   "source": [
    "# data_object.standard_deviation = stdnew.flatten()  # sim.survey.std\n",
    "plt.semilogy(abs(data_object.dobs), '.r')\n",
    "plt.semilogy((data_object.standard_deviation), 'k.', ms=1)\n",
    "plt.show()"
   ]
  },
  {
   "cell_type": "markdown",
   "metadata": {},
   "source": [
    "## Setup the Inverse Problem"
   ]
  },
  {
   "cell_type": "code",
   "execution_count": 19,
   "metadata": {
    "iooxa": {
     "id": {
      "block": "iGgCQqWfH27OCtRjzc81",
      "project": "q0ZJwGsqqSOExzgbnA6U",
      "version": 1
     },
     "outputId": null
    }
   },
   "outputs": [],
   "source": [
    "# Optimization\n",
    "opt = optimization.ProjectedGNCG(maxIter=10, maxIterCG=20, upper=np.inf, lower=-np.inf)\n",
    "opt.remember('xc')\n",
    "# Data misfit\n",
    "dmis = data_misfit.L2DataMisfit(data=data_object, simulation=simulation)\n",
    "# Regularization\n",
    "dz = mesh.h[2].min()\n",
    "dx = mesh.h[0].min()\n",
    "regmap = maps.IdentityMap(nP=int(ind_active.sum()))\n",
    "reg = regularization.Sparse(mesh, indActive=ind_active, mapping=regmap)\n",
    "reg.alpha_s = 1e-5\n",
    "reg.alpha_x = dz/dx\n",
    "reg.alpha_y = dz/dx\n",
    "reg.alpha_z = 1.\n",
    "\n",
    "# Inverse problem\n",
    "inv_prob = inverse_problem.BaseInvProblem(dmis, reg, opt)\n",
    "# Beta schedule\n",
    "beta = directives.BetaSchedule(coolingRate=1, coolingFactor=2)\n",
    "# Initial estimate of beta\n",
    "beta_est = directives.BetaEstimate_ByEig(beta0_ratio=1e0)\n",
    "# Target misfit stop\n",
    "target = directives.TargetMisfit()\n",
    "# Create an inversion object\n",
    "save_dictionary = directives.SaveOutputDictEveryIteration()\n",
    "directive_list = [beta, beta_est, target, save_dictionary]\n",
    "inv = inversion.BaseInversion(inv_prob, directiveList=directive_list)\n",
    "\n",
    "# Set an intitial guess\n",
    "m_0 = np.log(sigma_background[ind_active])"
   ]
  },
  {
   "cell_type": "code",
   "execution_count": null,
   "metadata": {
    "iooxa": {
     "id": {
      "block": "iGgCQqWfH27OCtRjzc81",
      "project": "q0ZJwGsqqSOExzgbnA6U",
      "version": 1
     },
     "outputId": null
    }
   },
   "outputs": [
    {
     "name": "stdout",
     "output_type": "stream",
     "text": [
      "SimPEG.InvProblem will set Regularization.reference_model to m0.\n",
      "SimPEG.InvProblem will set Regularization.reference_model to m0.\n",
      "SimPEG.InvProblem will set Regularization.reference_model to m0.\n",
      "SimPEG.InvProblem will set Regularization.reference_model to m0.\n",
      "\n",
      "                        SimPEG.InvProblem is setting bfgsH0 to the inverse of the eval2Deriv.\n",
      "                        ***Done using same Solver, and solver_opts as the Simulation3DPrimarySecondary problem***\n",
      "                        \n"
     ]
    }
   ],
   "source": [
    "%%time\n",
    "# Run the inversion\n",
    "mopt = inv.run(m_0)"
   ]
  },
  {
   "cell_type": "code",
   "execution_count": null,
   "metadata": {},
   "outputs": [],
   "source": [
    "target.target"
   ]
  },
  {
   "cell_type": "code",
   "execution_count": null,
   "metadata": {},
   "outputs": [],
   "source": [
    "# data_object.standard_deviation = stdnew.flatten()  # sim.survey.std\n",
    "plt.semilogy(abs(data_object.dobs), '.r')\n",
    "plt.semilogy(abs(inv_prob.dpred), 'k.', ms=1)\n",
    "plt.semilogy(abs(data_object.standard_deviation), 'b.', ms=1)\n",
    "plt.show()"
   ]
  },
  {
   "cell_type": "code",
   "execution_count": null,
   "metadata": {},
   "outputs": [],
   "source": [
    "iteration = len(save_dictionary.outDict)\n",
    "m = save_dictionary.outDict[iteration]['m']\n",
    "sigma_est = mapping*m\n",
    "pred = save_dictionary.outDict[iteration]['dpred']\n",
    "DPRED = pred.reshape((n_freq, n_orientation, n_component, n_rx))\n",
    "DOBS = dpred.reshape((n_freq, n_orientation, n_component, n_rx))\n",
    "MISFIT = (DPRED-DOBS)/STD"
   ]
  },
  {
   "cell_type": "code",
   "execution_count": null,
   "metadata": {},
   "outputs": [],
   "source": [
    "fig, axs = plt.subplots(1,2, figsize=(10, 5))\n",
    "ax1, ax2 = axs\n",
    "z_loc = -7000.\n",
    "y_loc = 10000.\n",
    "mesh.plot_slice(\n",
    "    sigma, grid=False, normal='Z', ax=ax1,\n",
    "    pcolor_opts={\"cmap\":\"turbo\", \"norm\":LogNorm(vmin=1e-3, vmax=1)},\n",
    "    range_x=(rx_loc[:,0].min()-5000, rx_loc[:,0].max()+5000), \n",
    "    range_y=(rx_loc[:,0].min()-5000, rx_loc[:,0].max()+5000), \n",
    "    slice_loc=z_loc\n",
    ")\n",
    "mesh.plot_slice(\n",
    "    sigma_est, grid=False, normal='Z', ax=ax2,\n",
    "    pcolor_opts={\"cmap\":\"turbo\", \"norm\":LogNorm(vmin=1e-3, vmax=1)},\n",
    "    range_x=(rx_loc[:,0].min()-5000, rx_loc[:,0].max()+5000), \n",
    "    range_y=(rx_loc[:,0].min()-5000, rx_loc[:,0].max()+5000), \n",
    "    slice_loc=z_loc\n",
    ")\n",
    "ax2.set_yticklabels([])\n",
    "for ax in axs:\n",
    "    ax.plot(rx_loc[:,0], rx_loc[:,1], 'kx')\n",
    "    ax.set_aspect(1)\n",
    "    ax.set_xlabel(\"Easting (m)\")\n",
    "    ax.set_ylabel(\"Northing (m)\")"
   ]
  },
  {
   "cell_type": "code",
   "execution_count": null,
   "metadata": {},
   "outputs": [],
   "source": [
    "fig, axs = plt.subplots(1,2, figsize=(10, 5))\n",
    "ax1, ax2 = axs\n",
    "lx_core = rx_loc[:,0].max() - rx_loc[:,0].min()\n",
    "mesh.plot_slice(\n",
    "    sigma, grid=False, normal='Y', ax=ax1,\n",
    "    pcolor_opts={\"cmap\":\"turbo\", \"norm\":LogNorm(vmin=1e-3, vmax=1)},\n",
    "    range_x=(rx_loc[:,0].min()-5000, rx_loc[:,0].max()+5000), \n",
    "    range_y=(-lx_core, lx_core*0.1),\n",
    "    slice_loc=y_loc\n",
    ")\n",
    "mesh.plot_slice(\n",
    "    sigma_est, grid=False, normal='Y', ax=ax2,\n",
    "    pcolor_opts={\"cmap\":\"turbo\", \"norm\":LogNorm(vmin=1e-3, vmax=1)},\n",
    "    range_x=(rx_loc[:,0].min()-5000, rx_loc[:,0].max()+5000), \n",
    "    range_y=(-lx_core, lx_core*0.1),\n",
    "    slice_loc=y_loc\n",
    ")\n",
    "ax2.set_yticklabels([])\n",
    "for ax in axs:\n",
    "    ax.plot(rx_loc[:,0], rx_loc[:,2], 'kx')\n",
    "    ax.set_aspect(1)\n",
    "    ax.set_xlabel(\"Easting (m)\")\n",
    "    ax.set_ylabel(\"Elevation (m)\")\n"
   ]
  },
  {
   "cell_type": "code",
   "execution_count": null,
   "metadata": {},
   "outputs": [],
   "source": [
    "from ipywidgets import interact, widgets"
   ]
  },
  {
   "cell_type": "code",
   "execution_count": null,
   "metadata": {},
   "outputs": [],
   "source": [
    "def foo_misfit(i_freq, i_orientation, i_component):\n",
    "    fig, axs = plt.subplots(1,3, figsize=(15, 5))\n",
    "    ax1, ax2, ax3 = axs\n",
    "\n",
    "    vmin = np.min([DOBS[i_freq, i_orientation, i_component,:].min(), DPRED[i_freq, i_orientation, i_component,:].min()])\n",
    "    vmax = np.max([DOBS[i_freq, i_orientation, i_component,:].max(), DPRED[i_freq, i_orientation, i_component,:].max()])\n",
    "\n",
    "    out1 = utils.plot2Ddata(rx_loc, DOBS[i_freq, i_orientation, i_component,:], clim=(vmin, vmax), ax=ax1, contourOpts={'cmap':'turbo'}, ncontour=20)\n",
    "    out2 = utils.plot2Ddata(rx_loc, DPRED[i_freq, i_orientation, i_component,:], clim=(vmin, vmax), ax=ax2, contourOpts={'cmap':'turbo'}, ncontour=20)\n",
    "    out3 = utils.plot2Ddata(rx_loc, MISFIT[i_freq, i_orientation, i_component,:], clim=(-5, 5), ax=ax3, contourOpts={'cmap':'turbo'}, ncontour=20)\n",
    "\n",
    "    ax.plot(rx_loc[:,0], rx_loc[:,1], 'kx')"
   ]
  },
  {
   "cell_type": "code",
   "execution_count": null,
   "metadata": {},
   "outputs": [],
   "source": [
    "interact(\n",
    "    foo_misfit,\n",
    "    i_freq=widgets.IntSlider(min=0, max=n_freq-1),\n",
    "    i_orientation=widgets.IntSlider(min=0, max=n_orientation-1), \n",
    "    i_component=widgets.IntSlider(min=0, max=n_component-1), \n",
    ")"
   ]
  },
  {
   "cell_type": "code",
   "execution_count": null,
   "metadata": {},
   "outputs": [],
   "source": [
    "models = {}\n",
    "models[\"estimated_sigma\"] = sigma_est\n",
    "models['true_sigma'] = sigma\n",
    "mesh.write_vtk(\"mt_synthetic\",models=models)"
   ]
  }
 ],
 "metadata": {
  "iooxa": {
   "id": {
    "block": "5HjFWgv11Z1VFqlzXxGk",
    "project": "q0ZJwGsqqSOExzgbnA6U",
    "version": 1
   }
  },
  "kernelspec": {
   "display_name": "Python 3 (ipykernel)",
   "language": "python",
   "name": "python3"
  },
  "language_info": {
   "codemirror_mode": {
    "name": "ipython",
    "version": 3
   },
   "file_extension": ".py",
   "mimetype": "text/x-python",
   "name": "python",
   "nbconvert_exporter": "python",
   "pygments_lexer": "ipython3",
   "version": "3.9.15"
  }
 },
 "nbformat": 4,
 "nbformat_minor": 4
}
